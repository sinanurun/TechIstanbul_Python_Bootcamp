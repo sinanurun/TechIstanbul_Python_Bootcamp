{
  "nbformat": 4,
  "nbformat_minor": 0,
  "metadata": {
    "colab": {
      "provenance": []
    },
    "kernelspec": {
      "name": "python3",
      "display_name": "Python 3"
    },
    "language_info": {
      "name": "python"
    }
  },
  "cells": [
    {
      "cell_type": "markdown",
      "source": [
        "#axis parametesi\n",
        "\n",
        "**Axis Nedir?**\n",
        "\n",
        "Axis, bir dizide işlem yapılacak boyutu/ekseni ifade eder.\n",
        "\n",
        "* Axis 0 (satırlar boyunca işlem)\n",
        "→ Sütunlar üzerinde işlem yapılır\n",
        "(Yani her sütun için işlem yapılır)\n",
        "\n",
        "* Axis 1 (sütırlar üzerinde işlem)\n",
        "→ Satırlar üzerinde işlem yapılır\n",
        "(Yani her satır için işlem yapılır)"
      ],
      "metadata": {
        "id": "HPHoOmFpcZaO"
      }
    },
    {
      "cell_type": "markdown",
      "source": [
        "Matrix:  \n",
        "[[ 1  2  3  4]   ← axis=1 → [1+2+3+4 = 10]  \n",
        " [ 5  6  7  8]   ← axis=1 → [5+6+7+8 = 26]    \n",
        " [ 9 10 11 12]]  ← axis=1 → [9+10+11+12 = 42]  \n",
        "\n",
        "  ↑  ↑  ↑  ↑  \n",
        "  |  |  |  |  \n",
        "  ↓  ↓  ↓  ↓  \n",
        "  [15,18,21,24]"
      ],
      "metadata": {
        "id": "4PXnX058dcR0"
      }
    },
    {
      "cell_type": "code",
      "execution_count": null,
      "metadata": {
        "colab": {
          "base_uri": "https://localhost:8080/"
        },
        "id": "J8Udlxf1XdKh",
        "outputId": "d419ed01-6a21-40d8-aa4d-53900978106d"
      },
      "outputs": [
        {
          "output_type": "stream",
          "name": "stdout",
          "text": [
            "Orijinal matrix:\n",
            " [[ 1  2  3  4]\n",
            " [ 5  6  7  8]\n",
            " [ 9 10 11 12]]\n",
            "shape: (3, 4)\n",
            "axis=0 (sütunlar boyunca):\n",
            "Sum: [15 18 21 24]\n",
            "Mean: [5. 6. 7. 8.]\n",
            "axis=1 (satırlar boyunca):\n",
            "Sum: [10 26 42]\n",
            "Mean: [ 2.5  6.5 10.5]\n"
          ]
        }
      ],
      "source": [
        "import numpy as np\n",
        "\n",
        "# 3x4'lük örnek matrix\n",
        "matrix = np.array([[1, 2, 3, 4],\n",
        "                   [5, 6, 7, 8],\n",
        "                   [9, 10, 11, 12]])\n",
        "\n",
        "print(\"Orijinal matrix:\\n\", matrix)\n",
        "print(\"shape:\", matrix.shape)  # (3, 4)\n",
        "\n",
        "# axis=0: Sütunlar boyunca (her sütundan bir değer)\n",
        "print(\"axis=0 (sütunlar boyunca):\")\n",
        "print(\"Sum:\", np.sum(matrix, axis=0))    # [1+5+9, 2+6+10, 3+7+11, 4+8+12] = [15, 18, 21, 24]\n",
        "print(\"Mean:\", np.mean(matrix, axis=0))  # [5, 6, 7, 8]\n",
        "\n",
        "# axis=1: Satırlar boyunca (her satırdan bir değer)\n",
        "print(\"axis=1 (satırlar boyunca):\")\n",
        "print(\"Sum:\", np.sum(matrix, axis=1))    # [1+2+3+4, 5+6+7+8, 9+10+11+12] = [10, 26, 42]\n",
        "print(\"Mean:\", np.mean(matrix, axis=1))  # [2.5, 6.5, 10.5]"
      ]
    },
    {
      "cell_type": "markdown",
      "source": [
        "#Dizilerde Toplama sum"
      ],
      "metadata": {
        "id": "S_rnFBc_e1_R"
      }
    },
    {
      "cell_type": "code",
      "source": [
        "import numpy as np\n",
        "\n",
        "# Basit bir dizi oluşturalım\n",
        "a = np.array([1, 2, 3, 4, 5])\n",
        "print(\"Dizi:\", a)\n",
        "\n",
        "# Tüm elemanların toplamı\n",
        "toplam = np.sum(a)\n",
        "print(\"Toplam:\", toplam)  # Çıktı: 15"
      ],
      "metadata": {
        "id": "HdxqVr76e9-J"
      },
      "execution_count": null,
      "outputs": []
    },
    {
      "cell_type": "code",
      "source": [
        "# 2 boyutlu dizi örneği\n",
        "b = np.array([[1, 2, 3],\n",
        "              [4, 5, 6]])\n",
        "\n",
        "print(\"2D dizi:\\n\", b)\n",
        "\n",
        "# Tüm elemanların toplamı\n",
        "print(\"Tüm elemanların toplamı:\", np.sum(b))  # 21\n",
        "\n",
        "# Satırların toplamı (axis=1)\n",
        "print(\"Satır toplamları:\", np.sum(b, axis=1))  # [6, 15]\n",
        "\n",
        "# Sütunların toplamı (axis=0)\n",
        "print(\"Sütun toplamları:\", np.sum(b, axis=0))  # [5, 7, 9]\n",
        "\n",
        "#np.sum() fonksiyonu, bir dizideki tüm elemanların toplamını verir.\n",
        "#Çok boyutlu dizilerde eksen (axis) belirleyerek\n",
        "#satır veya sütun bazında da toplam alabilirsiniz.\n",
        "\n",
        "#axis=0 → sütunlar boyunca işlem yapar (yani satırlar birleştirilir)\n",
        "#axis=1 → satırlar boyunca işlem yapar (yani sütunlar birleştirilir)"
      ],
      "metadata": {
        "id": "gVN7K_tVfDJh"
      },
      "execution_count": null,
      "outputs": []
    },
    {
      "cell_type": "markdown",
      "source": [
        "# ortalama hesaplama mean\n",
        "\n",
        "Not: Ortalama, toplam / eleman sayısı formülüyle hesaplanır. np.mean() otomatik olarak bunu yapar."
      ],
      "metadata": {
        "id": "QsOJj1JufRbk"
      }
    },
    {
      "cell_type": "code",
      "source": [
        "# Aynı diziyi kullanalım\n",
        "a = np.array([1, 2, 3, 4, 5])\n",
        "ortalama = np.mean(a)\n",
        "print(\"Ortalama:\", ortalama)  # 3.0\n",
        "\n",
        "np.median(a) #ortadaki değeri verir\n",
        "\n",
        "# 2D dizi ile\n",
        "b = np.array([[1, 2, 3],\n",
        "              [4, 5, 6]])\n",
        "\n",
        "print(\"Genel ortalama:\", np.mean(b))           # 3.5\n",
        "print(\"Satır ortalamaları:\", np.mean(b, axis=1))  # [2.0, 5.0]\n",
        "print(\"Sütun ortalamaları:\", np.mean(b, axis=0))  # [2.5, 3.5, 4.5]\n",
        "\n"
      ],
      "metadata": {
        "id": "NHy0-OBsfWXu"
      },
      "execution_count": null,
      "outputs": []
    },
    {
      "cell_type": "markdown",
      "source": [
        "#np.std() – Standart Sapma\n",
        "\n",
        "Standart sapma, verinin ne kadar dağınık olduğunu gösterir.\n",
        "\n",
        "Standart sapma hesaplanırken izlenecek adımlar:\n",
        "1) Verilerin aritmetik ortalaması bulunur\n",
        "2) Her bir veri ile aritmetik ortalama arasındaki fark bulunur.\n",
        "3) Bulunan farkların her birinin karesi alınır ve elde edilen sayılar toplanır.\n",
        "4) Bu toplam, veri sayısının 1 eksiğine bölünür ve bölümün karekökü bulunur.\n",
        "\n",
        "\n",
        "İpucu: Varsayılan olarak NumPy popülasyon standart sapmasını hesaplar (yani N'e böler). Örneklem standart sapması istiyorsanız ddof=1 parametresi ekleyin:\n",
        "`np.std(a, ddof=1)`"
      ],
      "metadata": {
        "id": "5iJLVAkcfdw5"
      }
    },
    {
      "cell_type": "code",
      "source": [
        "a = np.array([1, 2, 3, 4, 5])\n",
        "std = np.std(a)\n",
        "print(\"Standart sapma:\", std)  # yaklaşık 1.414\n",
        "\n",
        "# 2D dizi\n",
        "b = np.array([[1, 2, 3],\n",
        "              [4, 5, 6]])\n",
        "print(\"Genel standart sapma:\", np.std(b))\n",
        "print(\"Satır bazlı standart sapma:\", np.std(b, axis=1))\n",
        "print(\"Sütun bazlı standart sapma:\", np.std(b, axis=0))"
      ],
      "metadata": {
        "id": "ojzPkf0jfpqI"
      },
      "execution_count": null,
      "outputs": []
    },
    {
      "cell_type": "code",
      "source": [
        "# toplama, standart sapma ve ortalama, max - min\n",
        "\n",
        "import numpy as np\n",
        "\n",
        "# Deneme Verisi: 5 Öğrencinin 3 Sınavdan Aldığı Notlar (5x3 Matris)\n",
        "# Satırlar: Öğrenciler, Sütunlar: Sınavlar\n",
        "notlar = np.array([\n",
        "    [90, 85, 70],\n",
        "    [60, 75, 80],\n",
        "    [95, 90, 92],\n",
        "    [70, 65, 88],\n",
        "    [80, 70, 75]\n",
        "])\n",
        "print(\"Not Matrisi (5x3):\\n\", notlar)\n",
        "\n",
        "# a) Toplam (Sum): Tüm dizinin toplamı\n",
        "toplam_not = np.sum(notlar)\n",
        "print(f\"\\n1. Toplam Not: {toplam_not}\")\n",
        "\n",
        "# b) Ortalama (Mean): Tüm dizinin ortalaması\n",
        "ortalama_not = np.mean(notlar)\n",
        "print(f\"2. Genel Ortalama: {ortalama_not:.2f}\")\n",
        "\n",
        "# c) Standart Sapma (Std): Verilerin ortalamadan ne kadar saptığı\n",
        "std_sapma = np.std(notlar)\n",
        "print(f\"3. Standart Sapma: {std_sapma:.2f}\")\n",
        "\n",
        "# d) Min/Max: En küçük ve en büyük notlar\n",
        "min_not = np.min(notlar)\n",
        "max_not = np.max(notlar)\n",
        "print(f\"4. En Düşük Not: {min_not}\")\n",
        "print(f\"5. En Yüksek Not: {max_not}\")"
      ],
      "metadata": {
        "id": "rHwMIJEjhMBp"
      },
      "execution_count": null,
      "outputs": []
    },
    {
      "cell_type": "code",
      "source": [
        "# 1. axis=0: Sınav Ortalamaları (Sütunlar boyunca işlem yap)\n",
        "sinav_ortalamalari = notlar.mean(axis=0)\n",
        "print(f\"\\nSınav Ortalamaları (Axis=0):\\n{sinav_ortalamalari.round(2)}\")\n",
        "# Çıktı: [79.00 77.00 81.00] (Her bir sınavın ortalaması)\n",
        "\n",
        "# 2. axis=1: Öğrenci Ortalamaları (Satırlar boyunca işlem yap)\n",
        "ogrenci_ortalamalari = notlar.mean(axis=1)\n",
        "print(f\"Öğrenci Ortalamaları (Axis=1):\\n{ogrenci_ortalamalari.round(2)}\")\n",
        "# Çıktı: [81.67 71.67 92.33 74.33 75.00] (Her bir öğrencinin ortalaması)"
      ],
      "metadata": {
        "id": "3NbYTJ9Rhc3_"
      },
      "execution_count": null,
      "outputs": []
    },
    {
      "cell_type": "code",
      "source": [
        "# Argmin / Argmax: En küçük/büyük değerin KENDİSİNİN değil, İNDEKSİNİ döndürür.\n",
        "\n",
        "# Genel: Dizideki en büyük notun düzleştirilmiş indeksi\n",
        "en_yuksek_indeks = notlar.argmax()\n",
        "print(f\"\\nEn Yüksek Notun Genel İndeksi: {en_yuksek_indeks}\") # 7 (dizide 95'in konumu)\n",
        "\n",
        "# Axis=1: Her öğrencideki en yüksek notun sınav indeksini bulma\n",
        "en_yuksek_sinav_indeksi = notlar.argmax(axis=1)\n",
        "print(f\"Her Öğrenci İçin En Yüksek Sınav İndeksi (Axis=1): {en_yuksek_sinav_indeksi}\")\n",
        "# Çıktı: [0 2 0 2 0] -> 1. öğrenci 0. sınavda, 2. öğrenci 2. sınavda en yüksek almış.\n",
        "\n",
        "# Kümülatif İşlemler (cumsum): Birikimli Toplam\n",
        "# Gerçek Hayat Örneği: Günlük Satışların Kümülatif Toplamı\n",
        "gunluk_satislar = np.array([100, 150, 80, 200, 120])\n",
        "kumuletif_satis = gunluk_satislar.cumsum()\n",
        "print(f\"\\nKümülatif Satışlar: {kumuletif_satis}\")\n",
        "# Çıktı: [100 250 330 530 650]\n"
      ],
      "metadata": {
        "id": "ojgGkXGyhnzy"
      },
      "execution_count": null,
      "outputs": []
    },
    {
      "cell_type": "code",
      "source": [
        "#kümülatif çarpım birikimli çarpım\n",
        "growth = np.array([1.10, 1.20, 1.05])\n",
        "np.cumprod(growth)  # [1.10, 1.32, 1.386]\n"
      ],
      "metadata": {
        "id": "JPQITY6HiqGv"
      },
      "execution_count": null,
      "outputs": []
    },
    {
      "cell_type": "markdown",
      "source": [
        "Diğer istatistiki işlemler\n",
        "\n",
        "✔ diff() → ardışık farklar\n",
        "✔ sort() ve argsort() → sıralama ve indeks sıralama\n",
        "✔ unique() → benzersiz değerler\n",
        "✔ where() → koşullu indeksleme\n",
        "✔ percentile() → % değer analizi (istatistikte önemli)"
      ],
      "metadata": {
        "id": "SaREPEIoi4e0"
      }
    },
    {
      "cell_type": "code",
      "source": [
        "\"\"\"\n",
        "np.diff() → Ardışık Farklar\n",
        "\n",
        "Bir dizideki ardışık elemanlar arasındaki farkları döndürür.\n",
        "\"\"\"\n",
        "import numpy as np\n",
        "\n",
        "a = np.array([10, 15, 20, 18, 30])\n",
        "print(np.diff(a))\n"
      ],
      "metadata": {
        "colab": {
          "base_uri": "https://localhost:8080/"
        },
        "id": "eXXtWMjSjCRP",
        "outputId": "ae64d817-eea4-434b-9fea-22f8cdd32e9d"
      },
      "execution_count": null,
      "outputs": [
        {
          "output_type": "stream",
          "name": "stdout",
          "text": [
            "[ 5  5 -2 12]\n"
          ]
        }
      ]
    },
    {
      "cell_type": "markdown",
      "source": [
        "#sort() ve argsort() → Sıralama & İndeks Sırası"
      ],
      "metadata": {
        "id": "h4IpxrygjOGu"
      }
    },
    {
      "cell_type": "code",
      "source": [
        "x = np.array([3, 1, 5, 4])\n",
        "print(np.sort(x))\n",
        "print(np.argsort(x))\n"
      ],
      "metadata": {
        "colab": {
          "base_uri": "https://localhost:8080/"
        },
        "id": "C8koGT2TjRHm",
        "outputId": "b6286d3c-05e9-4f9b-d2a1-60a2412e76ba"
      },
      "execution_count": null,
      "outputs": [
        {
          "output_type": "stream",
          "name": "stdout",
          "text": [
            "[1 3 4 5]\n",
            "[1 0 3 2]\n"
          ]
        }
      ]
    },
    {
      "cell_type": "markdown",
      "source": [
        "#np.unique benzersiz değerler"
      ],
      "metadata": {
        "id": "BY4c1dAeja4e"
      }
    },
    {
      "cell_type": "code",
      "source": [
        "a = np.array([1,2,3,3,2,4,5,5])\n",
        "print(np.unique(a))\n",
        "\n",
        "\n",
        "#freakans almak için\n",
        "values, counts = np.unique(a, return_counts=True)\n",
        "print(values, counts)\n",
        "\n"
      ],
      "metadata": {
        "colab": {
          "base_uri": "https://localhost:8080/"
        },
        "id": "8qTkHS4cjf9n",
        "outputId": "f72d5973-f409-45a6-d2a1-63a1ef9d39cb"
      },
      "execution_count": null,
      "outputs": [
        {
          "output_type": "stream",
          "name": "stdout",
          "text": [
            "[1 2 3 4 5]\n",
            "[1 2 3 4 5] [1 2 2 1 2]\n"
          ]
        }
      ]
    },
    {
      "cell_type": "markdown",
      "source": [
        "np.percentile() → Yüzdelik Dilim Analizi\n",
        "\n",
        "İstatistikte kutucuk grafiği (boxplot) temelidir, ML ve veri analizinde çok önemli"
      ],
      "metadata": {
        "id": "DagXoZFLj7nG"
      }
    },
    {
      "cell_type": "code",
      "source": [
        "data = np.array([10, 20, 30, 40, 50, 60, 70, 80])\n",
        "\n",
        "print(np.percentile(data, 50))  # Median\n",
        "print(np.percentile(data, 25))  # Q1\n",
        "print(np.percentile(data, 75))  # Q3\n"
      ],
      "metadata": {
        "colab": {
          "base_uri": "https://localhost:8080/"
        },
        "id": "XgaziOpfj9Lo",
        "outputId": "37444500-d9f4-4823-b604-8af5fe0fd877"
      },
      "execution_count": null,
      "outputs": [
        {
          "output_type": "stream",
          "name": "stdout",
          "text": [
            "45.0\n",
            "27.5\n",
            "62.5\n"
          ]
        }
      ]
    },
    {
      "cell_type": "markdown",
      "source": [
        "# all ve any kullanımı"
      ],
      "metadata": {
        "id": "9WmbzXj_oCE0"
      }
    },
    {
      "cell_type": "code",
      "source": [
        "dizi = np.random.randint(1,10,(5,5))\n",
        "dizi\n",
        "\n",
        "np.all(dizi > 5)\n",
        "np.all(dizi > 2)\n",
        "\n",
        "np.any(dizi > 9)\n",
        "np.any(dizi > 8)\n"
      ],
      "metadata": {
        "colab": {
          "base_uri": "https://localhost:8080/"
        },
        "id": "pBNFfgt1oHF0",
        "outputId": "6de47ae9-f7a9-4e04-b687-e2a6c17d8fdd"
      },
      "execution_count": null,
      "outputs": [
        {
          "output_type": "execute_result",
          "data": {
            "text/plain": [
              "np.True_"
            ]
          },
          "metadata": {},
          "execution_count": 15
        }
      ]
    },
    {
      "cell_type": "markdown",
      "source": [
        "#np.where ile koşullu işlemler\n",
        "değer atama ve filtreleme de kullanılır"
      ],
      "metadata": {
        "id": "eNlver6kpMBE"
      }
    },
    {
      "cell_type": "code",
      "source": [
        "#Basit Kullanım: Koşul → Doğruysa X, Yanlışsa Y\n",
        "\n",
        "a = np.array([1, 2, 3, 4, 5])\n",
        "\n",
        "# Eleman 3'ten büyükse \"yüksek\", değilse \"düşük\" yaz\n",
        "sonuc = np.where(a > 3, \"yüksek\", \"düşük\")\n",
        "print(sonuc)  # ['düşük' 'düşük' 'düşük' 'yüksek' 'yüksek']"
      ],
      "metadata": {
        "id": "1ee1IKRHpX74"
      },
      "execution_count": null,
      "outputs": []
    },
    {
      "cell_type": "code",
      "source": [
        "#Sayısal Değerlerle Kullanım\n",
        "# Eleman 3'ten büyükse 100, değilse -100\n",
        "b = np.where(a > 3, 100, -100)\n",
        "print(b)  # [-100 -100 -100  100  100]"
      ],
      "metadata": {
        "id": "dk-c8lHDpk1I"
      },
      "execution_count": null,
      "outputs": []
    },
    {
      "cell_type": "code",
      "source": [
        "#Sadece Koşulu Sağlayan İndeksleri Bulma\n",
        "\n",
        "# a > 3 koşulunu sağlayan elemanların indekslerini al\n",
        "indeksler = np.where(a > 3)\n",
        "print(\"Koşulu sağlayan indeksler:\", indeksler[0])  # [3 4]\n",
        "\n",
        "# Bu indeksleri kullanarak değerleri alabiliriz\n",
        "print(\"Koşulu sağlayan değerler:\", a[indeksler])  # [4 5]\n",
        "\n",
        "\"\"\"\n",
        "\n",
        "Alternatif: a[a > 3] yazarak doğrudan filtreleme yapabilirsiniz.\n",
        "np.where daha esnektir çünkü üçlü (koşul, doğru, yanlış) kullanım sunar. \"\"\"\n"
      ],
      "metadata": {
        "id": "-exr_ih8pppE"
      },
      "execution_count": null,
      "outputs": []
    },
    {
      "cell_type": "code",
      "source": [
        "# Gerçek Hayat Örneği: Karlılık Sütunu Oluşturma\n",
        "# Kar: > 0, Zarar: < 0, Nötr: = 0\n",
        "gelirler = np.array([1000, 800, 1200, 950])\n",
        "maliyetler = np.array([850, 900, 1100, 950])\n",
        "\n",
        "kar_zarar = gelirler - maliyetler\n",
        "print(f\"Kar/Zarar: {kar_zarar}\") # [ 150 -100  100    0]\n",
        "\n",
        "# Koşullu Dönüşüm 1: Pozitifse 1, Negatifse -1, Sıfırsa 0\n",
        "kar_zarar_durumu = np.where(kar_zarar > 0, 1, # Kar varsa 1\n",
        "                           np.where(kar_zarar < 0, -1, 0)) # Zarar varsa -1, yoksa 0 (Nötr)\n",
        "print(f\"Kar/Zarar Durumu (1, -1, 0): {kar_zarar_durumu}\")\n",
        "\n",
        "# Gerçek Hayat Örneği 2: Veri Sınırlama (Outlier/Uç Değer Temizliği)\n",
        "# Notları en az 50 ve en fazla 100 ile sınırlama (50'den düşükse 50 yap)\n",
        "sinif_notlari = np.array([30, 75, 105, 45, 90])\n",
        "\n",
        "sinirlanmis_notlar = np.where(sinif_notlari < 50, 50, # 50'den düşükse 50 yap\n",
        "                              np.where(sinif_notlari > 100, 100, sinif_notlari)) # 100'den büyükse 100 yap, değilse kendi değerini koru\n",
        "print(f\"\\nSınırlı Notlar: {sinirlanmis_notlar}\")"
      ],
      "metadata": {
        "id": "iJrHyePNp1MJ"
      },
      "execution_count": null,
      "outputs": []
    },
    {
      "cell_type": "code",
      "source": [
        "#where karışık problemler\n",
        "\n",
        "print(\"\\n\" + \"=\"*60)\n",
        "print(\"=== 3. np.where() ve KOŞULLU İŞLEMLER ===\\n\")\n",
        "\n",
        "# Örnek: Öğrenci notları üzerinde koşullu işlemler\n",
        "ogrenci_notlari = np.array([45, 67, 82, 91, 58, 73, 39, 88, 76, 62, 55, 95])\n",
        "print(\"Öğrenci notları:\", ogrenci_notlari)\n",
        "\n",
        "# 3.1 TEMEL np.where() KULLANIMI\n",
        "print(\"\\n3.1 TEMEL np.where() KULLANIMI:\")\n",
        "\n",
        "# Koşul: Not 60 ve üzeri ise \"Geçti\", değilse \"Kaldı\"\n",
        "durumlar = np.where(ogrenci_notlari >= 60, \"Geçti\", \"Kaldı\")\n",
        "print(\"Durumlar:\", durumlar)\n",
        "\n",
        "# 3.2 İÇ İÇE np.where() - ÇOKLU KOŞULLAR\n",
        "print(\"\\n3.2 İÇ İÇE np.where() - HARF NOTLARI:\")\n",
        "\n",
        "harf_notlari = np.where(ogrenci_notlari >= 90, 'A',\n",
        "               np.where(ogrenci_notlari >= 80, 'B',\n",
        "               np.where(ogrenci_notlari >= 70, 'C',\n",
        "               np.where(ogrenci_notlari >= 60, 'D', 'F'))))\n",
        "\n",
        "print(\"Harf notları:\", harf_notlari)\n",
        "\n",
        "# 3.3 KOŞULU SAĞLAYAN İNDEKSLERİ BULMA\n",
        "print(\"\\n3.3 KOŞULU SAĞLAYAN İNDEKSLER:\")\n",
        "\n",
        "gecen_ogrenci_indeks = np.where(ogrenci_notlari >= 60)[0]\n",
        "kalan_ogrenci_indeks = np.where(ogrenci_notlari < 60)[0]\n",
        "\n",
        "print(f\"Geçen öğrenci indeksleri: {gecen_ogrenci_indeks}\")\n",
        "print(f\"Geçen öğrenci notları: {ogrenci_notlari[gecen_ogrenci_indeks]}\")\n",
        "print(f\"Kalan öğrenci sayısı: {len(kalan_ogrenci_indeks)}\")\n",
        "\n",
        "# 3.4 np.select() - DAHA OKUNABİLİR ÇOKLU KOŞULLAR\n",
        "print(\"\\n3.4 np.select() İLE ÇOKLU KOŞULLAR:\")\n",
        "\n",
        "kosullar = [\n",
        "    ogrenci_notlari >= 90,                    # Koşul 1: A\n",
        "    (ogrenci_notlari >= 80) & (ogrenci_notlari < 90),  # Koşul 2: B\n",
        "    (ogrenci_notlari >= 70) & (ogrenci_notlari < 80),  # Koşul 3: C\n",
        "    (ogrenci_notlari >= 60) & (ogrenci_notlari < 70),  # Koşul 4: D\n",
        "    ogrenci_notlari < 60                      # Koşul 5: F\n",
        "]\n",
        "\n",
        "secimler = ['Mükemmel', 'İyi', 'Orta', 'Geçer', 'Başarısız']\n",
        "\n",
        "derecelendirme = np.select(kosullar, secimler, default='Belirsiz')\n",
        "print(\"Derecelendirme:\", derecelendirme)\n",
        "\n",
        "# 3.5 KOŞULLU DEĞER ATAMA ve FİLTRELEME\n",
        "print(\"\\n3.5 KOŞULLU DEĞER ATAMA:\")\n",
        "\n",
        "# Notları 10 puanlık dilimlere göre kategorize etme\n",
        "not_dilimleri = np.digitize(ogrenci_notlari, bins=[0, 50, 60, 70, 80, 90, 100])\n",
        "dilim_etiketleri = ['0-49', '50-59', '60-69', '70-79', '80-89', '90-100']\n",
        "kategorize_notlar = [dilim_etiketleri[i-1] for i in not_dilimleri]\n",
        "\n",
        "print(\"Not dilimleri:\", kategorize_notlar)\n",
        "\n",
        "# 3.6 GERÇEK HAYAT UYGULAMASI: MAAŞ ZAM HESAPLAMA\n",
        "print(\"\\n3.6 GERÇEK HAYAT UYGULAMASI - MAAŞ ZAM HESAPLAMA:\")\n",
        "\n",
        "calisan_maaslari = np.array([25000, 32000, 18000, 45000, 28000, 38000, 22000])\n",
        "calisan_performans = np.array([85, 92, 65, 95, 78, 88, 72])  # 0-100 arası\n",
        "\n",
        "# Performansa göre zam oranları\n",
        "zam_oranlari = np.where(calisan_performans >= 90, 0.15,        # %15 zam\n",
        "               np.where(calisan_performans >= 80, 0.10,        # %10 zam\n",
        "               np.where(calisan_performans >= 70, 0.05, 0.02))) # %5 veya %2 zam\n",
        "\n",
        "yeni_maaslar = calisan_maaslari * (1 + zam_oranlari)\n",
        "\n",
        "print(\"Eski maaşlar:\", calisan_maaslari)\n",
        "print(\"Performans puanları:\", calisan_performans)\n",
        "print(\"Zam oranları:\", zam_oranlari)\n",
        "print(\"Yeni maaşlar:\", yeni_maaslar.astype(int))\n",
        "\n",
        "\"\"\"\n",
        "PERFORMANS KARŞILAŞTIRMASI:\n",
        "NumPy (Vektörel) vs Python (Döngülü)\n",
        "\n",
        "NumPy avantajları:\n",
        "- Daha hızlı (C seviyesinde optimize)\n",
        "- Daha az bellek kullanımı\n",
        "- Daha okunabilir kod\n",
        "- Paralel işlem avantajı\n",
        "\"\"\""
      ],
      "metadata": {
        "colab": {
          "base_uri": "https://localhost:8080/",
          "height": 602
        },
        "id": "x6EpRMiQtjPJ",
        "outputId": "9923b2fc-517b-4f83-9710-714a845c6480"
      },
      "execution_count": null,
      "outputs": [
        {
          "output_type": "stream",
          "name": "stdout",
          "text": [
            "\n",
            "============================================================\n",
            "=== 3. np.where() ve KOŞULLU İŞLEMLER ===\n",
            "\n",
            "Öğrenci notları: [45 67 82 91 58 73 39 88 76 62 55 95]\n",
            "\n",
            "3.1 TEMEL np.where() KULLANIMI:\n",
            "Durumlar: ['Kaldı' 'Geçti' 'Geçti' 'Geçti' 'Kaldı' 'Geçti' 'Kaldı' 'Geçti' 'Geçti'\n",
            " 'Geçti' 'Kaldı' 'Geçti']\n",
            "\n",
            "3.2 İÇ İÇE np.where() - HARF NOTLARI:\n",
            "Harf notları: ['F' 'D' 'B' 'A' 'F' 'C' 'F' 'B' 'C' 'D' 'F' 'A']\n",
            "\n",
            "3.3 KOŞULU SAĞLAYAN İNDEKSLER:\n",
            "Geçen öğrenci indeksleri: [ 1  2  3  5  7  8  9 11]\n",
            "Geçen öğrenci notları: [67 82 91 73 88 76 62 95]\n",
            "Kalan öğrenci sayısı: 4\n",
            "\n",
            "3.4 np.select() İLE ÇOKLU KOŞULLAR:\n",
            "Derecelendirme: ['Başarısız' 'Geçer' 'İyi' 'Mükemmel' 'Başarısız' 'Orta' 'Başarısız' 'İyi'\n",
            " 'Orta' 'Geçer' 'Başarısız' 'Mükemmel']\n",
            "\n",
            "3.5 KOŞULLU DEĞER ATAMA:\n",
            "Not dilimleri: ['0-49', '60-69', '80-89', '90-100', '50-59', '70-79', '0-49', '80-89', '70-79', '60-69', '50-59', '90-100']\n",
            "\n",
            "3.6 GERÇEK HAYAT UYGULAMASI - MAAŞ ZAM HESAPLAMA:\n",
            "Eski maaşlar: [25000 32000 18000 45000 28000 38000 22000]\n",
            "Performans puanları: [85 92 65 95 78 88 72]\n",
            "Zam oranları: [0.1  0.15 0.02 0.15 0.05 0.1  0.05]\n",
            "Yeni maaşlar: [27500 36800 18360 51749 29400 41800 23100]\n"
          ]
        },
        {
          "output_type": "execute_result",
          "data": {
            "text/plain": [
              "'\\nPERFORMANS KARŞILAŞTIRMASI:\\nNumPy (Vektörel) vs Python (Döngülü)\\n\\nNumPy avantajları:\\n- Daha hızlı (C seviyesinde optimize)\\n- Daha az bellek kullanımı\\n- Daha okunabilir kod\\n- Paralel işlem avantajı\\n'"
            ],
            "application/vnd.google.colaboratory.intrinsic+json": {
              "type": "string"
            }
          },
          "metadata": {},
          "execution_count": 23
        }
      ]
    },
    {
      "cell_type": "markdown",
      "source": [
        "#np.nan Not a Number\n",
        "\n",
        "np.nan (Not a Number), kayıp veya tanımsız sayısal veriyi temsil eder.\n",
        "\n",
        "Gerçek dünya verilerinde eksik veri (NaN – Not a Number) sık karşılaşılan bir durumdur."
      ],
      "metadata": {
        "id": "zNA6rpYRqHNO"
      }
    },
    {
      "cell_type": "code",
      "source": [
        "# np.nan bir özel değerdir\n",
        "print(np.nan)  # nan\n",
        "\n",
        "# np.nan ile herhangi bir karşılaştırma False döner!\n",
        "print(np.nan == np.nan)  # False ❗\n",
        "print(np.nan is np.nan)  # True (ama bu güvenilmez)\n",
        "\n",
        "# Doğru kontrol: np.isnan()\n",
        "print(np.isnan(np.nan))  # True"
      ],
      "metadata": {
        "id": "d-Yr10u0qTI5"
      },
      "execution_count": null,
      "outputs": []
    },
    {
      "cell_type": "code",
      "source": [
        "#nan ile istatistik\n",
        "\n",
        "veri = np.array([1, 2, np.nan, 4, 5])\n",
        "print(\"Veri:\", veri)\n",
        "\n",
        "# Normal ortalama → nan döner!\n",
        "print(\"Normal ortalama:\", np.mean(veri))  # nan\n",
        "\n",
        "# NaN'leri yok sayarak ortalama → np.nanmean()\n",
        "print(\"NaN'leri yok sayarak ortalama:\", np.nanmean(veri))  # 3.0\n",
        "\n",
        "# Benzer şekilde:\n",
        "print(\"Toplam (NaN yok sayılır):\", np.nansum(veri))      # 12.0\n",
        "print(\"Standart sapma (NaN yok sayılır):\", np.nanstd(veri))  # ~1.58\n",
        "\n",
        "#Kural: np.nan içeren dizilerde\n",
        "#np.nan... fonksiyonlarını kullanın (nanmean, nanstd, nansum vb.)"
      ],
      "metadata": {
        "id": "QX3HxFw-qgC0"
      },
      "execution_count": null,
      "outputs": []
    },
    {
      "cell_type": "code",
      "source": [
        "# Eğer değer 3'ten küçükse nan, değilse kendisi kalsın\n",
        "veri2 = np.where(veri < 3, np.nan, veri)\n",
        "print(\"Yeni veri:\", veri2)  # [nan nan nan 4. 5.]\n",
        "\n",
        "# Ortalamayı alalım (nan'leri yok sayarak)\n",
        "print(\"Ortalama:\", np.nanmean(veri2))  # 4.5"
      ],
      "metadata": {
        "id": "cra9cRxhq8GS"
      },
      "execution_count": null,
      "outputs": []
    },
    {
      "cell_type": "code",
      "source": [
        "# Kayıp veri içeren bir dizi oluşturma\n",
        "veri_nan = np.array([10, 20, np.nan, 40, 50])\n",
        "print(f\"Kayıp Veri İçeren Dizi: {veri_nan}\")\n",
        "\n",
        "# Standart istatistikler NAN ile çalışmaz!\n",
        "ortalama_normal = np.mean(veri_nan)\n",
        "print(f\"\\nNormal Ortalama (np.nan nedeniyle bozulur): {ortalama_normal}\")\n",
        "# Çıktı: nan\n",
        "\n",
        "# np.isnan(): Hangi elemanların kayıp olduğunu kontrol etme\n",
        "nan_maskesi = np.isnan(veri_nan)\n",
        "print(f\"np.isnan() Maskesi: {nan_maskesi}\")\n",
        "# Çıktı: [False False  True False False]"
      ],
      "metadata": {
        "id": "Squlb7Uwqus5"
      },
      "execution_count": null,
      "outputs": []
    },
    {
      "cell_type": "code",
      "source": [
        "# Nan-aware İstatistikler: Kayıp veriyi atlayarak doğru sonucu alma\n",
        "ortalama_nan_aware = np.nanmean(veri_nan)\n",
        "print(f\"Nan-Aware Ortalama (np.nanmean): {ortalama_nan_aware:.2f}\")\n",
        "# Çıktı: 30.00 ( (10+20+40+50) / 4 )\n",
        "\n",
        "# Nan-aware Toplam\n",
        "toplam_nan_aware = np.nansum(veri_nan)\n",
        "print(f\"Nan-Aware Toplam (np.nansum): {toplam_nan_aware}\")\n",
        "# Çıktı: 120.0"
      ],
      "metadata": {
        "id": "6OvTTBQMq0RL"
      },
      "execution_count": null,
      "outputs": []
    },
    {
      "cell_type": "code",
      "source": [
        "#nan karışık örnekler\n",
        "\n",
        "print(\"\\n\" + \"=\"*60)\n",
        "print(\"=== 4. NaN DEĞERLERİ ve EKSİK VERİ YÖNETİMİ ===\\n\")\n",
        "\n",
        "# 4.1 NaN OLUŞTURMA ve TESPİT ETME\n",
        "print(\"4.1 NaN OLUŞTURMA ve TESPİT ETME:\")\n",
        "\n",
        "# Sensör verisi örneği (bazı ölçümler başarısız)\n",
        "sensor_verisi = np.array([23.5, 24.1, np.nan, 25.8, np.nan, 26.3, 24.9, np.nan, 25.5])\n",
        "print(\"Sensör verisi (NaN'lar ile):\", sensor_verisi)\n",
        "\n",
        "# NaN tespit fonksiyonları\n",
        "nan_maskesi = np.isnan(sensor_verisi)\n",
        "print(\"NaN maskesi (True=NaN):\", nan_maskesi)\n",
        "print(\"Toplam NaN sayısı:\", np.sum(nan_maskesi))\n",
        "\n",
        "# NaN olmayan değerleri seçme\n",
        "gecerli_veri = sensor_verisi[~nan_maskesi]  # ~ operatörü: DEĞİL\n",
        "print(\"Geçerli veri:\", gecerli_veri)\n",
        "\n",
        "# 4.2 NaN DOSTU İSTATİSTİKSEL FONKSİYONLAR\n",
        "print(\"\\n4.2 NaN DOSTU FONKSİYONLAR:\")\n",
        "\n",
        "print(\"Normal ortalama (NaN'ler hata verir):\", np.mean(sensor_verisi))\n",
        "print(\"NaN dostu ortalama:\", np.nanmean(sensor_verisi))\n",
        "print(\"NaN dostu standart sapma:\", np.nanstd(sensor_verisi))\n",
        "print(\"NaN dostu toplam:\", np.nansum(sensor_verisi))\n",
        "print(\"NaN dostu minimum:\", np.nanmin(sensor_verisi))\n",
        "\n",
        "# 4.3 EKSİK VERİ DOLDURMA STRATEJİLERİ\n",
        "print(\"\\n4.3 EKSİK VERİ DOLDURMA STRATEJİLERİ:\")\n",
        "\n",
        "# Strateji 1: Sabit değerle doldurma\n",
        "doldurulmus_1 = sensor_verisi.copy()\n",
        "doldurulmus_1[nan_maskesi] = 0\n",
        "print(\"1. Sıfır ile doldurma:\", doldurulmus_1)\n",
        "\n",
        "# Strateji 2: Ortalama ile doldurma\n",
        "ortalama_deger = np.nanmean(sensor_verisi)\n",
        "doldurulmus_2 = sensor_verisi.copy()\n",
        "doldurulmus_2[nan_maskesi] = ortalama_deger\n",
        "print(\"2. Ortalama ile doldurma:\", doldurulmus_2)\n",
        "\n",
        "# Strateji 3: Medyan ile doldurma\n",
        "medyan_deger = np.nanmedian(sensor_verisi)\n",
        "doldurulmus_3 = sensor_verisi.copy()\n",
        "doldurulmus_3[nan_maskesi] = medyan_deger\n",
        "print(\"3. Medyan ile doldurma:\", doldurulmus_3)\n",
        "\n",
        "# 4.4 DOĞRUSAL İNTERPOLASYON\n",
        "print(\"\\n4.4 DOĞRUSAL İNTERPOLASYON:\")\n",
        "\n",
        "def linear_interpolate(dizi):\n",
        "    \"\"\"NaN değerleri doğrusal interpolasyon ile doldurur\"\"\"\n",
        "    nans = np.isnan(dizi)\n",
        "    # NaN olmayan indeksleri bul\n",
        "    x = lambda z: z.nonzero()[0]\n",
        "    # Interpolasyon uygula\n",
        "    dizi[nans] = np.interp(x(nans), x(~nans), dizi[~nans])\n",
        "    return dizi\n",
        "\n",
        "interpole_veri = linear_interpolate(sensor_verisi.copy())\n",
        "print(\"İnterpolasyon ile doldurulmuş:\", interpole_veri)\n",
        "\n",
        "# 4.5 SONSUZ DEĞERLERLE ÇALIŞMA\n",
        "print(\"\\n4.5 SONSUZ DEĞERLERLE ÇALIŞMA:\")\n",
        "\n",
        "sonsuz_dizi = np.array([1, 2, np.inf, 4, -np.inf, 6, np.nan])\n",
        "print(\"Orijinal dizi:\", sonsuz_dizi)\n",
        "print(\"Sonsuz değerler:\", np.isinf(sonsuz_dizi))\n",
        "print(\"Sonlu değerler:\", np.isfinite(sonsuz_dizi))\n",
        "print(\"NaN değerler:\", np.isnan(sonsuz_dizi))\n",
        "\n",
        "# Sonsuz değerleri temizleme\n",
        "sonlu_veri = sonsuz_dizi[np.isfinite(sonsuz_dizi)]\n",
        "print(\"Sonlu değerler:\", sonlu_veri)\n",
        "\n",
        "# 4.6 GERÇEK HAYAT UYGULAMASI: HAVA DURUMU VERİSİ\n",
        "print(\"\\n4.6 GERÇEK HAYAT UYGULAMASI - HAVA DURUMU VERİSİ:\")\n",
        "\n",
        "# 7 günlük sıcaklık verisi (bazı günler ölçüm yapılamamış)\n",
        "sicaklik_verisi = np.array([22.5, np.nan, 24.1, 23.8, np.nan, 25.2, 24.7])\n",
        "print(\"Ham sıcaklık verisi:\", sicaklik_verisi)\n",
        "\n",
        "# Eksik veri analizi\n",
        "print(\"Eksik veri sayısı:\", np.sum(np.isnan(sicaklik_verisi)))\n",
        "print(\"Eksik veri oranı: %{:.1f}\".format(np.mean(np.isnan(sicaklik_verisi)) * 100))\n",
        "\n",
        "# Çoklu doldurma stratejileri karşılaştırması\n",
        "strategiler = {\n",
        "    'Ortalama': np.nanmean(sicaklik_verisi),\n",
        "    'Medyan': np.nanmedian(sicaklik_verisi),\n",
        "    'Komşu Ortalama': np.nanmean([22.5, 24.1]),  # Önceki ve sonraki değerler\n",
        "    'Mevsimsel Ortalama': 23.0  # Tarihsel veri\n",
        "}\n",
        "\n",
        "print(\"\\nDoldurma stratejileri karşılaştırması:\")\n",
        "for strateji, deger in strategiler.items():\n",
        "    tam_veri = sicaklik_verisi.copy()\n",
        "    tam_veri[np.isnan(sicaklik_verisi)] = deger\n",
        "    print(f\"  {strateji}: {tam_veri}\")\n",
        "\n",
        "\"\"\"\n",
        "EKSİK VERİ STRATEJİ SEÇİMİ:\n",
        "- Küçük veri setleri: İnterpolasyon veya komşu değerler\n",
        "- Büyük veri setleri: Ortalama/Medyan doldurma\n",
        "- Zaman serileri: Önceki değerle doldurma (forward fill)\n",
        "- Kritik uygulamalar: Çoklu imputation yöntemleri\n",
        "\"\"\""
      ],
      "metadata": {
        "id": "SzPzD6Mkts8y"
      },
      "execution_count": null,
      "outputs": []
    },
    {
      "cell_type": "markdown",
      "source": [
        "# np.loadtxt() ile dosya işlemleri:"
      ],
      "metadata": {
        "id": "9TuvAh8_rBzb"
      }
    },
    {
      "cell_type": "code",
      "source": [
        "#colab üzerinde dosya oluşturma\n",
        "# Örnek veri dosyası oluşturalım\n",
        "veri_icerik = \"\"\"1.0,2.0,3.0\n",
        "4.0,5.0,6.0\n",
        "7.0,8.0,9.0\"\"\"\n",
        "\n",
        "# Dosyayı kaydedelim\n",
        "with open('veri.csv', 'w') as f:\n",
        "    f.write(veri_icerik)\n",
        "\n",
        "print(\"veri.csv dosyası oluşturuldu.\")"
      ],
      "metadata": {
        "colab": {
          "base_uri": "https://localhost:8080/"
        },
        "id": "5aQTQ439rJ_r",
        "outputId": "7d326b57-5353-443a-de6b-0b01382de8b1"
      },
      "execution_count": null,
      "outputs": [
        {
          "output_type": "stream",
          "name": "stdout",
          "text": [
            "veri.csv dosyası oluşturuldu.\n"
          ]
        }
      ]
    },
    {
      "cell_type": "code",
      "source": [
        "# Virgülle ayrılmış veriyi okuyalım\n",
        "veri = np.loadtxt('veri.csv', delimiter=',')\n",
        "print(\"Okunan veri:\\n\", veri)\n",
        "print(\"Shape:\", veri.shape)  # (3, 3)"
      ],
      "metadata": {
        "colab": {
          "base_uri": "https://localhost:8080/"
        },
        "id": "2Ixd9npcrWPj",
        "outputId": "19e67f6b-e1e9-4b91-d5c5-056e7813d4f6"
      },
      "execution_count": null,
      "outputs": [
        {
          "output_type": "stream",
          "name": "stdout",
          "text": [
            "Okunan veri:\n",
            " [[1. 2. 3.]\n",
            " [4. 5. 6.]\n",
            " [7. 8. 9.]]\n",
            "Shape: (3, 3)\n"
          ]
        }
      ]
    },
    {
      "cell_type": "code",
      "source": [
        "# Başlıklı dosya oluşturalım\n",
        "veri_baslikli = \"\"\"x,y,z\n",
        "1.0,2.0,3.0\n",
        "4.0,5.0,6.0\n",
        "7.0,8.0,9.0\"\"\"\n",
        "\n",
        "with open('veri_baslikli.csv', 'w') as f:\n",
        "    f.write(veri_baslikli)\n",
        "\n",
        "#Eğer dosyanızda sütun isimleri varsa, skiprows kullanın:\n",
        "# İlk satırı atlayarak oku\n",
        "veri2 = np.loadtxt('veri_baslikli.csv', delimiter=',', skiprows=1)\n",
        "print(\"Başlıksız veri:\\n\", veri2)"
      ],
      "metadata": {
        "colab": {
          "base_uri": "https://localhost:8080/"
        },
        "id": "UgHGi2a7rdVu",
        "outputId": "ec329ddf-6dec-499b-b448-775f2ebf31bf"
      },
      "execution_count": null,
      "outputs": [
        {
          "output_type": "stream",
          "name": "stdout",
          "text": [
            "Başlıksız veri:\n",
            " [[1. 2. 3.]\n",
            " [4. 5. 6.]\n",
            " [7. 8. 9.]]\n"
          ]
        }
      ]
    },
    {
      "cell_type": "code",
      "source": [
        "#eksik veri içeren dosya\n",
        "veri_nan = \"\"\"1.0,2.0,3.0\n",
        "4.0,,6.0\n",
        "7.0,8.0,\"\"\"\n",
        "\n",
        "with open('veri_nan.csv', 'w') as f:\n",
        "    f.write(veri_nan)\n",
        "\n",
        "# Boş alanlar NaN olarak okunur (converters gerekli olabilir, ama basit durumlarda otomatik)\n",
        "try:\n",
        "    veri3 = np.loadtxt('veri_nan.csv', delimiter=',')\n",
        "except ValueError as e:\n",
        "    print(\"Hata:\", e)\n",
        "    print(\"np.loadtxt boş hücreleri otomatik NaN olarak okuyamaz.\")\n"
      ],
      "metadata": {
        "colab": {
          "base_uri": "https://localhost:8080/"
        },
        "id": "418VLSLorq5S",
        "outputId": "95e54c03-7bdb-474a-ea85-67fda124ffef"
      },
      "execution_count": null,
      "outputs": [
        {
          "output_type": "stream",
          "name": "stdout",
          "text": [
            "Hata: could not convert string '' to float64 at row 1, column 2.\n",
            "np.loadtxt boş hücreleri otomatik NaN olarak okuyamaz.\n"
          ]
        }
      ]
    },
    {
      "cell_type": "code",
      "source": [
        "# 🛠️ Çözüm: np.genfromtxt() daha esnektir ve missing_values parametresiyle eksik veriyi işleyebilir.\n",
        "veri3 = np.genfromtxt('veri_nan.csv', delimiter=',', filling_values=np.nan)\n",
        "print(\"Eksik veri ile okunan:\\n\", veri3)\n",
        "print(\"Ortalama (NaN yok sayılır):\", np.nanmean(veri3))\n",
        "\n",
        "#Öneri: Basit ve temiz veriler için loadtxt, eksik veri veya karmaşık yapılar için genfromtxt kullanın."
      ],
      "metadata": {
        "colab": {
          "base_uri": "https://localhost:8080/"
        },
        "id": "KMn2BxbFsA3d",
        "outputId": "9a335887-8e30-4082-f6e9-caca2af5019c"
      },
      "execution_count": null,
      "outputs": [
        {
          "output_type": "stream",
          "name": "stdout",
          "text": [
            "Eksik veri ile okunan:\n",
            " [[ 1.  2.  3.]\n",
            " [ 4. nan  6.]\n",
            " [ 7.  8. nan]]\n",
            "Ortalama (NaN yok sayılır): 4.428571428571429\n"
          ]
        }
      ]
    },
    {
      "cell_type": "markdown",
      "source": [
        "Metin tabanlı (CSV, TXT) dosyaları doğrudan NumPy dizisine yüklemek için kullanılır.\n",
        "\n",
        "Söz Dizimi: np.loadtxt(fname, delimiter=' ', skiprows=0, dtype=float)"
      ],
      "metadata": {
        "id": "KIJpQCMPsapa"
      }
    },
    {
      "cell_type": "code",
      "source": [
        "# Adım 1: Örnek bir CSV dosyası oluşturalım (Sadece pratik amaçlı)\n",
        "# Veri: Sıcaklık, Nem, Rüzgar Hızı\n",
        "# Başlıklar\n",
        "# 22.5,55.0,15.0\n",
        "# 23.1,52.5,18.0\n",
        "# 22.9,53.0,16.5\n",
        "veri_str = \"\"\"Sıcaklık,Nem,RüzgarHızı\n",
        "22.5,55.0,15.0\n",
        "23.1,52.5,18.0\n",
        "22.9,53.0,16.5\"\"\"\n",
        "\n",
        "with open(\"hava_verisi.csv\", \"w\") as f:\n",
        "    f.write(veri_str)\n",
        "print(\"hava_verisi.csv dosyası oluşturuldu.\")\n",
        "\n",
        "\n",
        "# Adım 2: np.loadtxt ile veriyi yükleme\n",
        "try:\n",
        "    # Delimiter (ayıraç) = ',', Başlık satırını (1. satır) atla\n",
        "    hava_verisi_np = np.loadtxt(\"hava_verisi.csv\",\n",
        "                                delimiter=\",\",\n",
        "                                skiprows=1,\n",
        "                                dtype=np.float64)\n",
        "    print(f\"\\n✅ Yüklenen NumPy Dizisi (Shape: {hava_verisi_np.shape}):\\n{hava_verisi_np}\")\n",
        "except Exception as e:\n",
        "    print(f\"Hata oluştu: {e}\")\n",
        "\n",
        "# Adım 3: Yüklenen veri üzerinde Axis ile istatistik hesaplama\n",
        "# Sütun bazında ortalama (Sıcaklık, Nem ve Rüzgar Hızı'nın ortalaması)\n",
        "ortalama_olcumler = hava_verisi_np.mean(axis=0)\n",
        "print(f\"\\nOrtalama Sıcaklık, Nem, Hız: {ortalama_olcumler.round(2)}\")"
      ],
      "metadata": {
        "colab": {
          "base_uri": "https://localhost:8080/"
        },
        "id": "5CiTEexFsVBp",
        "outputId": "1f2ced55-5b21-4c3e-8239-d21b167c80d4"
      },
      "execution_count": null,
      "outputs": [
        {
          "output_type": "stream",
          "name": "stdout",
          "text": [
            "hava_verisi.csv dosyası oluşturuldu.\n",
            "\n",
            "✅ Yüklenen NumPy Dizisi (Shape: (3, 3)):\n",
            "[[22.5 55.  15. ]\n",
            " [23.1 52.5 18. ]\n",
            " [22.9 53.  16.5]]\n",
            "\n",
            "Ortalama Sıcaklık, Nem, Hız: [22.83 53.5  16.5 ]\n"
          ]
        }
      ]
    },
    {
      "cell_type": "markdown",
      "source": [
        "# Veriyi Kaydetme: np.savetxt()\n",
        "NumPy dizisindeki analiz edilmiş veya dönüştürülmüş veriyi diske kaydetmek.\n",
        "\n",
        "Söz Dizimi: np.savetxt(fname, X, fmt='%.18e', delimiter=' ')"
      ],
      "metadata": {
        "id": "eokCFM6Lsltp"
      }
    },
    {
      "cell_type": "code",
      "source": [
        "# Yüklenen veriyi (hava_verisi_np) alıp, kaydedelim.\n",
        "# fmt='%.2f': float değerleri 2 ondalık basamak hassasiyetiyle kaydet\n",
        "# delimiter=',': Ayraç olarak virgül kullan\n",
        "np.savetxt(\"analiz_edilmis_hava.csv\",\n",
        "           hava_verisi_np,\n",
        "           fmt='%.2f',\n",
        "           delimiter=\",\" ,\n",
        "           header=\"Sicaklik,Nem,RuzgarHizi\",\n",
        "           comments=\"# \") # Header ekle ve yorum satırı karakterini belirle\n",
        "\n",
        "print(\"\\n'analiz_edilmis_hava.csv' dosyası kaydedildi (2 ondalık hassasiyetle).\")\n",
        "\n",
        "# Kaydedilen dosyayı basitçe okuyup kontrol edebiliriz\n",
        "with open(\"analiz_edilmis_hava.csv\", \"r\") as f:\n",
        "    print(\"\\nKaydedilen Dosya İçeriği:\")\n",
        "    print(f.read())"
      ],
      "metadata": {
        "colab": {
          "base_uri": "https://localhost:8080/"
        },
        "id": "tWbTvGdiso2U",
        "outputId": "99d4e047-92d1-4bb3-cf62-be545aa4214c"
      },
      "execution_count": null,
      "outputs": [
        {
          "output_type": "stream",
          "name": "stdout",
          "text": [
            "\n",
            "'analiz_edilmis_hava.csv' dosyası kaydedildi (2 ondalık hassasiyetle).\n",
            "\n",
            "Kaydedilen Dosya İçeriği:\n",
            "# Sicaklik,Nem,RuzgarHizi\n",
            "22.50,55.00,15.00\n",
            "23.10,52.50,18.00\n",
            "22.90,53.00,16.50\n",
            "\n"
          ]
        }
      ]
    },
    {
      "cell_type": "markdown",
      "source": [
        "# Mini Proje\n",
        "Amaç: Bir veri dosyasından oku, eksik verileri tespit et, ortalama ve standart sapmayı hesapla."
      ],
      "metadata": {
        "id": "rMcyrWQLtE0q"
      }
    },
    {
      "cell_type": "code",
      "source": [
        "# Adım 1: Veri dosyası oluştur\n",
        "data = \"\"\"85,90,,\n",
        "92,,88,85\n",
        ",78,82,90\"\"\"\n",
        "\n",
        "with open('sinav_notlari.csv', 'w') as f:\n",
        "    f.write(data)\n",
        "\n",
        "# Adım 2: Oku\n",
        "notlar = np.genfromtxt('sinav_notlari.csv', delimiter=',', filling_values=np.nan)\n",
        "print(\"Notlar:\\n\", notlar)\n",
        "\n",
        "# Adım 3: Her sütunun (her sınavın) ortalamasını hesapla\n",
        "ortalama_sinav = np.nanmean(notlar, axis=0)\n",
        "print(\"Her sınavın ortalaması:\", ortalama_sinav)\n",
        "\n",
        "# Adım 4: Genel ortalama\n",
        "genel_ortalama = np.nanmean(notlar)\n",
        "print(\"Genel sınıf ortalaması:\", genel_ortalama)"
      ],
      "metadata": {
        "id": "IFhw783PtO8s"
      },
      "execution_count": null,
      "outputs": []
    },
    {
      "cell_type": "code",
      "source": [
        "#dosya işlemleri karışık örnekler\n",
        "\n",
        "print(\"\\n\" + \"=\"*60)\n",
        "print(\"=== 5. DOSYA İŞLEMLERİ - np.loadtxt() ve np.genfromtxt() ===\\n\")\n",
        "\n",
        "import os\n",
        "\n",
        "# 5.1 ÖRNEK CSV DOSYASI OLUŞTURMA\n",
        "print(\"5.1 ÖRNEK CSV DOSYASI OLUŞTURMA:\")\n",
        "\n",
        "csv_icerik = \"\"\"isim,yas,maas,departman,cinsiyet\n",
        "Ali,25,50000,Mühendislik,E\n",
        "Ayşe,30,60000,Satış,K\n",
        "Mehmet,35,75000,Mühendislik,E\n",
        "Zeynep,28,55000,İK,K\n",
        "Fatma,32,48000,Satış,K\n",
        "Can,29,,Mühendislik,E\n",
        "Deniz,27,52000,İK,K\n",
        "Emre,31,68000,Satış,E\"\"\"\n",
        "\n",
        "# Dosyayı kaydet\n",
        "with open('calisanlar.csv', 'w', encoding='utf-8') as f:\n",
        "    f.write(csv_icerik)\n",
        "\n",
        "print(\"CSV dosyası oluşturuldu: calisanlar.csv\")\n",
        "\n",
        "# 5.2 np.loadtxt() - BASİT DOSYALAR İÇİN\n",
        "print(\"\\n5.2 np.loadtxt() - BASİT DOSYALAR İÇİN:\")\n",
        "\n",
        "try:\n",
        "    # Sadece sayısal sütunları okumaya çalış\n",
        "    sayisal_veri = np.loadtxt('calisanlar.csv', delimiter=',', skiprows=1,\n",
        "                             usecols=(1, 2), encoding='utf-8')\n",
        "    print(\"loadtxt() başarılı:\\n\", sayisal_veri)\n",
        "except Exception as e:\n",
        "    print(f\"loadtxt() hatası: {e}\")\n",
        "    print(\"Neden: Eksik veri (NaN) içeren dosyalarda hata verir\")\n",
        "\n",
        "# 5.3 np.genfromtxt() - GELİŞMİŞ OKUMA\n",
        "print(\"\\n5.3 np.genfromtxt() - GELİŞMİŞ OKUMA:\")\n",
        "\n",
        "# Tüm veriyi oku (eksik verileri handle ederek)\n",
        "veri = np.genfromtxt('calisanlar.csv', delimiter=',', skip_header=1,\n",
        "                     dtype=None, encoding='utf-8',\n",
        "                     missing_values='', filling_values=0)\n",
        "\n",
        "print(\"genfromtxt() ile okunan veri:\")\n",
        "print(veri)\n",
        "print(\"Veri tipi:\", veri.dtype)\n",
        "print(\"Boyut:\", veri.shape)\n",
        "\n",
        "# 5.4 KONTROLLÜ SÜTUN OKUMA\n",
        "print(\"\\n5.4 KONTROLLÜ SÜTUN OKUMA:\")\n",
        "\n",
        "# Her sütunu ayrı ayrı ve uygun tiplerde oku\n",
        "isimler = np.genfromtxt('calisanlar.csv', delimiter=',', skip_header=1,\n",
        "                       usecols=0, dtype='U10', encoding='utf-8')\n",
        "\n",
        "yaslar = np.genfromtxt('calisanlar.csv', delimiter=',', skip_header=1,\n",
        "                      usecols=1, dtype=int, encoding='utf-8')\n",
        "\n",
        "maaslar = np.genfromtxt('calisanlar.csv', delimiter=',', skip_header=1,\n",
        "                       usecols=2, dtype=float, encoding='utf-8',\n",
        "                       missing_values='', filling_values=np.nan)  # NaN olarak işaretle\n",
        "\n",
        "departmanlar = np.genfromtxt('calisanlar.csv', delimiter=',', skip_header=1,\n",
        "                           usecols=3, dtype='U15', encoding='utf-8')\n",
        "\n",
        "cinsiyetler = np.genfromtxt('calisanlar.csv', delimiter=',', skip_header=1,\n",
        "                          usecols=4, dtype='U1', encoding='utf-8')\n",
        "\n",
        "print(\"\\nAyrı ayrı okunan sütunlar:\")\n",
        "print(\"İsimler:\", isimler)\n",
        "print(\"Yaşlar:\", yaslar)\n",
        "print(\"Maaşlar:\", maaslar)\n",
        "print(\"Departmanlar:\", departmanlar)\n",
        "print(\"Cinsiyetler:\", cinsiyetler)\n",
        "\n",
        "# 5.5 VERİ ANALİZİ\n",
        "print(\"\\n5.5 OKUNAN VERİ ÜZERİNDE ANALİZ:\")\n",
        "\n",
        "print(\"Temel istatistikler:\")\n",
        "print(f\"  Ortalama yaş: {np.mean(yaslar):.1f}\")\n",
        "print(f\"  Ortalama maaş: {np.nanmean(maaslar):.0f} TL\")\n",
        "print(f\"  Eksik maaş sayısı: {np.sum(np.isnan(maaslar))}\")\n",
        "\n",
        "print(\"\\nDepartman bazlı analiz:\")\n",
        "for departman in np.unique(departmanlar):\n",
        "    departman_maskesi = departmanlar == departman\n",
        "    departman_maaslari = maaslar[departman_maskesi]\n",
        "    gecerli_maaslar = departman_maaslari[~np.isnan(departman_maaslari)]\n",
        "\n",
        "    if len(gecerli_maaslar) > 0:\n",
        "        print(f\"  {departman}: {len(gecerli_maaslar)} kişi, Ortalama: {np.mean(gecerli_maaslar):.0f} TL\")\n",
        "\n",
        "# 5.6 VERİYİ DOSYAYA KAYDETME\n",
        "print(\"\\n5.6 VERİYİ DOSYAYA KAYDETME:\")\n",
        "\n",
        "# İşlenmiş veriyi birleştir\n",
        "islenmis_veri = np.column_stack((isimler, yaslar, maaslar, departmanlar, cinsiyetler))\n",
        "\n",
        "# CSV formatında kaydet\n",
        "np.savetxt('islenmis_calisanlar.csv', islenmis_veri, delimiter=',',\n",
        "          fmt='%s', header='isim,yas,maas,departman,cinsiyet', comments='')\n",
        "\n",
        "print(\"İşlenmiş veri 'islenmis_calisanlar.csv' dosyasına kaydedildi\")\n",
        "\n",
        "# 5.7 FARKLI DOSYA FORMATLARI\n",
        "print(\"\\n5.7 FARKLI DOSYA FORMATLARI İÇİN PARAMETRELER:\")\n",
        "\n",
        "parametreler = {\n",
        "    'delimiter': \"Sütun ayracı (',', ';', '\\\\t', ' ')\",\n",
        "    'skiprows': \"Atlanacak satır sayısı\",\n",
        "    'usecols': \"Okunacak sütun indeksleri\",\n",
        "    'dtype': \"Veri tipi (None, int, float, 'U10')\",\n",
        "    'encoding': \"Dosya encoding'i ('utf-8', 'latin-1')\",\n",
        "    'missing_values': \"Eksik veri işaretçisi\",\n",
        "    'filling_values': \"Eksik veri yerine konacak değer\"\n",
        "}\n",
        "\n",
        "print(\"Önemli parametreler:\")\n",
        "for param, aciklama in parametreler.items():\n",
        "    print(f\"  {param}: {aciklama}\")\n",
        "\n",
        "# Temizlik: Oluşturulan dosyaları sil\n",
        "#os.remove('calisanlar.csv')\n",
        "#os.remove('islenmis_calisanlar.csv')\n",
        "\n",
        "\"\"\"\n",
        "DOSYA OKUMA STRATEJİLERİ:\n",
        "- Temiz, sayısal veri: np.loadtxt()\n",
        "- Karmaşık, eksik veri içeren: np.genfromtxt()\n",
        "- Büyük dosyalar: Chunk okuma (iterator kullanımı)\n",
        "- Özel formatlar: Pandas kütüphanesi\n",
        "\"\"\""
      ],
      "metadata": {
        "colab": {
          "base_uri": "https://localhost:8080/",
          "height": 1000
        },
        "id": "pRCiUwddtyHA",
        "outputId": "ff5cdb14-21f1-48ff-c182-e673a071dba1"
      },
      "execution_count": null,
      "outputs": [
        {
          "output_type": "stream",
          "name": "stdout",
          "text": [
            "\n",
            "============================================================\n",
            "=== 5. DOSYA İŞLEMLERİ - np.loadtxt() ve np.genfromtxt() ===\n",
            "\n",
            "5.1 ÖRNEK CSV DOSYASI OLUŞTURMA:\n",
            "CSV dosyası oluşturuldu: calisanlar.csv\n",
            "\n",
            "5.2 np.loadtxt() - BASİT DOSYALAR İÇİN:\n",
            "loadtxt() hatası: could not convert string '' to float64 at row 5, column 3.\n",
            "Neden: Eksik veri (NaN) içeren dosyalarda hata verir\n",
            "\n",
            "5.3 np.genfromtxt() - GELİŞMİŞ OKUMA:\n",
            "genfromtxt() ile okunan veri:\n",
            "[('Ali', 25, 50000, 'Mühendislik', 'E') ('Ayşe', 30, 60000, 'Satış', 'K')\n",
            " ('Mehmet', 35, 75000, 'Mühendislik', 'E')\n",
            " ('Zeynep', 28, 55000, 'İK', 'K') ('Fatma', 32, 48000, 'Satış', 'K')\n",
            " ('Can', 29,     0, 'Mühendislik', 'E') ('Deniz', 27, 52000, 'İK', 'K')\n",
            " ('Emre', 31, 68000, 'Satış', 'E')]\n",
            "Veri tipi: [('f0', '<U6'), ('f1', '<i8'), ('f2', '<i8'), ('f3', '<U11'), ('f4', '<U1')]\n",
            "Boyut: (8,)\n",
            "\n",
            "5.4 KONTROLLÜ SÜTUN OKUMA:\n",
            "\n",
            "Ayrı ayrı okunan sütunlar:\n",
            "İsimler: ['Ali' 'Ayşe' 'Mehmet' 'Zeynep' 'Fatma' 'Can' 'Deniz' 'Emre']\n",
            "Yaşlar: [25 30 35 28 32 29 27 31]\n",
            "Maaşlar: [50000. 60000. 75000. 55000. 48000.    nan 52000. 68000.]\n",
            "Departmanlar: ['Mühendislik' 'Satış' 'Mühendislik' 'İK' 'Satış' 'Mühendislik' 'İK'\n",
            " 'Satış']\n",
            "Cinsiyetler: ['E' 'K' 'E' 'K' 'K' 'E' 'K' 'E']\n",
            "\n",
            "5.5 OKUNAN VERİ ÜZERİNDE ANALİZ:\n",
            "Temel istatistikler:\n",
            "  Ortalama yaş: 29.6\n",
            "  Ortalama maaş: 58286 TL\n",
            "  Eksik maaş sayısı: 1\n",
            "\n",
            "Departman bazlı analiz:\n",
            "  Mühendislik: 2 kişi, Ortalama: 62500 TL\n",
            "  Satış: 3 kişi, Ortalama: 58667 TL\n",
            "  İK: 2 kişi, Ortalama: 53500 TL\n",
            "\n",
            "5.6 VERİYİ DOSYAYA KAYDETME:\n",
            "İşlenmiş veri 'islenmis_calisanlar.csv' dosyasına kaydedildi\n",
            "\n",
            "5.7 FARKLI DOSYA FORMATLARI İÇİN PARAMETRELER:\n",
            "Önemli parametreler:\n",
            "  delimiter: Sütun ayracı (',', ';', '\\t', ' ')\n",
            "  skiprows: Atlanacak satır sayısı\n",
            "  usecols: Okunacak sütun indeksleri\n",
            "  dtype: Veri tipi (None, int, float, 'U10')\n",
            "  encoding: Dosya encoding'i ('utf-8', 'latin-1')\n",
            "  missing_values: Eksik veri işaretçisi\n",
            "  filling_values: Eksik veri yerine konacak değer\n"
          ]
        },
        {
          "output_type": "execute_result",
          "data": {
            "text/plain": [
              "'\\nDOSYA OKUMA STRATEJİLERİ:\\n- Temiz, sayısal veri: np.loadtxt()\\n- Karmaşık, eksik veri içeren: np.genfromtxt()\\n- Büyük dosyalar: Chunk okuma (iterator kullanımı)\\n- Özel formatlar: Pandas kütüphanesi\\n'"
            ],
            "application/vnd.google.colaboratory.intrinsic+json": {
              "type": "string"
            }
          },
          "metadata": {},
          "execution_count": 27
        }
      ]
    },
    {
      "cell_type": "markdown",
      "source": [
        "#kapsamlı örnek"
      ],
      "metadata": {
        "id": "eBZuX-KZvDCa"
      }
    },
    {
      "cell_type": "code",
      "source": [
        "\"\"\"\n",
        "Detaylı, açıklamalı NumPy örnekleri — İleri Seviye İstatistiksel Fonksiyonlar\n",
        "\n",
        "Bu dosya, kullanıcıya adım adım açıklamalar ile birlikte aşağıdaki konuları gösterir:\n",
        " - np.unique() ve return_counts kullanımı\n",
        " - np.bincount() ile hızlı tamsayı sayımı (sınırlamalar ve offset)\n",
        " - np.histogram() ile histogram oluşturma, bins ve edges açıklaması\n",
        " - Korelasyon (np.corrcoef) ve kovaryans (np.cov) hesaplama ve yorumlama\n",
        " - Kümülatif işlemler: np.cumsum, kümülatif ortalama hesaplama\n",
        " - Sıralama ve argsort: artan/azalan sıra, en çok/az satan seçim\n",
        " - Finansal analiz örneği: ortalama getiri, volatilite, Sharpe oranı, kumulatif getiri, maksimum drawdown\n",
        "\n",
        "Her blokta: amaç, önemli parametreler, sınırlar, hata/uyarı notları ve örnek çıktı bulunur.\n",
        "\"\"\"\n",
        "\n",
        "import numpy as np\n",
        "\n",
        "# -----------------------------------------------------------------------------\n",
        "# Genel: ekran başlıkları\n",
        "# -----------------------------------------------------------------------------\n",
        "print(\"\\n\" + \"=\"*60)\n",
        "print(\"=== 6. İLERİ SEVİYE İSTATİSTİKSEL FONKSİYONLAR ===\\n\")\n",
        "\n",
        "# -----------------------------------------------------------------------------\n",
        "# 6.1 np.unique() - BENZERSİZ DEĞERLER ve FREKANSLAR\n",
        "# -----------------------------------------------------------------------------\n",
        "# Amaç:\n",
        "# - Bir kategorik dizide hangi benzersiz kategorilerin bulunduğunu bulmak ve\n",
        "#   her bir kategorinin kaç kere tekrarlandığını (frekans) hızlı şekilde elde etmek.\n",
        "# Önemli parametreler:\n",
        "# - return_counts: True verilirse her benzersiz değerin kaç kere geçtiği döndürülür.\n",
        "# - return_index / return_inverse: farklı indeks bilgileri almak için kullanılır.\n",
        "# Notlar:\n",
        "# - np.unique sonucun sıralı olacağını garanti eder (lexicographic order for strings),\n",
        "#   bu yüzden frekanslar da bu sıralı benzersiz değer sırasına karşılık gelir.\n",
        "\n",
        "print(\"6.1 np.unique() - BENZERSİZ DEĞERLER:\")\n",
        "\n",
        "# Müşteri segment verisi (örnek kategorik veri)\n",
        "musteri_segmentleri = np.array(['A', 'B', 'A', 'C', 'B', 'A', 'A', 'C', 'B', 'A'])\n",
        "print(\"Müşteri segmentleri:\", musteri_segmentleri)\n",
        "\n",
        "# return_counts=True ile benzersiz değerleri ve her birinin frekansını alıyoruz\n",
        "benzersiz_segmentler, frekanslar = np.unique(musteri_segmentleri, return_counts=True)\n",
        "print(\"Benzersiz segmentler:\", benzersiz_segmentler)\n",
        "print(\"Frekanslar:\", frekanslar)\n",
        "\n",
        "# Frekansları yüzde olarak da gösterme - döngü ile her segmentin oranı\n",
        "for segment, freq in zip(benzersiz_segmentler, frekanslar):\n",
        "    oran = freq / len(musteri_segmentleri) * 100\n",
        "    print(f\"  Segment {segment}: {freq} müşteri (%{oran:.1f})\")\n",
        "\n",
        "# Ek bilgi:\n",
        "# - Eğer veride NaN veya None varsa, np.unique bu değerleri de benzersiz olarak döndürebilir\n",
        "#   (örneğin numpy.nan string'lerden ayrı bir benzersiz değer olur). Kategorik veriler\n",
        "#   için pandas kullanmak daha esnek dönüşler sağlar.\n",
        "\n",
        "# -----------------------------------------------------------------------------\n",
        "# 6.2 np.bincount() - HIZLI TAMSAYI SAYIMI\n",
        "# -----------------------------------------------------------------------------\n",
        "# Amaç:\n",
        "# - Bütün elemanların non-negative (>=0) tamsayı olduğu dizilerde hızlı frekans sayımı.\n",
        "# Önemli Notlar:\n",
        "# - Girdi negatif sayı içerirse hata verir.\n",
        "# - Dizi değerleri 0..k aralığında ise çıktı uzunluğu k+1 olur.\n",
        "# - Eğer değerler 1..5 aralığında ise index 0 boş (sıfır) kalır, buna dikkat et.\n",
        "\n",
        "print(\"\\n6.2 np.bincount() - HIZLI TAMSAYI SAYIMI:\")\n",
        "\n",
        "# Müşteri puanları (1-5 arası) — dikkat: doğrudan bincount'a koyarsak index 0 boş kalacak\n",
        "musteri_puanlari = np.array([5, 4, 3, 5, 2, 4, 5, 3, 4, 5, 1, 4, 5, 3, 2])\n",
        "print(\"Müşteri puanları:\", musteri_puanlari)\n",
        "\n",
        "# Eğer puanlar 1..5 aralığında ise, bincount çıktısı 0..5 index'lerini döndürecek\n",
        "# ve index 0'ın değeri sıfır olacaktır (çünkü hiç 0 puanı yok).\n",
        "puan_frekans = np.bincount(musteri_puanlari)\n",
        "print(\"Puan frekansları (index=puan):\", puan_frekans)\n",
        "\n",
        "# Daha okunabilir çıktıyı 1'den başlayarak veriyoruz (puan 1..5 aralığı bilinerek)\n",
        "for puan in range(1, len(puan_frekans)):\n",
        "    print(f\"  {puan} yıldız: {puan_frekans[puan]} müşteri\")\n",
        "\n",
        "# Eğer veri 0-ile başlıyorsa (ör. 0-4 puanlama), bincount doğrudan tam olarak eşleşir.\n",
        "# Alternatif: eğer puan aralığınız 1..k ise ve indeks 0'ı kullanmak isterseniz,\n",
        "# \"offset\" mantığını manuel uygulayabilirsiniz:\n",
        "# counts = np.bincount(scores - min_score)\n",
        "\n",
        "# -----------------------------------------------------------------------------\n",
        "# 6.3 np.histogram() - VERİ DAĞILIMI ANALİZİ\n",
        "# -----------------------------------------------------------------------------\n",
        "# Amaç:\n",
        "# - Sürekli veya geniş aralıklı sayısal verinin hangi aralıklarda (bin'lerde) yoğunlaştığını\n",
        "#   görmek. np.histogram sayıları sınıflandırıp her bin'in frekansını ve bin sınırlarını döndürür.\n",
        "# Önemli parametreler:\n",
        "# - bins: int (eşit genişlikte bins) veya bir dizi (özelleştirilmiş sınırlar)\n",
        "# - range: histogram için kullanıcı tarafından sınır belirleme\n",
        "# - density: True ise frekans yerine pdf (yoğunluk) döndürür.\n",
        "\n",
        "print(\"\\n6.3 np.histogram() - VERİ DAĞILIMI:\")\n",
        "\n",
        "urun_fiyatlari = np.array([45, 120, 85, 220, 150, 95, 180, 75, 250, 130,\n",
        "                          65, 200, 110, 170, 90])\n",
        "print(\"Ürün fiyatları:\", urun_fiyatlari)\n",
        "\n",
        "# bins=5 demek, veri aralığını 5 eşit genişlikli aralığa böler\n",
        "hist_frekans, hist_sinirlar = np.histogram(urun_fiyatlari, bins=5)\n",
        "print(\"Histogram frekansları:\", hist_frekans)\n",
        "print(\"Histogram sınırları:\", hist_sinirlar)\n",
        "\n",
        "print(\"\\nFiyat dağılımı:\")\n",
        "for i in range(len(hist_frekans)):\n",
        "    # sinirlar[i] inclusive ve sinirlar[i+1] exclusive (sağ sınır son bin hariç dahil olabilir)\n",
        "    print(f\"  {hist_sinirlar[i]:.0f}-{hist_sinirlar[i+1]:.0f} TL: {hist_frekans[i]} ürün\")\n",
        "\n",
        "# Not:\n",
        "# - np.histogram sonuçları kapalı-açık aralık mantığında döner (açıklama: left-inclusive,\n",
        "#   right-exclusive) fakat son binin sağ sınırı dahil olabilir. Bu küçük nüans belirli durumlarda önemlidir.\n",
        "# - Eğer özel aralıklar isterseniz bins = [0,50,100,150,200,300] gibi bir liste kullanın.\n",
        "\n",
        "# -----------------------------------------------------------------------------\n",
        "# 6.4 KORELASYON ve KOVARYANS\n",
        "# -----------------------------------------------------------------------------\n",
        "# Amaç:\n",
        "# - İki sayısal değişken arasındaki doğrusal ilişkiyi ölçmek (korelasyon) ve ortak\n",
        "#   değişim miktarını hesaplamak (kovaryans).\n",
        "# Temel fark:\n",
        "# - Kovaryans: ölçektir (verinin birimleriyle çarpılır), büyük değerler anlamlı olabilir.\n",
        "# - Korelasyon: normalize edilmiş kovaryans (Pearson), -1 ile +1 arasında ve yorumlanması kolay.\n",
        "# Fonksiyonlar:\n",
        "# - np.cov(x, y)[0,1] -> kovaryans (varsayılan ddof=1 -> örnek kovaryans)\n",
        "# - np.corrcoef(x, y)[0,1] -> Pearson korelasyon katsayısı\n",
        "\n",
        "print(\"\\n6.4 KORELASYON ve KOVARYANS:\")\n",
        "\n",
        "gelir = np.array([25000, 32000, 28000, 45000, 38000, 29000, 41000])\n",
        "harcama = np.array([18000, 22000, 20000, 32000, 28000, 21000, 30000])\n",
        "\n",
        "# np.corrcoef iki değişkenden bir 2x2 matris döndürür: [[1, r],[r,1]]\n",
        "korelasyon = np.corrcoef(gelir, harcama)[0, 1]\n",
        "# np.cov döndürdüğü 2x2 matrisin üst-triangular veya [0,1] elementi ortak kovaryanstır\n",
        "kovaryans = np.cov(gelir, harcama)[0, 1]\n",
        "\n",
        "print(f\"Gelir: {gelir}\")\n",
        "print(f\"Harcama: {harcama}\")\n",
        "print(f\"Korelasyon katsayısı: {korelasyon:.3f}\")\n",
        "print(f\"Kovaryans: {kovaryans:.2f}\")\n",
        "\n",
        "# Korelasyon yorum katmanları — bunlar genel rehberlik için basit eşik değerleridir.\n",
        "# Gerçekte yorum, bağlama ve veri setine göre değişir (ör. p-değerleri, görselleştirme ile desteklenmelidir).\n",
        "if korelasyon > 0.7:\n",
        "    yorum = \"Güçlü pozitif ilişki\"\n",
        "elif korelasyon > 0.3:\n",
        "    yorum = \"Orta pozitif ilişki\"\n",
        "elif korelasyon > -0.3:\n",
        "    yorum = \"Zayıf ilişki\"\n",
        "elif korelasyon > -0.7:\n",
        "    yorum = \"Orta negatif ilişki\"\n",
        "else:\n",
        "    yorum = \"Güçlü negatif ilişki\"\n",
        "\n",
        "print(f\"Yorum: {yorum}\")\n",
        "\n",
        "# -----------------------------------------------------------------------------\n",
        "# 6.5 KÜMÜLATİF İŞLEMLER\n",
        "# -----------------------------------------------------------------------------\n",
        "# Amaç:\n",
        "# - Zaman veya sıralı verilerde biriken etkiyi görmek: cumsum, cumprod, accumulate\n",
        "# - Kümülatif ortalama: her adımda o güne kadar olan ortalamayı verir\n",
        "# Önemli Parametreler/Dikkatler:\n",
        "# - dtype: büyük tamsayıların taşmasını önlemek için dtype belirtilebilir\n",
        "# - np.cumsum, np.cumprod döndürdüğü dizinin dtype'sını dikkat eder (örn. int32 taşma olabilir)\n",
        "\n",
        "print(\"\\n6.5 KÜMÜLATİF İŞLEMLER:\")\n",
        "\n",
        "aylik_satislar = np.array([12000, 15000, 13000, 18000, 16000, 20000])\n",
        "print(\"Aylık satışlar:\", aylik_satislar)\n",
        "\n",
        "kumulatif_toplam = np.cumsum(aylik_satislar)\n",
        "# Kümülatif ortalama = (toplam so far) / (eleman sayısı so far)\n",
        "kumulatif_ortalama = kumulatif_toplam / np.arange(1, len(aylik_satislar) + 1)\n",
        "\n",
        "print(\"Kümülatif toplam:\", kumulatif_toplam)\n",
        "# astype(int) ile gösterirken kesirleri atıyoruz; isterseniz float olarak bırakın\n",
        "print(\"Kümülatif ortalama:\", kumulatif_ortalama.astype(int))\n",
        "\n",
        "# -----------------------------------------------------------------------------\n",
        "# 6.6 SIRALAMA ve ARGSORT\n",
        "# -----------------------------------------------------------------------------\n",
        "# Amaç:\n",
        "# - argsort ile orijinal dizideki elemanların hangi indekslerde yer alması gerektiğini\n",
        "#   buluruz (sıralama indeksi)\n",
        "# - argsort()[::-1] ile azalan sıra elde edilir\n",
        "# Notlar:\n",
        "# - numpy.argsort, default olarak quicksort benzeri bir yöntem kullanır; stable sorting istenirse\n",
        "#   kind='stable' verilebilir (ör. çoklu kıstaslarda önemlidir)\n",
        "\n",
        "print(\"\\n6.6 SIRALAMA ve ARGSORT:\")\n",
        "\n",
        "urun_satislari = np.array([150, 85, 220, 95, 180, 65, 240, 130])\n",
        "print(\"Ürün satışları:\", urun_satislari)\n",
        "\n",
        "# argsort -> küçükten büyüğe indeks sırası verir\n",
        "artan_sira_indeks = np.argsort(urun_satislari)\n",
        "# ters çevirme ile büyükten küçüğe indeks sırası elde ediyoruz\n",
        "azalan_sira_indeks = artan_sira_indeks[::-1]\n",
        "\n",
        "print(\"Artan sırada indeksler:\", artan_sira_indeks)\n",
        "print(\"Azalan sırada indeksler:\", azalan_sira_indeks)\n",
        "\n",
        "# En çok satan 3 ürünü azalan sıra indeks ile alıyoruz\n",
        "print(\"En çok satan 3 ürün:\", urun_satislari[azalan_sira_indeks[:3]])\n",
        "print(\"En az satan 3 ürün:\", urun_satislari[artan_sira_indeks[:3]])\n",
        "\n",
        "# -----------------------------------------------------------------------------\n",
        "# 6.7 GERÇEK HAYAT UYGULAMASI: FİNANSAL ANALİZ\n",
        "# -----------------------------------------------------------------------------\n",
        "# Amaç:\n",
        "# - Günlük getiri dizisinden temel risk/performans metrikleri hesaplama\n",
        "# - Ortalama getiri, volatilite (standart sapma), basit Sharpe oranı\n",
        "# - Kümülatif getiri ve maximum drawdown (en büyük düşüş) hesabı\n",
        "# Dikkat:\n",
        "# - Sharpe oranı burada basit: avg_return / std. Gerçek Sharpe hesaplaması genelde\n",
        "#   risk-free rate düşüldükten sonra yıllıklaştırma içerir.\n",
        "# - getiri_oranlari yüzde (%) olarak verilmiştir; cumprod için 1 + r/100 uygulanır.\n",
        "\n",
        "print(\"\\n6.7 GERÇEK HAYAT UYGULAMASI - FİNANSAL ANALİZ:\")\n",
        "\n",
        "getiri_oranlari = np.array([2.5, -1.2, 3.8, 0.5, -2.1, 4.2, 1.8, -0.9, 3.1, 2.8])\n",
        "print(\"Günlük getiri oranları (%):\", getiri_oranlari)\n",
        "\n",
        "ortalama_getiri = np.mean(getiri_oranlari)\n",
        "getiri_volatilitesi = np.std(getiri_oranlari)\n",
        "# Basit Sharpe: getiri ortalaması / volatilite (aynı birimde oldukları için doğrudan bölüyoruz)\n",
        "sharpe_orani = ortalama_getiri / getiri_volatilitesi\n",
        "\n",
        "print(f\"Ortalama getiri: %{ortalama_getiri:.2f}\")\n",
        "print(f\"Volatilite: %{getiri_volatilitesi:.2f}\")\n",
        "print(f\"Sharpe Oranı: {sharpe_orani:.2f}\")\n",
        "\n",
        "# Kümülatif getiri: her gün için (1 + r/100) çarpımları\n",
        "kumulatif_getiri = np.cumprod(1 + getiri_oranlari/100)\n",
        "print(\"Kümülatif getiri (zaman içi):\", kumulatif_getiri)\n",
        "\n",
        "# Maksimum drawdown: geçmişteki maksimuma göre yüzdelik düşüş\n",
        "maksimum_getiri = np.maximum.accumulate(kumulatif_getiri)\n",
        "# drawdown genelde negatif değerler olur; en büyük (en olumsuz) drawdown en küçük sayıdır\n",
        "drawdown = (kumulatif_getiri - maksimum_getiri) / maksimum_getiri * 100\n",
        "maksimum_drawdown = np.min(drawdown)\n",
        "print(f\"Maksimum Drawdown: %{maksimum_drawdown:.2f}\")\n",
        "\n",
        "# -----------------------------------------------------------------------------\n",
        "# Kısa özet ve kullanım önerileri\n",
        "# -----------------------------------------------------------------------------\n",
        "print(\"\\nİLERİ İSTATİSTİKSEL ANALİZ UYGULAMALARI ÖZETİ:\")\n",
        "print(\"- Müşteri segmentasyonu: np.unique() + frekans analizi\")\n",
        "print(\"- Risk yönetimi: Volatilite ve drawdown analizi\")\n",
        "print(\"- Performans ölçümü: Sharpe oranı ve korelasyon analizi\")\n",
        "print(\"- Trend analizi: Kümülatif işlemler ve sıralama\")\n",
        "\n",
        "print(\"\\n\" + \"=\"*60)\n",
        "print(\"NUMPY OTURUM 3 TAMAMLANDI!\")\n",
        "print(\"Öğrenilen ana başlıklar:\")\n",
        "print(\"1. İstatistiksel fonksiyonlar ve merkezi eğilim ölçütleri\")\n",
        "print(\"2. Yüzdelik dilimler ve quantile analizi\")\n",
        "print(\"3. np.where() ve koşullu işlemler\")\n",
        "print(\"4. NaN değer yönetimi ve eksik veri stratejileri\")\n",
        "print(\"5. Dosya işlemleri (loadtxt, genfromtxt, savetxt)\")\n",
        "print(\"6. İleri seviye istatistiksel fonksiyonlar\")\n"
      ],
      "metadata": {
        "id": "bIeVSAJsvE_A"
      },
      "execution_count": null,
      "outputs": []
    },
    {
      "cell_type": "markdown",
      "source": [
        "#ufunc\n",
        "\n",
        "ufunc, NumPy'da eleman bazlı (element-wise) işlemler yapan yüksek performanslı fonksiyonlardır.\n",
        "\n",
        "ufuncs, \"Evrensel Fonksiyonlar\" anlamına gelir ve nesne üzerinde işlem yapan NumPy fonksiyonlarıdır\n",
        "\n",
        "**Neden ufuncs kullanmalıyız?**\n",
        "ufuncs, elemanlar üzerinde yineleme yapmaktan çok daha hızlı olan NumPy'de vektörleştirmeyi uygulamak için kullanılır .\n",
        "\n",
        "Ayrıca hesaplama için çok faydalı olan azaltma, biriktirme vb. gibi yayın ve ek yöntemler de sağlarlar.\n",
        "\n",
        "*ufuncs ayrıca şu gibi ek argümanlar da alır:*\n",
        "\n",
        "* whereİşlemlerin nerede gerçekleşeceğini tanımlayan boolean dizisi veya koşulu.\n",
        "\n",
        "* dtypeelemanların dönüş tipini tanımlama.\n",
        "\n",
        "* outdönüş değerinin kopyalanacağı çıktı dizisi."
      ],
      "metadata": {
        "id": "q0qnsAjFv09Q"
      }
    },
    {
      "cell_type": "code",
      "source": [
        "x = [1, 2, 3, 4]\n",
        "y = [4, 5, 6, 7]\n",
        "z = []\n",
        "\n",
        "for i, j in zip(x, y):\n",
        "  z.append(i + j)\n",
        "print(z)\n",
        "\n",
        "z = np.add(x, y)\n",
        "\n",
        "print(z)"
      ],
      "metadata": {
        "colab": {
          "base_uri": "https://localhost:8080/"
        },
        "id": "nQFiprlxwh3S",
        "outputId": "aef5031e-04d0-45e8-c7d8-833b54fceba9"
      },
      "execution_count": null,
      "outputs": [
        {
          "output_type": "stream",
          "name": "stdout",
          "text": [
            "[5, 7, 9, 11]\n",
            "[ 5  7  9 11]\n"
          ]
        }
      ]
    },
    {
      "cell_type": "markdown",
      "source": [
        "# Kendi ufunc'unuzu Nasıl Oluşturursunuz\n",
        "Kendi ufunc'ınızı oluşturmak için, Python'daki normal fonksiyonlarda yaptığınız gibi bir fonksiyon tanımlamanız ve ardından bunu metoduyla NumPy ufunc kütüphanenize eklemeniz gerekir frompyfunc().\n",
        "\n",
        "Yöntem frompyfunc()aşağıdaki argümanları alır:\n",
        "\n",
        "* function- fonksiyonun adı.\n",
        "* inputs- giriş argümanlarının (dizilerin) sayısı.\n",
        "* outputs- çıkış dizilerinin sayısı."
      ],
      "metadata": {
        "id": "C1ESwyXoxCpP"
      }
    },
    {
      "cell_type": "code",
      "source": [
        "def myadd(x, y):\n",
        "  return x+y\n",
        "\n",
        "myadd = np.frompyfunc(myadd, 2, 1)\n",
        "\n",
        "print(myadd([1, 2, 3, 4], [5, 6, 7, 8]))"
      ],
      "metadata": {
        "colab": {
          "base_uri": "https://localhost:8080/"
        },
        "id": "ZBOGQ3DpwwMW",
        "outputId": "8f60b522-f7db-484a-9a0e-2b7910d51aef"
      },
      "execution_count": null,
      "outputs": [
        {
          "output_type": "stream",
          "name": "stdout",
          "text": [
            "[6 8 10 12]\n"
          ]
        }
      ]
    },
    {
      "cell_type": "markdown",
      "source": [
        "#aritmetiksel ufuncs"
      ],
      "metadata": {
        "id": "WD70eHbXxTjO"
      }
    },
    {
      "cell_type": "code",
      "source": [
        "arr1 = np.array([10, 11, 12, 13, 14, 15])\n",
        "arr2 = np.array([20, 21, 22, 23, 24, 25])\n",
        "\n",
        "newarr = np.add(arr1, arr2)\n",
        "\n",
        "print(newarr)\n",
        "\n",
        "newarr = np.subtract(arr1, arr2)\n",
        "\n",
        "print(newarr)\n",
        "\n"
      ],
      "metadata": {
        "id": "outGNModxWy2"
      },
      "execution_count": null,
      "outputs": []
    },
    {
      "cell_type": "markdown",
      "source": [
        "#yuvarlama\n",
        "\n",
        "Ondalık basamakları kaldırın ve sıfıra en yakın olan ondalık sayıyı döndürün. trunc()ve fix()fonksiyonlarını kullanın."
      ],
      "metadata": {
        "id": "-k__KdEkxhgK"
      }
    },
    {
      "cell_type": "code",
      "source": [
        "arr = np.trunc([-3.1666, 3.6667])\n",
        "\n",
        "print(arr)\n",
        "\n",
        "arr = np.fix([-3.1666, 3.6667])\n",
        "\n",
        "print(arr)"
      ],
      "metadata": {
        "id": "Yp37UewQxttm"
      },
      "execution_count": null,
      "outputs": []
    },
    {
      "cell_type": "markdown",
      "source": [
        "Fonksiyon around(), eğer >=5 ise önceki rakamı veya ondalık basamağı 1 artırır, aksi takdirde hiçbir şey yapmaz.\n",
        "\n",
        "Örn. 1 ondalık basamağa yuvarlarsak, 3.16666 = 3.2 olur.\n",
        "\n"
      ],
      "metadata": {
        "id": "KdwSU8BTxwx_"
      }
    },
    {
      "cell_type": "code",
      "source": [
        "arr = np.around(3.1666, 2)\n",
        "\n",
        "print(arr)"
      ],
      "metadata": {
        "id": "JmQOhCa0x5s2"
      },
      "execution_count": null,
      "outputs": []
    },
    {
      "cell_type": "code",
      "source": [
        "print(\"\\n\" + \"=\"*60)\n",
        "print(\"=== 2. MATEMATİKSEL UFUNC'LER ===\\n\")\n",
        "\n",
        "# 2.1 TEMEL ARİTMETİK UFUNC'LER\n",
        "print(\"2.1 TEMEL ARİTMETİK UFUNC'LER:\")\n",
        "\n",
        "x = np.array([1, 2, 3, 4, 5])\n",
        "y = np.array([10, 20, 30, 40, 50])\n",
        "\n",
        "print(\"x:\", x)\n",
        "print(\"y:\", y)\n",
        "\n",
        "print(\"\\nTemel Aritmetik İşlemler:\")\n",
        "print(\"Toplama (add):\", np.add(x, y))\n",
        "print(\"Çıkarma (subtract):\", np.subtract(y, x))\n",
        "print(\"Çarpma (multiply):\", np.multiply(x, y))\n",
        "print(\"Bölme (divide):\", np.divide(y, x))\n",
        "print(\"Üs alma (power):\", np.power(x, 2))\n",
        "print(\"Karekök (sqrt):\", np.sqrt(x))\n",
        "\n",
        "# 2.2 MOD ve BÖLME İŞLEMLERİ\n",
        "print(\"\\n2.2 MOD ve BÖLME İŞLEMLERİ:\")\n",
        "\n",
        "print(\"Bölüm (floor_divide):\", np.floor_divide(y, x))\n",
        "print(\"Kalan (mod/remainder):\", np.mod(y, x))\n",
        "print(\"Hem bölüm hem kalan:\")\n",
        "\n",
        "bolum, kalan = np.divmod(y, x)  # Çoklu output\n",
        "print(\"  Bölüm:\", bolum)\n",
        "print(\"  Kalan:\", kalan)\n",
        "\n",
        "# 2.3 MUTLAK DEĞER ve İŞARET FONKSİYONLARI\n",
        "print(\"\\n2.3 MUTLAK DEĞER ve İŞARET FONKSİYONLARI:\")\n",
        "\n",
        "karisik_sayilar = np.array([-5, 3.7, -2.1, 0, 8.9, -0.5])\n",
        "print(\"Sayılar:\", karisik_sayilar)\n",
        "print(\"Mutlak değer (absolute):\", np.absolute(karisik_sayilar))\n",
        "print(\"İşaret (sign):\", np.sign(karisik_sayilar))\n",
        "print(\"Pozitif mi? (positive):\", np.positive(karisik_sayilar))\n",
        "print(\"Negatif mi? (negative):\", np.negative(karisik_sayilar))\n",
        "\n",
        "# 2.4 YUVARLAMA FONKSİYONLARI\n",
        "print(\"\\n2.4 YUVARLAMA FONKSİYONLARI:\")\n",
        "\n",
        "ondalikli_sayilar = np.array([3.14159, 2.71828, 1.41421, 5.6789, 9.8765])\n",
        "print(\"Ondalıklı sayılar:\", ondalikli_sayilar)\n",
        "\n",
        "print(\"Yuvarla (round):\", np.round(ondalikli_sayilar, 2))  # 2 basamak\n",
        "print(\"Aşağı yuvarla (floor):\", np.floor(ondalikli_sayilar))\n",
        "print(\"Yukarı yuvarla (ceil):\", np.ceil(ondalikli_sayilar))\n",
        "print(\"Kesirli kısım (frac):\", ondalikli_sayilar - np.floor(ondalikli_sayilar))\n",
        "\n",
        "# 2.5 LOGARİTMİK FONKSİYONLAR\n",
        "print(\"\\n2.5 LOGARİTMİK FONKSİYONLAR:\")\n",
        "\n",
        "pozitif_sayilar = np.array([1, 10, 100, 1000, 10000])\n",
        "print(\"Pozitif sayılar:\", pozitif_sayilar)\n",
        "\n",
        "print(\"Doğal logaritma (log):\", np.log(pozitif_sayilar))\n",
        "print(\"10 tabanlı log (log10):\", np.log10(pozitif_sayilar))\n",
        "print(\"2 tabanlı log (log2):\", np.log2(pozitif_sayilar))\n",
        "print(\"Exponential (exp):\", np.exp([0, 1, 2, 3]))  # e^0, e^1, e^2, e^3\n",
        "\n",
        "# 2.6 GERÇEK HAYAT UYGULAMASI: FİNANSAL HESAPLAMALAR\n",
        "print(\"\\n2.6 GERÇEK HAYAT UYGULAMASI - FİNANSAL HESAPLAMALAR:\")\n",
        "\n",
        "# Basit faiz hesaplama\n",
        "anapara = np.array([1000, 5000, 10000, 20000])\n",
        "faiz_orani = 0.08  # %8 yıllık faiz\n",
        "yil = np.array([1, 3, 5, 10])\n",
        "\n",
        "gelecek_deger = anapara * np.power(1 + faiz_orani, yil)\n",
        "print(\"Anapara:\", anapara)\n",
        "print(\"Yıl:\", yil)\n",
        "print(\"Gelecek değer:\", gelecek_deger.astype(int))\n",
        "\n",
        "# Bileşik faiz getirisi\n",
        "baslangic = 10000\n",
        "bitis = np.array([11000, 12500, 15000, 18000])\n",
        "yil_sayisi = 5\n",
        "\n",
        "getiri_orani = np.power(bitis / baslangic, 1/yil_sayisi) - 1\n",
        "print(f\"\\nBaşlangıç: {baslangic} TL\")\n",
        "print(\"Bitiş değerleri:\", bitis)\n",
        "print(\"Yıllık getiri oranları: %\", (getiri_orani * 100).round(2))"
      ],
      "metadata": {
        "id": "mD2vsCBLyXdr"
      },
      "execution_count": null,
      "outputs": []
    }
  ]
}