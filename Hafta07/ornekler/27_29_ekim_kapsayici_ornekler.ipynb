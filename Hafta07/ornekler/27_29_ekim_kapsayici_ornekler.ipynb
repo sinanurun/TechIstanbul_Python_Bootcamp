{
  "nbformat": 4,
  "nbformat_minor": 0,
  "metadata": {
    "colab": {
      "provenance": []
    },
    "kernelspec": {
      "name": "python3",
      "display_name": "Python 3"
    },
    "language_info": {
      "name": "python"
    }
  },
  "cells": [
    {
      "cell_type": "markdown",
      "source": [
        "# oturum 1 27 Ekim örnekleri\n",
        "diğerleri oturum 2 için aşağıda"
      ],
      "metadata": {
        "id": "AI8CHn3_x7JU"
      }
    },
    {
      "cell_type": "code",
      "execution_count": null,
      "metadata": {
        "id": "MDjIE31FxAef"
      },
      "outputs": [],
      "source": [
        "import numpy as np\n",
        "\n",
        "\"\"\"\n",
        "Soru: Bir markette 5 farklı ürünün fiyatları ve alınan miktarları veriliyor.\n",
        "Toplam ödenecek tutarı NumPy kullanarak hesaplayın.\n",
        "\"\"\"\n",
        "# Ürün fiyatları (TL)\n",
        "urun_fiyatlari = np.array([15.50, 8.75, 25.00, 12.25, 6.50])\n",
        "\n",
        "# Alınan miktarlar (adet)\n",
        "alinan_miktarlar = np.array([2, 3, 1, 4, 2])\n",
        "\n",
        "# Vektörel çarpım ile toplam tutar hesaplama\n",
        "toplam_tutar = np.sum(urun_fiyatlari * alinan_miktarlar)\n",
        "print(f\"Toplam ödenecek tutar: {toplam_tutar:.2f} TL\")"
      ]
    },
    {
      "cell_type": "code",
      "source": [
        "import numpy as np\n",
        "\n",
        "\"\"\"\n",
        "Soru: Bir haftalık günlük ortalama sıcaklık verileri veriliyor.\n",
        "Haftanın ortalama sıcaklığını ve en sıcak günü bulun.\n",
        "\"\"\"\n",
        "# Günlük ortalama sıcaklıklar (°C)\n",
        "sicakliklar = np.array([22.5, 24.1, 19.8, 21.3, 25.6, 23.2, 20.7])\n",
        "\n",
        "# Ortalama sıcaklık\n",
        "ortalama_sicaklik = np.mean(sicakliklar)\n",
        "print(f\"Haftalık ortalama sıcaklık: {ortalama_sicaklik:.1f}°C\")\n",
        "\n",
        "# En sıcak gün\n",
        "en_sicak_gun = np.max(sicakliklar)\n",
        "en_sicak_gun_indeksi = np.argmax(sicakliklar)\n",
        "gunler = [\"Pazartesi\", \"Salı\", \"Çarşamba\", \"Perşembe\", \"Cuma\", \"Cumartesi\", \"Pazar\"]\n",
        "print(f\"En sıcak gün: {gunler[en_sicak_gun_indeksi]} ({en_sicak_gun}°C)\")"
      ],
      "metadata": {
        "id": "B73N-p1bxL1D"
      },
      "execution_count": null,
      "outputs": []
    },
    {
      "cell_type": "code",
      "source": [
        "import numpy as np\n",
        "\n",
        "\"\"\"\n",
        "Soru: 5 öğrencinin 3 sınav notu veriliyor.\n",
        "Her öğrencinin not ortalamasını ve sınıfın genel ortalamasını hesaplayın.\n",
        "\"\"\"\n",
        "# Öğrenci notları (5 öğrenci, 3 sınav)\n",
        "notlar = np.array([\n",
        "    [85, 90, 78],  # 1. öğrenci\n",
        "    [92, 88, 95],  # 2. öğrenci\n",
        "    [76, 82, 79],  # 3. öğrenci\n",
        "    [88, 85, 92],  # 4. öğrenci\n",
        "    [95, 96, 98]   # 5. öğrenci\n",
        "])\n",
        "\n",
        "# Öğrenci başına ortalama (axis=1: satırlar boyunca)\n",
        "ogrenci_ortalamalari = np.mean(notlar, axis=1)\n",
        "print(\"Öğrenci ortalamaları:\", ogrenci_ortalamalari)\n",
        "\n",
        "# Sınıf genel ortalaması\n",
        "sinif_ortalamasi = np.mean(notlar)\n",
        "print(f\"Sınıf genel ortalaması: {sinif_ortalamasi:.2f}\")"
      ],
      "metadata": {
        "id": "-jnfbjfhxP33"
      },
      "execution_count": null,
      "outputs": []
    },
    {
      "cell_type": "code",
      "source": [
        "import numpy as np\n",
        "\n",
        "\"\"\"\n",
        "Soru: Bir fitness uygulamasında kullanıcının haftalık adım sayıları veriliyor.\n",
        "Günlük ortalama adım sayısını ve hedefe ulaşılan günleri bulun.\n",
        "\"\"\"\n",
        "# Günlük adım sayıları\n",
        "gunluk_adimlar = np.array([8456, 12034, 9876, 15678, 11234, 13456, 10987])\n",
        "\n",
        "# Günlük hedef adım sayısı\n",
        "hedef_adim = 10000\n",
        "\n",
        "# Ortalama adım sayısı\n",
        "ortalama_adim = np.mean(gunluk_adimlar)\n",
        "print(f\"Günlük ortalama adım: {ortalama_adim:.0f}\")\n",
        "\n",
        "# Hedefe ulaşılan günler\n",
        "hedefe_ulasilan_gunler = gunluk_adimlar[gunluk_adimlar >= hedef_adim]\n",
        "print(f\"Hedefe ulaşılan gün sayısı: {len(hedefe_ulasilan_gunler)}\")\n",
        "print(f\"Hedefe ulaşılan günlerdeki adımlar: {hedefe_ulasilan_gunler}\")"
      ],
      "metadata": {
        "id": "IqBMGM_3xQjg"
      },
      "execution_count": null,
      "outputs": []
    },
    {
      "cell_type": "code",
      "source": [
        "import numpy as np\n",
        "\n",
        "\"\"\"\n",
        "Soru: Farklı miktarlardaki dolar değerlerini TL'ye çevirin.\n",
        "\"\"\"\n",
        "# Dolar miktarları\n",
        "dolar_miktarlari = np.array([100, 250, 500, 1000, 50])\n",
        "\n",
        "# Dolar kuru (TL)\n",
        "dolar_kuru = 32.45\n",
        "\n",
        "# TL karşılıkları (broadcasting kullanarak)\n",
        "tl_karsiliklari = dolar_miktarlari * dolar_kuru\n",
        "print(\"Dolar miktarları:\", dolar_miktarlari)\n",
        "print(\"TL karşılıkları:\", np.round(tl_karsiliklari, 2))"
      ],
      "metadata": {
        "id": "TJ37wwzOxUEw"
      },
      "execution_count": null,
      "outputs": []
    },
    {
      "cell_type": "code",
      "source": [
        "import numpy as np\n",
        "\n",
        "\"\"\"\n",
        "Soru: Bir aracın haftalık yakıt tüketim verileri veriliyor.\n",
        "Toplam yakıt tüketimini ve günlük ortalama tüketimi hesaplayın.\n",
        "\"\"\"\n",
        "# Günlük yakıt tüketimi (litre)\n",
        "gunluk_tuketim = np.array([8.5, 7.2, 9.1, 6.8, 10.2, 12.5, 5.9])\n",
        "\n",
        "# Toplam yakıt tüketimi\n",
        "toplam_tuketim = np.sum(gunluk_tuketim)\n",
        "print(f\"Toplam yakıt tüketimi: {toplam_tuketim:.1f} litre\")\n",
        "\n",
        "# Ortalama günlük tüketim\n",
        "ortalama_tuketim = np.mean(gunluk_tuketim)\n",
        "print(f\"Ortalama günlük tüketim: {ortalama_tuketim:.1f} litre\")\n",
        "\n",
        "# En verimli gün (en az tüketim)\n",
        "en_verimli_gun = np.min(gunluk_tuketim)\n",
        "print(f\"En verimli gün tüketimi: {en_verimli_gun:.1f} litre\")"
      ],
      "metadata": {
        "id": "j8zavnC_xX4X"
      },
      "execution_count": null,
      "outputs": []
    },
    {
      "cell_type": "code",
      "source": [
        "import numpy as np\n",
        "\n",
        "\"\"\"\n",
        "Soru: Bir sosyal medya hesabının günlük yeni takipçi sayıları veriliyor.\n",
        "Toplam takipçi artışını ve ortalama günlük artışı hesaplayın.\n",
        "\"\"\"\n",
        "# Günlük yeni takipçi sayıları\n",
        "gunluk_takipci_artisi = np.array([45, 67, 23, 89, 34, 56, 78])\n",
        "\n",
        "# Toplam takipçi artışı\n",
        "toplam_artis = np.sum(gunluk_takipci_artisi)\n",
        "print(f\"Toplam takipçi artışı: {toplam_artis}\")\n",
        "\n",
        "# Ortalama günlük artış\n",
        "ortalama_artis = np.mean(gunluk_takipci_artisi)\n",
        "print(f\"Ortalama günlük takipçi artışı: {ortalama_artis:.1f}\")\n",
        "\n",
        "# En başarılı gün (en fazla takipçi)\n",
        "en_basarili_gun = np.max(gunluk_takipci_artisi)\n",
        "print(f\"En başarılı gün takipçi artışı: {en_basarili_gun}\")"
      ],
      "metadata": {
        "id": "1nI8voJkxbpw"
      },
      "execution_count": null,
      "outputs": []
    },
    {
      "cell_type": "code",
      "source": [
        "import numpy as np\n",
        "\n",
        "\"\"\"\n",
        "Soru: Bir evin aylık elektrik tüketim verileri veriliyor.\n",
        "Aylık ortalama tüketimi ve toplam yıllık tüketimi hesaplayın.\n",
        "\"\"\"\n",
        "# Aylık elektrik tüketimi (kWh)\n",
        "aylik_tuketim = np.array([350, 420, 380, 290, 310, 480, 520, 450, 390, 340, 410, 430])\n",
        "\n",
        "# Ortalama aylık tüketim\n",
        "ortalama_aylik = np.mean(aylik_tuketim)\n",
        "print(f\"Ortalama aylık tüketim: {ortalama_aylik:.0f} kWh\")\n",
        "\n",
        "# Toplam yıllık tüketim\n",
        "toplam_yillik = np.sum(aylik_tuketim)\n",
        "print(f\"Toplam yıllık tüketim: {toplam_yillik} kWh\")\n",
        "\n",
        "# En yüksek tüketim ayları (400 kWh üzeri)\n",
        "yuksek_tuketim_aylari = aylik_tuketim[aylik_tuketim > 400]\n",
        "print(f\"400 kWh üzeri tüketim ayları: {yuksek_tuketim_aylari}\")"
      ],
      "metadata": {
        "id": "h6Ivh_Z7xeo3"
      },
      "execution_count": null,
      "outputs": []
    },
    {
      "cell_type": "code",
      "source": [
        "import numpy as np\n",
        "\n",
        "\"\"\"\n",
        "Soru: Bir e-ticaret sitesindeki ürünlerin orijinal fiyatları ve indirim oranları veriliyor.\n",
        "İndirimli fiyatları hesaplayın.\n",
        "\"\"\"\n",
        "# Ürün fiyatları\n",
        "urun_fiyatlari = np.array([199.99, 149.50, 299.00, 89.99, 459.00])\n",
        "\n",
        "# İndirim oranları (%)\n",
        "indirim_oranlari = np.array([15, 20, 10, 25, 30])\n",
        "\n",
        "# İndirimli fiyatlar\n",
        "indirimli_fiyatlar = urun_fiyatlari * (1 - indirim_oranlari / 100)\n",
        "print(\"Orijinal fiyatlar:\", urun_fiyatlari)\n",
        "print(\"İndirimli fiyatlar:\", np.round(indirimli_fiyatlar, 2))\n",
        "\n",
        "# Toplam tasarruf\n",
        "toplam_tasarruf = np.sum(urun_fiyatlari) - np.sum(indirimli_fiyatlar)\n",
        "print(f\"Toplam tasarruf: {toplam_tasarruf:.2f} TL\")"
      ],
      "metadata": {
        "id": "KTdrLD5-xhgP"
      },
      "execution_count": null,
      "outputs": []
    },
    {
      "cell_type": "code",
      "source": [
        "import numpy as np\n",
        "\n",
        "\"\"\"\n",
        "Soru: Bir restoranda müşterilerin yemek puanlamaları veriliyor.\n",
        "Ortalama puanı ve en yüksek/endüşük puanları bulun.\n",
        "\"\"\"\n",
        "# Müşteri puanları (1-10 arası)\n",
        "musteri_puanlari = np.array([8, 9, 7, 10, 6, 9, 8, 7, 10, 8, 9, 7])\n",
        "\n",
        "# Ortalama puan\n",
        "ortalama_puan = np.mean(musteri_puanlari)\n",
        "print(f\"Ortalama müşteri puanı: {ortalama_puan:.1f}\")\n",
        "\n",
        "# En yüksek ve en düşük puanlar\n",
        "en_yuksek_puan = np.max(musteri_puanlari)\n",
        "en_dusuk_puan = np.min(musteri_puanlari)\n",
        "print(f\"En yüksek puan: {en_yuksek_puan}\")\n",
        "print(f\"En düşük puan: {en_dusuk_puan}\")\n",
        "\n",
        "# 8 ve üzeri puan alan müşteri sayısı\n",
        "yuksek_puan_sayisi = np.sum(musteri_puanlari >= 8)\n",
        "print(f\"8 ve üzeri puan veren müşteri sayısı: {yuksek_puan_sayisi}\")"
      ],
      "metadata": {
        "id": "IJsmVueVxop_"
      },
      "execution_count": null,
      "outputs": []
    },
    {
      "cell_type": "code",
      "source": [
        "import numpy as np\n",
        "\n",
        "\"\"\"\n",
        "Soru: Bir mağazanın ürün stok durumları veriliyor.\n",
        "Kritik stok seviyesinin altındaki ürünleri belirleyin.\n",
        "\"\"\"\n",
        "# Ürün stok miktarları\n",
        "stok_miktarlari = np.array([45, 12, 78, 5, 23, 56, 8, 34, 67, 2])\n",
        "\n",
        "# Ürün isimleri\n",
        "urun_isimleri = np.array(['A', 'B', 'C', 'D', 'E', 'F', 'G', 'H', 'I', 'J'])\n",
        "\n",
        "# Kritik stok seviyesi\n",
        "kritik_stok = 10\n",
        "\n",
        "# Kritik seviyenin altındaki ürünler\n",
        "kritik_urunler = urun_isimleri[stok_miktarlari < kritik_stok]\n",
        "kritik_miktarlar = stok_miktarlari[stok_miktarlari < kritik_stok]\n",
        "\n",
        "print(\"Kritik stok seviyesinin altındaki ürünler:\")\n",
        "for urun, miktar in zip(kritik_urunler, kritik_miktarlar):\n",
        "    print(f\"{urun}: {miktar} adet\")"
      ],
      "metadata": {
        "id": "5VBbgxBmxrin"
      },
      "execution_count": null,
      "outputs": []
    },
    {
      "cell_type": "code",
      "source": [
        "import numpy as np\n",
        "\n",
        "\"\"\"\n",
        "Soru: Bir basketbol takımının oyuncularının maç başına sayı ortalamaları veriliyor.\n",
        "Takımın genel performansını analiz edin.\n",
        "\"\"\"\n",
        "# Oyuncu sayı ortalamaları\n",
        "oyuncu_ortalamalari = np.array([15.6, 22.3, 18.7, 12.9, 25.1, 14.8, 19.5])\n",
        "\n",
        "# Takım ortalaması\n",
        "takim_ortalamasi = np.mean(oyuncu_ortalamalari)\n",
        "print(f\"Takım sayı ortalaması: {takim_ortalamasi:.1f}\")\n",
        "\n",
        "# En skorer oyuncu\n",
        "en_skorer = np.max(oyuncu_ortalamalari)\n",
        "en_skorer_indeks = np.argmax(oyuncu_ortalamalari)\n",
        "print(f\"En skorer oyuncu: {en_skorer_indeks + 1}. oyuncu ({en_skorer} sayı/maç)\")\n",
        "\n",
        "# 20 sayı/maç üzeri performans gösteren oyuncular\n",
        "ustun_performans = oyuncu_ortalamalari[oyuncu_ortalamalari > 20]\n",
        "print(f\"20 sayı/maç üzeri performans: {len(ustun_performans)} oyuncu\")"
      ],
      "metadata": {
        "id": "oR9goRFXxtO4"
      },
      "execution_count": null,
      "outputs": []
    },
    {
      "cell_type": "code",
      "source": [
        "import numpy as np\n",
        "\n",
        "\"\"\"\n",
        "Soru: Bir web sitesinin saatlik ziyaretçi sayıları veriliyor.\n",
        "Günün en yoğun saatlerini ve toplam ziyaretçi sayısını bulun.\n",
        "\"\"\"\n",
        "# Saatlik ziyaretçi sayıları (24 saat)\n",
        "saatlik_ziyaretci = np.array([45, 32, 28, 25, 23, 35, 67, 124, 187, 234, 256, 278,\n",
        "                             265, 243, 198, 167, 145, 178, 195, 167, 134, 98, 67, 45])\n",
        "\n",
        "# Toplam günlük ziyaretçi\n",
        "toplam_ziyaretci = np.sum(saatlik_ziyaretci)\n",
        "print(f\"Toplam günlük ziyaretçi: {toplam_ziyaretci}\")\n",
        "\n",
        "# En yoğun saat\n",
        "en_yogun_saat = np.argmax(saatlik_ziyaretci)\n",
        "en_yogun_ziyaretci = np.max(saatlik_ziyaretci)\n",
        "print(f\"En yoğun saat: {en_yogun_saat}:00 ({en_yogun_ziyaretci} ziyaretçi)\")\n",
        "\n",
        "# Ortalama saatlik ziyaretçi\n",
        "ortalama_ziyaretci = np.mean(saatlik_ziyaretci)\n",
        "print(f\"Ortalama saatlik ziyaretçi: {ortalama_ziyaretci:.1f}\")"
      ],
      "metadata": {
        "id": "ZhuxXn8ZxvNf"
      },
      "execution_count": null,
      "outputs": []
    },
    {
      "cell_type": "code",
      "source": [
        "import numpy as np\n",
        "\n",
        "\"\"\"\n",
        "Soru: Farklı akaryakıt istasyonlarındaki benzin fiyatları veriliyor.\n",
        "En ucuz ve en pahalı istasyonları bulun.\n",
        "\"\"\"\n",
        "# Akaryakıt istasyonu fiyatları (TL/lt)\n",
        "benzin_fiyatlari = np.array([42.85, 43.20, 42.45, 43.50, 42.90, 43.75, 42.60])\n",
        "\n",
        "# İstasyon isimleri\n",
        "istasyon_isimleri = np.array(['BP', 'Shell', 'OPET', 'Petrol Ofisi', 'Total', 'Aygaz', 'Alpet'])\n",
        "\n",
        "# En ucuz ve en pahalı fiyatlar\n",
        "en_ucuz_fiyat = np.min(benzin_fiyatlari)\n",
        "en_ucuz_indeks = np.argmin(benzin_fiyatlari)\n",
        "\n",
        "en_pahali_fiyat = np.max(benzin_fiyatlari)\n",
        "en_pahali_indeks = np.argmax(benzin_fiyatlari)\n",
        "\n",
        "print(f\"En ucuz istasyon: {istasyon_isimleri[en_ucuz_indeks]} - {en_ucuz_fiyat} TL\")\n",
        "print(f\"En pahalı istasyon: {istasyon_isimleri[en_pahali_indeks]} - {en_pahali_fiyat} TL\")\n",
        "\n",
        "# Ortalama benzin fiyatı\n",
        "ortalama_fiyat = np.mean(benzin_fiyatlari)\n",
        "print(f\"Ortalama benzin fiyatı: {ortalama_fiyat:.2f} TL\")"
      ],
      "metadata": {
        "id": "IqhIZ2ZpxysQ"
      },
      "execution_count": null,
      "outputs": []
    },
    {
      "cell_type": "code",
      "source": [
        "import numpy as np\n",
        "\n",
        "\"\"\"\n",
        "Soru: Bir kripto paranın günlük fiyat değişimleri veriliyor.\n",
        "En karlı ve en zararlı günleri belirleyin.\n",
        "\"\"\"\n",
        "# Günlük fiyat değişimleri (%)\n",
        "gunluk_degisim = np.array([2.5, -1.8, 5.2, -3.1, 1.7, -2.4, 4.8, -0.9, 3.2, -1.5])\n",
        "\n",
        "# En karlı gün (en yüksek artış)\n",
        "en_karli_gun = np.max(gunluk_degisim)\n",
        "en_karli_indeks = np.argmax(gunluk_degisim)\n",
        "\n",
        "# En zararlı gün (en yüksek düşüş)\n",
        "en_zararli_gun = np.min(gunluk_degisim)\n",
        "en_zararli_indeks = np.argmin(gunluk_degisim)\n",
        "\n",
        "print(f\"En karlı gün: {en_karli_indeks + 1}. gün (%{en_karli_gun:.1f} artış)\")\n",
        "print(f\"En zararlı gün: {en_zararli_indeks + 1}. gün (%{en_zararli_gun:.1f} düşüş)\")\n",
        "\n",
        "# Pozitif getiri gün sayısı\n",
        "pozitif_gun_sayisi = np.sum(gunluk_degisim > 0)\n",
        "print(f\"Pozitif getiri gün sayısı: {pozitif_gun_sayisi}\")"
      ],
      "metadata": {
        "id": "NPkOEajhx0YB"
      },
      "execution_count": null,
      "outputs": []
    },
    {
      "cell_type": "markdown",
      "source": [
        "# oturum 2 29 Ekim Örnekleri"
      ],
      "metadata": {
        "id": "9lYEZwSzyDK3"
      }
    },
    {
      "cell_type": "code",
      "source": [
        "import numpy as np\n",
        "\n",
        "\"\"\"\n",
        "Örnek 1: Öğrenci Not Filtreleme\n",
        "Soru: Bir sınıftaki öğrencilerin notları veriliyor.\n",
        "Sadece geçer not alan (50 ve üzeri) öğrencileri listeleyin.\n",
        "\"\"\"\n",
        "# Öğrenci notları\n",
        "notlar = np.array([45, 78, 32, 89, 56, 92, 41, 67, 53, 84, 29, 71])\n",
        "\n",
        "# Boolean indeksleme ile geçer notlar\n",
        "gecer_notlar = notlar[notlar >= 50]\n",
        "gecer_sayisi = len(gecer_notlar)\n",
        "\n",
        "print(f\"Geçer not alan öğrenci sayısı: {gecer_sayisi}\")\n",
        "print(f\"Geçer notlar: {gecer_notlar}\")\n",
        "\n",
        "# Ortalama geçer not\n",
        "ortalama_gecer_not = np.mean(gecer_notlar)\n",
        "print(f\"Geçer not ortalaması: {ortalama_gecer_not:.1f}\")"
      ],
      "metadata": {
        "id": "_J6FXS-DyFoH"
      },
      "execution_count": null,
      "outputs": []
    },
    {
      "cell_type": "code",
      "source": [
        "import numpy as np\n",
        "\n",
        "\"\"\"\n",
        "Örnek 2: Hava Kalitesi İndeksi Analizi\n",
        "Soru: Bir şehirdeki günlük hava kalitesi indeksleri veriliyor.\n",
        "Sağlıklı seviyedeki (0-50 arası) günleri belirleyin.\n",
        "\"\"\"\n",
        "# Günlük hava kalitesi indeksleri\n",
        "hava_kalitesi = np.array([45, 67, 23, 89, 34, 56, 78, 12, 41, 65, 29, 51, 38, 72, 19])\n",
        "\n",
        "# Sağlıklı hava kalitesi günleri (0-50 arası)\n",
        "saglikli_gunler = hava_kalitesi[hava_kalitesi <= 50]\n",
        "saglikli_gun_sayisi = len(saglikli_gunler)\n",
        "\n",
        "print(f\"Sağlıklı hava kalitesi gün sayısı: {saglikli_gun_sayisi}\")\n",
        "print(f\"Sağlıklı günlerin indeks değerleri: {saglikli_gunler}\")\n",
        "\n",
        "# Ortalama sağlıklı indeks değeri\n",
        "ortalama_saglikli_indeks = np.mean(saglikli_gunler)\n",
        "print(f\"Sağlıklı günler ortalama indeks: {ortalama_saglikli_indeks:.1f}\")"
      ],
      "metadata": {
        "id": "NPARoZvgyJ_3"
      },
      "execution_count": null,
      "outputs": []
    },
    {
      "cell_type": "code",
      "source": [
        "import numpy as np\n",
        "\n",
        "\"\"\"\n",
        "Soru: Bir e-ticaret sitesindeki ürünlerin fiyatları ve stok durumları veriliyor.\n",
        "Stokta olan ve 100 TL altındaki ürünleri listeleyin.\n",
        "\"\"\"\n",
        "# Ürün fiyatları\n",
        "urun_fiyatlari = np.array([85.99, 149.50, 75.25, 199.99, 45.75, 299.00, 89.90, 125.00])\n",
        "\n",
        "# Stok durumları (1: stokta, 0: stokta yok)\n",
        "stok_durumu = np.array([1, 0, 1, 1, 0, 1, 1, 0])\n",
        "\n",
        "# Ürün isimleri\n",
        "urun_isimleri = np.array(['A', 'B', 'C', 'D', 'E', 'F', 'G', 'H'])\n",
        "\n",
        "# Stokta olan ve 100 TL altındaki ürünler\n",
        "filtre = (stok_durumu == 1) & (urun_fiyatlari < 100)\n",
        "uygun_urunler = urun_isimleri[filtre]\n",
        "uygun_fiyatlar = urun_fiyatlari[filtre]\n",
        "\n",
        "print(\"Stokta olan ve 100 TL altındaki ürünler:\")\n",
        "for urun, fiyat in zip(uygun_urunler, uygun_fiyatlar):\n",
        "    print(f\"{urun}: {fiyat:.2f} TL\")"
      ],
      "metadata": {
        "id": "erJixp8zyO4v"
      },
      "execution_count": null,
      "outputs": []
    },
    {
      "cell_type": "code",
      "source": [
        "import numpy as np\n",
        "\n",
        "\"\"\"\n",
        "Soru: Bir fitness programındaki katılımcıların başlangıç ve bitiş kiloları veriliyor.\n",
        "5 kg'dan fazla kilo veren katılımcıları belirleyin.\n",
        "\"\"\"\n",
        "# Başlangıç kiloları (kg)\n",
        "baslangic_kilo = np.array([85, 92, 78, 105, 68, 88, 95, 72])\n",
        "\n",
        "# Bitiş kiloları (kg)\n",
        "bitis_kilo = np.array([82, 86, 75, 97, 65, 80, 88, 70])\n",
        "\n",
        "# Kilo değişimleri\n",
        "kilo_degisim = baslangic_kilo - bitis_kilo\n",
        "\n",
        "# 5 kg'dan fazla kilo verenler\n",
        "basarili_katilimcilar = kilo_degisim > 5\n",
        "basarili_sayisi = np.sum(basarili_katilimcilar)\n",
        "\n",
        "print(f\"5 kg'dan fazla kilo veren katılımcı sayısı: {basarili_sayisi}\")\n",
        "print(f\"Kilo değişimleri: {kilo_degisim}\")\n",
        "\n",
        "# Ortalama kilo kaybı\n",
        "ortalama_kayip = np.mean(kilo_degisim)\n",
        "print(f\"Ortalama kilo kaybı: {ortalama_kayip:.1f} kg\")"
      ],
      "metadata": {
        "id": "RT1c4qCLySvI"
      },
      "execution_count": null,
      "outputs": []
    },
    {
      "cell_type": "code",
      "source": [
        "import numpy as np\n",
        "\n",
        "\"\"\"\n",
        "Soru: Bir hisse senedinin günlük kapanış fiyatları veriliyor.\n",
        "50 günlük hareketli ortalamanın üzerinde kapanan günleri bulun.\n",
        "\"\"\"\n",
        "# Hisse senedi kapanış fiyatları (30 gün)\n",
        "kapanis_fiyatlari = np.array([45.6, 46.2, 44.8, 47.1, 45.9, 48.3, 46.7, 49.2, 47.8,\n",
        "                             48.9, 50.1, 49.5, 51.2, 50.8, 52.1, 51.6, 53.4, 52.7,\n",
        "                             54.2, 53.8, 55.1, 54.5, 56.3, 55.7, 57.2, 56.8, 58.1,\n",
        "                             57.5, 59.3, 58.6])\n",
        "\n",
        "# 5 günlük hareketli ortalama\n",
        "hareketli_ortalama = np.convolve(kapanis_fiyatlari, np.ones(5)/5, mode='valid')\n",
        "\n",
        "# Hareketli ortalamanın üzerinde kapanan günler\n",
        "ustunde_kapanan_gunler = kapanis_fiyatlari[4:] > hareketli_ortalama\n",
        "ustunde_gun_sayisi = np.sum(ustunde_kapanan_gunler)\n",
        "\n",
        "print(f\"Hareketli ortalamanın üzerinde kapanan gün sayısı: {ustunde_gun_sayisi}\")\n",
        "print(f\"Toplam analiz edilen gün sayısı: {len(hareketli_ortalama)}\")"
      ],
      "metadata": {
        "colab": {
          "base_uri": "https://localhost:8080/"
        },
        "id": "DLmxIShByYKn",
        "outputId": "e56c009b-22e8-44f7-f6d5-54b232e929b3"
      },
      "execution_count": 1,
      "outputs": [
        {
          "output_type": "stream",
          "name": "stdout",
          "text": [
            "Hareketli ortalamanın üzerinde kapanan gün sayısı: 25\n",
            "Toplam analiz edilen gün sayısı: 26\n"
          ]
        }
      ]
    },
    {
      "cell_type": "code",
      "source": [
        "import numpy as np\n",
        "\n",
        "\"\"\"\n",
        "Soru: Bir online testte alınan puanlar veriliyor.\n",
        "Puanları A(90-100), B(80-89), C(70-79), D(60-69), F(0-59) şeklinde kategorilere ayırın.\n",
        "\"\"\"\n",
        "# Test puanları\n",
        "test_puanlari = np.array([85, 92, 78, 45, 67, 89, 95, 72, 58, 83, 76, 91, 64, 79, 87])\n",
        "\n",
        "# Not kategorileri\n",
        "A_notu = test_puanlari[(test_puanlari >= 90)]\n",
        "B_notu = test_puanlari[(test_puanlari >= 80) & (test_puanlari < 90)]\n",
        "C_notu = test_puanlari[(test_puanlari >= 70) & (test_puanlari < 80)]\n",
        "D_notu = test_puanlari[(test_puanlari >= 60) & (test_puanlari < 70)]\n",
        "F_notu = test_puanlari[test_puanlari < 60]\n",
        "\n",
        "print(f\"A notu alanlar: {len(A_notu)} kişi - Puanlar: {A_notu}\")\n",
        "print(f\"B notu alanlar: {len(B_notu)} kişi - Puanlar: {B_notu}\")\n",
        "print(f\"C notu alanlar: {len(C_notu)} kişi - Puanlar: {C_notu}\")\n",
        "print(f\"D notu alanlar: {len(D_notu)} kişi - Puanlar: {D_notu}\")\n",
        "print(f\"F notu alanlar: {len(F_notu)} kişi - Puanlar: {F_notu}\")"
      ],
      "metadata": {
        "id": "d5W7Z29Tyv9x"
      },
      "execution_count": null,
      "outputs": []
    },
    {
      "cell_type": "code",
      "source": [
        "import numpy as np\n",
        "\n",
        "\"\"\"\n",
        "Soru: Bir restorandaki masaların kapasiteleri ve rezervasyon durumları veriliyor.\n",
        "4 kişilik ve üzeri boş masaları listeleyin.\n",
        "\"\"\"\n",
        "# Masa kapasiteleri\n",
        "masa_kapasiteleri = np.array([2, 4, 6, 2, 8, 4, 6, 2, 4, 10])\n",
        "\n",
        "# Rezervasyon durumları (1: dolu, 0: boş)\n",
        "rezervasyon_durumu = np.array([1, 0, 1, 0, 0, 1, 0, 1, 0, 1])\n",
        "\n",
        "# 4 kişilik ve üzeri boş masalar\n",
        "uygun_masalar = (masa_kapasiteleri >= 4) & (rezervasyon_durumu == 0)\n",
        "uygun_masa_kapasiteleri = masa_kapasiteleri[uygun_masalar]\n",
        "\n",
        "print(f\"Uygun masa sayısı (4 kişi ve üzeri): {len(uygun_masa_kapasiteleri)}\")\n",
        "print(f\"Uygun masa kapasiteleri: {uygun_masa_kapasiteleri}\")\n",
        "\n",
        "# Toplam uygun kapasite\n",
        "toplam_uygun_kapasite = np.sum(uygun_masa_kapasiteleri)\n",
        "print(f\"Toplam uygun kapasite: {toplam_uygun_kapasite} kişi\")"
      ],
      "metadata": {
        "id": "hnAdp6-my1AX"
      },
      "execution_count": null,
      "outputs": []
    },
    {
      "cell_type": "code",
      "source": [
        "import numpy as np\n",
        "\n",
        "\"\"\"\n",
        "Soru: Bir akıllı ev sisteminde oda sıcaklıkları veriliyor.\n",
        "Konfor sıcaklığı (20-24°C) dışındaki odaları belirleyin.\n",
        "\"\"\"\n",
        "# Oda sıcaklıkları (°C)\n",
        "oda_sicakliklari = np.array([22.5, 19.8, 25.2, 21.7, 18.9, 23.8, 26.1, 20.3])\n",
        "\n",
        "# Oda isimleri\n",
        "oda_isimleri = np.array(['Salon', 'Mutfak', 'Yatak Odası', 'Çocuk Odası',\n",
        "                        'Banyo', 'Çalışma Odası', 'Misafir Odası', 'Koridor'])\n",
        "\n",
        "# Konfor sıcaklığı dışındaki odalar\n",
        "konfor_disindaki_odalar = (oda_sicakliklari < 20) | (oda_sicakliklari > 24)\n",
        "problemli_odalar = oda_isimleri[konfor_disindaki_odalar]\n",
        "problemli_sicakliklar = oda_sicakliklari[konfor_disindaki_odalar]\n",
        "\n",
        "print(\"Konfor sıcaklığı dışındaki odalar:\")\n",
        "for oda, sicaklik in zip(problemli_odalar, problemli_sicakliklar):\n",
        "    durum = \"soğuk\" if sicaklik < 20 else \"sıcak\"\n",
        "    print(f\"{oda}: {sicaklik}°C ({durum})\")"
      ],
      "metadata": {
        "id": "qt7nbsUTy6ke"
      },
      "execution_count": null,
      "outputs": []
    },
    {
      "cell_type": "code",
      "source": [
        "import numpy as np\n",
        "\n",
        "\"\"\"\n",
        "Soru: Bir araç kiralama şirketindeki araçların günlük kiralama ücretleri ve yakıt türleri veriliyor.\n",
        "Benzinli ve 200 TL altındaki araçları listeleyin.\n",
        "\"\"\"\n",
        "# Araç kiralama ücretleri (TL/gün)\n",
        "kira_ucretleri = np.array([150, 280, 120, 350, 180, 220, 190, 250])\n",
        "\n",
        "# Yakıt türleri (0: benzin, 1: dizel, 2: elektrik)\n",
        "yakit_turleri = np.array([0, 1, 0, 1, 0, 2, 0, 1])\n",
        "\n",
        "# Araç modelleri\n",
        "arac_modelleri = np.array(['A', 'B', 'C', 'D', 'E', 'F', 'G', 'H'])\n",
        "\n",
        "# Benzinli ve 200 TL altı araçlar\n",
        "filtre = (yakit_turleri == 0) & (kira_ucretleri < 200)\n",
        "uygun_araclar = arac_modelleri[filtre]\n",
        "uygun_ucretler = kira_ucretleri[filtre]\n",
        "\n",
        "print(\"Benzinli ve 200 TL altı araçlar:\")\n",
        "for arac, ucret in zip(uygun_araclar, uyun_ucretler):\n",
        "    print(f\"{arac}: {ucret} TL/gün\")"
      ],
      "metadata": {
        "id": "UhcG_MsTy8ou"
      },
      "execution_count": null,
      "outputs": []
    },
    {
      "cell_type": "code",
      "source": [
        "import numpy as np\n",
        "\n",
        "\"\"\"\n",
        "Soru: Bir online kursa kayıtlı öğrencilerin tamamlama yüzdeleri veriliyor.\n",
        "Kursu %75 ve üzeri tamamlayan öğrencileri belirleyin.\n",
        "\"\"\"\n",
        "# Öğrenci tamamlama yüzdeleri (%)\n",
        "tamamlama_yuzdeleri = np.array([45, 89, 67, 92, 78, 56, 95, 82, 71, 88, 63, 97])\n",
        "\n",
        "# Öğrenci ID'leri\n",
        "ogrenci_id = np.array([101, 102, 103, 104, 105, 106, 107, 108, 109, 110, 111, 112])\n",
        "\n",
        "# Kursu %75 ve üzeri tamamlayan öğrenciler\n",
        "basari_ogrenciler = ogrenci_id[tamamlama_yuzdeleri >= 75]\n",
        "basari_yuzdeleri = tamamlama_yuzdeleri[tamamlama_yuzdeleri >= 75]\n",
        "\n",
        "print(f\"Kursu başarıyla tamamlayan öğrenci sayısı: {len(basari_ogrenciler)}\")\n",
        "print(\"Başarılı öğrenciler ve tamamlama yüzdeleri:\")\n",
        "for id, yuzde in zip(basari_ogrenciler, basari_yuzdeleri):\n",
        "    print(f\"Öğrenci {id}: %{yuzde}\")\n",
        "\n",
        "# Ortalama tamamlama yüzdesi\n",
        "ortalama_tamamlama = np.mean(tamamlama_yuzdeleri)\n",
        "print(f\"Tüm öğrencilerin ortalama tamamlama yüzdesi: %{ortalama_tamamlama:.1f}\")"
      ],
      "metadata": {
        "id": "W0nFh_-JzSeJ"
      },
      "execution_count": null,
      "outputs": []
    },
    {
      "cell_type": "code",
      "source": [
        "import numpy as np\n",
        "\n",
        "\"\"\"\n",
        "Soru: Bir akıllı bileklikten alınan günlük uyku süreleri veriliyor.\n",
        "7 saatten az uyunan günleri belirleyin.\n",
        "\"\"\"\n",
        "# Günlük uyku süreleri (saat)\n",
        "uyku_sureleri = np.array([6.5, 7.2, 5.8, 8.1, 6.9, 7.5, 5.2, 7.8, 6.3, 7.1, 5.9, 8.2, 6.7, 7.4])\n",
        "\n",
        "# Gün isimleri\n",
        "gunler = ['Pzt', 'Sal', 'Çar', 'Per', 'Cum', 'Cmt', 'Paz',\n",
        "          'Pzt', 'Sal', 'Çar', 'Per', 'Cum', 'Cmt', 'Paz']\n",
        "\n",
        "# 7 saatten az uyunan günler\n",
        "az_uyku_gunleri = uyku_sureleri < 7\n",
        "az_uyku_gun_isimleri = np.array(gunler)[az_uyku_gunleri]\n",
        "az_uyku_sureleri = uyku_sureleri[az_uyku_gunleri]\n",
        "\n",
        "print(\"7 saatten az uyunan günler:\")\n",
        "for gun, sure in zip(az_uyku_gun_isimleri, az_uyku_sureleri):\n",
        "    print(f\"{gun}: {sure:.1f} saat\")\n",
        "\n",
        "# Ortalama uyku süresi\n",
        "ortalama_uyku = np.mean(uyku_sureleri)\n",
        "print(f\"Ortalama uyku süresi: {ortalama_uyku:.1f} saat\")"
      ],
      "metadata": {
        "id": "vQsxvolPzeJ2"
      },
      "execution_count": null,
      "outputs": []
    },
    {
      "cell_type": "code",
      "source": [
        "import numpy as np\n",
        "\n",
        "\"\"\"\n",
        "Soru: Bir online ankete katılanların yaşları veriliyor.\n",
        "18-35 yaş arası katılımcıları belirleyin.\n",
        "\"\"\"\n",
        "# Katılımcı yaşları\n",
        "yaslar = np.array([25, 42, 19, 31, 56, 23, 38, 29, 45, 22, 33, 27, 48, 35, 41])\n",
        "\n",
        "# Katılımcı ID'leri\n",
        "katilimci_id = np.arange(1, len(yaslar) + 1)\n",
        "\n",
        "# 18-35 yaş arası katılımcılar\n",
        "genc_katilimcilar = (yaslar >= 18) & (yaslar <= 35)\n",
        "genc_id = katilimci_id[genc_katilimcilar]\n",
        "genc_yaslar = yaslar[genc_katilimcilar]\n",
        "\n",
        "print(f\"18-35 yaş arası katılımcı sayısı: {len(genc_id)}\")\n",
        "print(\"Genç katılımcılar:\")\n",
        "for id, yas in zip(genc_id, genc_yaslar):\n",
        "    print(f\"Katılımcı {id}: {yas} yaş\")\n",
        "\n",
        "# Genç katılımcıların ortalama yaşı\n",
        "ortalama_genc_yas = np.mean(genc_yaslar)\n",
        "print(f\"Genç katılımcıların ortalama yaşı: {ortalama_genc_yas:.1f}\")"
      ],
      "metadata": {
        "id": "v5IEZpMpzg-f"
      },
      "execution_count": null,
      "outputs": []
    },
    {
      "cell_type": "code",
      "source": [
        "import numpy as np\n",
        "\n",
        "\"\"\"\n",
        "Soru: Bir fabrikanın günlük enerji tüketim verileri veriliyor.\n",
        "Ortalamanın 2 standart sapma üzerindeki anormal tüketim günlerini bulun.\n",
        "\"\"\"\n",
        "# Günlük enerji tüketimi (kWh)\n",
        "enerji_tuketimi = np.array([1250, 1340, 1180, 2450, 1280, 1320, 1190, 2560, 1260, 1300])\n",
        "\n",
        "# Ortalama ve standart sapma\n",
        "ortalama_tuketim = np.mean(enerji_tuketimi)\n",
        "std_sapma = np.std(enerji_tuketimi)\n",
        "\n",
        "# Anormal tüketim eşiği\n",
        "anormal_esik = ortalama_tuketim + 2 * std_sapma\n",
        "\n",
        "# Anormal tüketim günleri\n",
        "anormal_gunler = enerji_tuketimi > anormal_esik\n",
        "anormal_tuketimler = enerji_tuketimi[anormal_gunler]\n",
        "\n",
        "print(f\"Ortalama tüketim: {ortalama_tuketim:.0f} kWh\")\n",
        "print(f\"Standart sapma: {std_sapma:.0f} kWh\")\n",
        "print(f\"Anormal tüketim eşiği: {anormal_esik:.0f} kWh\")\n",
        "print(f\"Anormal tüketim gün sayısı: {len(anormal_tuketimler)}\")\n",
        "print(f\"Anormal tüketim değerleri: {anormal_tuketimler}\")"
      ],
      "metadata": {
        "id": "zf8p4-OKzi92"
      },
      "execution_count": null,
      "outputs": []
    },
    {
      "cell_type": "code",
      "source": [
        "import numpy as np\n",
        "\n",
        "\"\"\"\n",
        "Soru: Bir online mağazanın müşterilerinin aylık harcama miktarları veriliyor.\n",
        "Müşterileri düşük (0-500 TL), orta (501-1000 TL) ve yüksek (1000+ TL) harcama gruplarına ayırın.\n",
        "\"\"\"\n",
        "# Müşteri aylık harcamaları (TL)\n",
        "aylik_harcamalar = np.array([350, 1200, 280, 850, 1500, 420, 980, 230, 1100, 670])\n",
        "\n",
        "# Müşteri ID'leri\n",
        "musteri_id = np.arange(1001, 1001 + len(aylik_harcamalar))\n",
        "\n",
        "# Harcama grupları\n",
        "dusuk_harcama = musteri_id[aylik_harcamalar <= 500]\n",
        "orta_harcama = musteri_id[(aylik_harcamalar > 500) & (aylik_harcamalar <= 1000)]\n",
        "yuksek_harcama = musteri_id[aylik_harcamalar > 1000]\n",
        "\n",
        "print(f\"Düşük harcama grubu ({len(dusuk_harcama)} müşteri): {dusuk_harcama}\")\n",
        "print(f\"Orta harcama grubu ({len(orta_harcama)} müşteri): {orta_harcama}\")\n",
        "print(f\"Yüksek harcama grubu ({len(yuksek_harcama)} müşteri): {yuksek_harcama}\")\n",
        "\n",
        "# Grup bazında ortalama harcamalar\n",
        "ortalama_dusuk = np.mean(aylik_harcamalar[aylik_harcamalar <= 500])\n",
        "ortalama_orta = np.mean(aylik_harcamalar[(aylik_harcamalar > 500) & (aylik_harcamalar <= 1000)])\n",
        "ortalama_yuksek = np.mean(aylik_harcamalar[aylik_harcamalar > 1000])\n",
        "\n",
        "print(f\"Düşük grubu ortalama: {ortalama_dusuk:.0f} TL\")\n",
        "print(f\"Orta grubu ortalama: {ortalama_orta:.0f} TL\")\n",
        "print(f\"Yüksek grubu ortalama: {ortalama_yuksek:.0f} TL\")"
      ],
      "metadata": {
        "id": "I92L3wuazlnG"
      },
      "execution_count": null,
      "outputs": []
    },
    {
      "cell_type": "code",
      "source": [
        "import numpy as np\n",
        "\n",
        "\"\"\"\n",
        "Soru: Bir kavşağın saatlik araç sayıları veriliyor.\n",
        "Yoğun saatlerdeki (100+ araç/saat) trafik verilerini analiz edin.\n",
        "\"\"\"\n",
        "# Saatlik araç sayıları\n",
        "saatlik_arac_sayilari = np.array([45, 67, 89, 124, 156, 198, 234, 267,\n",
        "                                  245, 187, 134, 98, 78, 56, 45, 67,\n",
        "                                  89, 123, 167, 189, 156, 134, 112, 89])\n",
        "\n",
        "# Yoğun saatler (100+ araç/saat)\n",
        "yogun_saatler = saatlik_arac_sayilari > 100\n",
        "yogun_saat_verileri = saatlik_arac_sayilari[yogun_saatler]\n",
        "\n",
        "print(f\"Yoğun trafik saat sayısı: {len(yogun_saat_verileri)}\")\n",
        "print(f\"Yoğun saatlerdeki araç sayıları: {yogun_saat_verileri}\")\n",
        "\n",
        "# Yoğun saatlerin ortalama araç sayısı\n",
        "ortalama_yogun = np.mean(yogun_saat_verileri)\n",
        "print(f\"Yoğun saatler ortalama araç sayısı: {ortalama_yogun:.0f}\")\n",
        "\n",
        "# En yoğun saat\n",
        "en_yogun_saat = np.max(yogun_saat_verileri)\n",
        "print(f\"En yoğun saatteki araç sayısı: {en_yogun_saat}\")"
      ],
      "metadata": {
        "id": "Qrb8dH_-zobm"
      },
      "execution_count": null,
      "outputs": []
    }
  ]
}