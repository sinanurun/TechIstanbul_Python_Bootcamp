{
  "nbformat": 4,
  "nbformat_minor": 0,
  "metadata": {
    "colab": {
      "provenance": []
    },
    "kernelspec": {
      "name": "python3",
      "display_name": "Python 3"
    },
    "language_info": {
      "name": "python"
    }
  },
  "cells": [
    {
      "cell_type": "markdown",
      "source": [
        "# np.arange ile listeler üretmek\n",
        "numpy.arange([start,] stop[, step], dtype=None)\n"
      ],
      "metadata": {
        "id": "ION6La07JZxY"
      }
    },
    {
      "cell_type": "code",
      "source": [
        "import numpy as np\n",
        "\n",
        "a = np.arange(5)\n",
        "print(a)\n",
        "\n",
        "b = np.arange(2, 10)\n",
        "print(b)\n",
        "\n",
        "c = np.arange(2, 10, 2)\n",
        "print(c)\n",
        "\n",
        "d = np.arange(10, 2, -2)\n",
        "print(d)\n",
        "\n",
        "#ondalıklı değerler ile\n",
        "d = np.arange(0, 1, 0.2)\n",
        "print(d)\n",
        "\n",
        "#dtype parametresi ile\n",
        "# dtype=int / dtype=float / dtype=complex gibi tipler kullanılabilir.\n",
        "e = np.arange(0, 10, 2, dtype=float)\n",
        "print(e)\n"
      ],
      "metadata": {
        "id": "tUvsYt5ZKTHr"
      },
      "execution_count": null,
      "outputs": []
    },
    {
      "cell_type": "code",
      "source": [
        "# a) Sayısal aralıklar oluşturmak - Sinyal, grafik veya matematiksel hesaplamalarda sıkça kullanılır.\n",
        "\n",
        "x = np.arange(0, 2*np.pi, 0.1)\n",
        "y = np.sin(x)\n",
        "print(y)\n"
      ],
      "metadata": {
        "id": "9y7H-AG_KewX"
      },
      "execution_count": null,
      "outputs": []
    },
    {
      "cell_type": "code",
      "source": [
        "# b) Matris şekline dönüştürmek -\n",
        "\n",
        "a = np.arange(12).reshape(3, 4)\n",
        "print(a)\n"
      ],
      "metadata": {
        "id": "CLp_scyMLGyO"
      },
      "execution_count": null,
      "outputs": []
    },
    {
      "cell_type": "markdown",
      "source": [
        "| Özellik                  | `arange()`                      | `linspace()`              |\n",
        "| ------------------------ | ------------------------------- | ------------------------- |\n",
        "| Adım belirleme           | `step` parametresiyle           | Eleman sayısı (`num`) ile |\n",
        "| Uç değer (stop) dahil mi | **Hayır**                       | **Evet (varsayılan)**     |\n",
        "| Ondalık hatası riski     | Evet (floating-point precision) | Hayır (daha kesin)        |\n"
      ],
      "metadata": {
        "id": "G5qHudmxLShw"
      }
    },
    {
      "cell_type": "code",
      "source": [
        "np.arange(0, 1, 0.2)      # [0. , 0.2, 0.4, 0.6, 0.8]\n",
        "np.linspace(0, 1, 5)       # [0. , 0.25, 0.5 , 0.75, 1. ]\n"
      ],
      "metadata": {
        "id": "fUWLEx4ELQY3"
      },
      "execution_count": null,
      "outputs": []
    },
    {
      "cell_type": "markdown",
      "source": [
        "# Örnekler"
      ],
      "metadata": {
        "id": "UmlBkxGCLXOy"
      }
    },
    {
      "cell_type": "code",
      "source": [
        "#kare alma\n",
        "x = np.arange(1, 6)\n",
        "y = x ** 2\n",
        "print(\"x:\", x)\n",
        "print(\"y:\", y)\n"
      ],
      "metadata": {
        "colab": {
          "base_uri": "https://localhost:8080/"
        },
        "id": "PBkQiToQLaOX",
        "outputId": "560d35d4-b642-41ce-9d61-cc34f9c466bc"
      },
      "execution_count": 2,
      "outputs": [
        {
          "output_type": "stream",
          "name": "stdout",
          "text": [
            "x: [1 2 3 4 5]\n",
            "y: [ 1  4  9 16 25]\n"
          ]
        }
      ]
    },
    {
      "cell_type": "code",
      "source": [
        "#grafik çizimi\n",
        "\n",
        "import matplotlib.pyplot as plt\n",
        "\n",
        "x = np.arange(0, 2*np.pi, 0.1)\n",
        "y = np.sin(x)\n",
        "\n",
        "plt.plot(x, y)\n",
        "plt.title(\"Sinüs Grafiği\")\n",
        "plt.xlabel(\"x\")\n",
        "plt.ylabel(\"sin(x)\")\n",
        "plt.show()\n"
      ],
      "metadata": {
        "id": "nBctTSVGLhru"
      },
      "execution_count": null,
      "outputs": []
    },
    {
      "cell_type": "code",
      "source": [
        "#arange dizi oluşturucu örnek\n",
        "\n",
        "import numpy as np\n",
        "\n",
        "def arange_olusturucu():\n",
        "    print(\"🔹 NumPy arange() oluşturucuya hoş geldiniz!\\n\")\n",
        "\n",
        "    # Kullanıcıdan değerleri al\n",
        "    start = input(\"Başlangıç değerini girin (boş bırak = 0): \")\n",
        "    stop = input(\"Bitiş değerini girin (zorunlu): \")\n",
        "    step = input(\"Adım (step) değerini girin (boş bırak = 1): \")\n",
        "    dtype = input(\"Veri tipi girin (int, float, complex veya boş bırak): \")\n",
        "\n",
        "    # Boş bırakılan alanlar için varsayılan değer atama\n",
        "    start = float(start) if start.strip() != \"\" else 0\n",
        "    step = float(step) if step.strip() != \"\" else 1\n",
        "\n",
        "    # stop değeri zorunlu\n",
        "    if stop.strip() == \"\":\n",
        "        print(\"⚠️ 'stop' değeri zorunludur!\")\n",
        "        return\n",
        "    stop = float(stop)\n",
        "\n",
        "    # dtype belirleme\n",
        "    dtype_map = {\"int\": int, \"float\": float, \"complex\": complex}\n",
        "    dtype = dtype_map.get(dtype.strip().lower(), None)\n",
        "\n",
        "    # arange oluştur\n",
        "    arr = np.arange(start, stop, step, dtype=dtype)\n",
        "\n",
        "    # Sonuçları yazdır\n",
        "    print(\"\\n✅ Oluşturulan NumPy dizisi:\")\n",
        "    print(arr)\n",
        "    print(f\"\\nDizinin veri tipi: {arr.dtype}\")\n",
        "    print(f\"Dizinin boyutu (shape): {arr.shape}\")\n",
        "    print(f\"Eleman sayısı: {arr.size}\")\n",
        "\n",
        "# Fonksiyonu çalıştır\n",
        "arange_olusturucu()\n"
      ],
      "metadata": {
        "id": "pkKiX2qUMC5v"
      },
      "execution_count": null,
      "outputs": []
    },
    {
      "cell_type": "markdown",
      "source": [
        "# np.random ile diziler oluşturmak\n"
      ],
      "metadata": {
        "id": "RiQPiBvpIw8Q"
      }
    },
    {
      "cell_type": "code",
      "source": [
        "#rastgele diziler oluşturmak için\n",
        "\n",
        "#random.rand() metodu:\n",
        "#0-1\tarasında verdiğimiz parametre kadar değer üretir.\n",
        "np.random.rand(5)\n",
        "\n",
        "np.random.rand(2,3) # 2x3 lük bir matris oluşturur\n",
        "\n",
        "#random.normal() metodu:\n",
        "#Ortalaması 0 varyansı 1 olan 3x3 lük matris oluşturmak için,\n",
        "np.random.normal(0,10,(3,3))\n",
        "#aşağıdaki gibi de olabilir\n",
        "np.random.normal(0,10,size=(3,3))\n",
        "\n",
        "#ortalaması 10 standart sapması 3 olan bir matris oluşturalım.\n",
        "np.random.normal(10,3,(3,3))\n",
        "\n",
        "#random.randint() metodu:\n",
        "#Bu metod ile girilen değerler arasında istenilen sayı kadar rasgele  integer sayı üretmemizi sağlar. 0-10 arasında rasgele bir sayı oluşturmak istersek\n",
        "np.random.randint(0,10)\n",
        "\n",
        "\n",
        "#Eğer random fonksiyonunu kullanırken tek parametre verirsek\n",
        "np.random.randint(10) # Başlangıç değeri 0 verilmiş gibi değer üretir.\n",
        "\n",
        "\n",
        "# 3 . Bir parametre girilerek kaç tane sayı oluşturabileceğimizi belirleyebiliriz.\n",
        "np.random.randint(0,10,8) # 8 elemanlı bir vektör(tek boyutlu dizi) oluşturduk.\n",
        "\n",
        "# 3X3 lük bir matris oluşturmak istersek\n",
        "np.random.randint(0,10,(3,3))\n",
        "\"\"\"\n",
        "array([[4, 4, 4],\n",
        "       [9, 3, 2],\n",
        "       [0, 0, 5]])\n",
        "\"\"\"\n",
        "np.random.randint(0,10,size=(3,3))\n",
        "\"\"\"\n",
        "array([[6, 9, 4],\n",
        "       [5, 3, 7],\n",
        "       [5, 4, 3]])\n",
        "       \"\"\"\n",
        "# random.randn() metodu:\n",
        "#normal dağılımlı rasgele değerlerden oluşan bir array oluşturmak için kullanılır.\n",
        "np.random.randn(3,4)\n",
        "\n"
      ],
      "metadata": {
        "colab": {
          "base_uri": "https://localhost:8080/"
        },
        "id": "EGon35AAadQF",
        "outputId": "ac36560d-7210-47ff-bff0-c98c139e91fb"
      },
      "execution_count": null,
      "outputs": [
        {
          "output_type": "execute_result",
          "data": {
            "text/plain": [
              "array([[-1.21531555,  0.20934944, -1.50410799, -0.11465247],\n",
              "       [ 1.90655457,  0.00639535,  0.4418079 ,  0.66100838],\n",
              "       [ 0.48961465, -0.08207025, -0.32572189,  0.08297198]])"
            ]
          },
          "metadata": {},
          "execution_count": 27
        }
      ]
    },
    {
      "cell_type": "markdown",
      "source": [],
      "metadata": {
        "id": "QMhwqMhFIwn4"
      }
    },
    {
      "cell_type": "markdown",
      "source": [],
      "metadata": {
        "id": "rNOar8IyIwYA"
      }
    },
    {
      "cell_type": "markdown",
      "source": [
        "#Temel ve Gelişmiş İndeksleme Teknikleri\n",
        "\n",
        "**İndeksleme Nedir? Neden Önemli?**\n",
        "\n",
        "*   İndeksleme: Dizilerden belirli elemanları seçme işlemidir\n",
        "\n",
        "*  Önemi: Veri analizinde sadece ilgili verilere odaklanmamızı sağlar\n",
        "\n",
        "**Türleri:**\n",
        "\n",
        "* Temel indeksleme (basic indexing)\n",
        "\n",
        "* Gelişmiş indeksleme (advanced indexing)\n",
        "\n",
        "* Boolean indeksleme\n",
        "\n",
        "* Fancy indeksleme\n",
        "\n",
        "**Temel İndeksleme Kuralları:**\n",
        "\n",
        "* Python'daki liste indekslemeye benzer ama çok daha güçlü\n",
        "\n",
        "* `0-tabanlı indeksleme`: İlk eleman indeksi 0'dır\n",
        "\n",
        "* *Negatif indeksler*: Sondan saymaya yarar (-1 son eleman)\n",
        "\n",
        "* *Çok boyutlu dizilerde*: dizi[satir, sutun] syntax'ı"
      ],
      "metadata": {
        "id": "7f8ZZvmVCOCr"
      }
    },
    {
      "cell_type": "code",
      "execution_count": null,
      "metadata": {
        "id": "iOKPProK-D7j"
      },
      "outputs": [],
      "source": [
        "import numpy as np\n",
        "\n",
        "# 1B Dizi İndeksleme\n",
        "dizi_1b = np.array([10, 20, 30, 40, 50])\n",
        "print(\"1B Dizi:\", dizi_1b)\n",
        "print(\"dizi_1b[0]:\", dizi_1b[0])           # İlk eleman\n",
        "print(\"dizi_1b[-1]:\", dizi_1b[-1])         # Son eleman\n",
        "print(\"dizi_1b[2:4]:\", dizi_1b[2:4])       # 2. ve 3. eleman (4 dahil değil)\n",
        "print(\"dizi_1b[::2]:\", dizi_1b[::2])       # Bir atlayarak\n",
        "print(\"---\")\n",
        "\n",
        "# 2B Dizi İndeksleme\n",
        "dizi_2b = np.array([[1, 2, 3, 4],\n",
        "                   [5, 6, 7, 8],\n",
        "                   [9, 10, 11, 12]])\n",
        "print(\"2B Dizi:\\n\", dizi_2b)\n",
        "print(\"dizi_2b[0, 1]:\", dizi_2b[0, 1])     # 0. satır, 1. sütun -> 2\n",
        "print(\"dizi_2b[1, -1]:\", dizi_2b[1, -1])   # 1. satır, son sütun -> 8\n",
        "print(\"---\")\n",
        "\n",
        "# 3B Dizi İndeksleme\n",
        "dizi_3b = np.array([[[1, 2], [3, 4]],\n",
        "                    [[5, 6], [7, 8]]])\n",
        "print(\"3B Dizi shape:\", dizi_3b.shape)     # (2, 2, 2)\n",
        "print(\"dizi_3b[0, 1, 0]:\", dizi_3b[0, 1, 0]) # 0. matris, 1. satır, 0. sütun -> 3"
      ]
    },
    {
      "cell_type": "markdown",
      "source": [
        "#Tek ve İki Boyutlu Dizilerde Erişim\n",
        "NumPy'da veri seçimi, Python listelerindeki gibi indeks (konum) numaralarıyla yapılır. 2D dizilerde kural: array[satır, sütun]."
      ],
      "metadata": {
        "id": "ccpYxMXRFA9E"
      }
    },
    {
      "cell_type": "code",
      "source": [
        "import numpy as np\n",
        "\n",
        "# 2D Dizi Örneği: 3 Aylık Satış Verisi (Satır: Ay, Sütun: Ürün Tipi)\n",
        "# [A ürünü, B ürünü, C ürünü, D ürünü]\n",
        "satislar = np.array([\n",
        "    [100, 150, 75, 200],  # Ocak (Indeks 0)\n",
        "    [120, 160, 80, 220],  # Şubat (Indeks 1)\n",
        "    [110, 145, 90, 210]   # Mart (Indeks 2)\n",
        "])\n",
        "print(\"Orijinal Matris (Shape: 3x4):\\n\", satislar)\n",
        "\n",
        "# Örnek 1: Tek Eleman Seçimi\n",
        "# Şubat (indeks 1) ayındaki B ürününün (indeks 1) satışı\n",
        "subat_urun_b = satislar[1, 1]\n",
        "print(f\"\\nŞubat B Ürünü Satışı (1, 1): {subat_urun_b}\")\n",
        "# Çıktı: 160\n",
        "\n",
        "# Örnek 2: Tüm Sütunu Seçme\n",
        "# D ürününün (indeks 3) tüm aylar boyunca olan satışlarını çekme\n",
        "urun_d_tum_aylar = satislar[:, 3] # Tüm satırları al (:) ve sadece 3. sütunu seç\n",
        "print(f\"\\nD Ürününün Tüm Aylar Satışı (:, 3): {urun_d_tum_aylar}\")\n",
        "# Çıktı: [200 220 210]"
      ],
      "metadata": {
        "id": "GHbc-Jp-FC3C"
      },
      "execution_count": null,
      "outputs": []
    },
    {
      "cell_type": "markdown",
      "source": [
        "**Önemli: NumPy slicing genelde bir view döndürür — kopya değil. Yani slice üzerinde yapılan değişiklik orijinal diziyi değiştirir**"
      ],
      "metadata": {
        "id": "M7geLYLmPAvt"
      }
    },
    {
      "cell_type": "code",
      "source": [
        "c = np.arange(6)\n",
        "d = c[1:4]\n",
        "d[:] = 100\n",
        "print(c)  # [  0 100 100 100  4  5]\n"
      ],
      "metadata": {
        "colab": {
          "base_uri": "https://localhost:8080/"
        },
        "id": "1ERD_QitPM2s",
        "outputId": "7a30578b-16b6-4f24-e4f8-f4bfc407a7fc"
      },
      "execution_count": 4,
      "outputs": [
        {
          "output_type": "stream",
          "name": "stdout",
          "text": [
            "[  0 100 100 100   4   5]\n"
          ]
        }
      ]
    },
    {
      "cell_type": "markdown",
      "source": [
        "# Çok boyutlu indeksleme (2-D örnek)\n",
        "\n",
        "Satır ve sütun belirtme: arr[row, col].\n",
        "İki ayrı köşeli parantez gerekmez (arr[row][col] de çalışır ama arr[row, col] tercih edilir)."
      ],
      "metadata": {
        "id": "DcQiM8qZPWPF"
      }
    },
    {
      "cell_type": "code",
      "source": [
        "M = np.arange(12).reshape(3,4)\n",
        "# M =\n",
        "# [[ 0  1  2  3]\n",
        "#  [ 4  5  6  7]\n",
        "#  [ 8  9 10 11]]\n",
        "\n",
        "print(M[0, 1])    # 1  (0. satır, 1. sütun)\n",
        "print(M[1])       # [4 5 6 7] (1. satır tüm sütunlar)\n",
        "print(M[:, 2])    # [2 6 10] (tüm satırların 2. sütunu) -> 1D array\n",
        "print(M[0:2, 1:3])# alt-matris [[1,2],[5,6]]\n"
      ],
      "metadata": {
        "id": "pezpPRSjPeJL"
      },
      "execution_count": null,
      "outputs": []
    },
    {
      "cell_type": "code",
      "source": [
        "# Örnek 3: Dilimleme (Satır ve Sütun)\n",
        "# Ocak ve Şubat (indeks 0'dan 2'ye kadar, 2 dahil değil) A ve B ürünleri (indeks 0'dan 2'ye kadar)\n",
        "ilk_iki_ay_urun_ab = satislar[0:2, 0:2]\n",
        "print(f\"\\nOcak-Şubat, A ve B Ürünleri:\\n{ilk_iki_ay_urun_ab}\")\n",
        "# Çıktı: [[100 150] [120 160]]\n",
        "\n",
        "# Örnek 4: Negatif Dilimleme\n",
        "# En son satırdan (-1) en sona kadar tüm sütunları seç (Mart ayı)\n",
        "son_ay = satislar[-1, :]\n",
        "print(f\"\\nNegatif Dilimleme (Son Ay): {son_ay}\")\n",
        "# Çıktı: [110 145 90 210]"
      ],
      "metadata": {
        "id": "A-qcoz4fP-hM"
      },
      "execution_count": null,
      "outputs": []
    },
    {
      "cell_type": "markdown",
      "source": [
        "#Dilimleme ile görünüm (view) vs kopya (copy)\n",
        "\n",
        "NumPy'da dilimleme ile (sadece : operatörü kullanılarak) elde edilen alt dizi, orijinal dizinin bellekteki verisine doğrudan erişim sağlayan bir görünüm (view)'dür.\n",
        "\n",
        "\n",
        "M[0:2, :] → view (varsayılan, bellek paylaşılır).\n",
        "\n",
        "M[:, 2] → genelde view (ama bazı karmaşık durumlarda kopya olabilir).\n",
        "\n",
        "Fancy indexing (aşağıda) her zaman kopya döndürür.\n",
        "\n",
        "Kopya istenirse kopya kullanın: > `sub = M[0:2, :].copy()`\n",
        "\n",
        "| Özellik | Görünüm (View, Genellikle Dilimleme ile) | Kopya (Copy, Genellikle `.copy()` ile) |\n",
        "|---------|------------------------------------------|----------------------------------------|\n",
        "| Bağımlılık | Orijinal diziye bağımlıdır. | Orijinal diziden bağımsızdır. |\n",
        "| Bellek | Yeni bir bellek alanı kullanmaz (hızlıdır). | Bellekte yeni bir alan tahsis eder (güvenlidir). |\n",
        "| Risk | Görünümdeki değişiklik, orijinal diziyi bozar. | Orijinal diziye etkisi yoktur. |"
      ],
      "metadata": {
        "id": "f4v51a8bQO_3"
      }
    },
    {
      "cell_type": "code",
      "source": [
        "# Gerçek Hayat Örneği: Veri Güvenliği\n",
        "ana_veri = np.array([10, 20, 30, 40, 50])\n",
        "print(f\"Başlangıç: {ana_veri}\") # [10 20 30 40 50]\n",
        "\n",
        "# 1. GÖRÜNÜM (VIEW) Oluşturma (Genellikle Slicing ile)\n",
        "analiz_view = ana_veri[0:3]\n",
        "\n",
        "# Görünümdeki ilk elemanı değiştiriyoruz.\n",
        "analiz_view[0] = 999\n",
        "\n",
        "# SONUÇ: Orijinal dizi de değişti!\n",
        "print(f\"View sonrası Orijinal: {ana_veri}\")\n",
        "# Çıktı: [999 20 30 40 50]  Orijinal verimiz bozuldu!\n",
        "\n",
        "# 2. KOPYA (COPY) Oluşturma\n",
        "ana_veri_safe = np.array([10, 20, 30, 40, 50])\n",
        "# Güvenli analiz için daima .copy() kullanın.\n",
        "analiz_copy = ana_veri_safe[0:3].copy()\n",
        "\n",
        "# Kopyadaki ilk elemanı değiştiriyoruz.\n",
        "analiz_copy[0] = 888\n",
        "\n",
        "# SONUÇ: Orijinal dizi GÜVENDE! ✅\n",
        "print(f\"\\nCopy sonrası Orijinal: {ana_veri_safe}\")\n",
        "# Çıktı: [10 20 30 40 50]  Orijinal veri değişmedi."
      ],
      "metadata": {
        "id": "TpDz55vPRC0G"
      },
      "execution_count": null,
      "outputs": []
    },
    {
      "cell_type": "markdown",
      "source": [
        "# Fancy indexing (tamsayı dizisi ile) — advanced\n",
        "\n",
        "İndeks olarak bir dizi/ndarray kullanılır. Bu kopya döndürür ve sıra/tekrarı korur.\n",
        "* Eğer satır ve sütun için ayrı diziler verirseniz, NumPy eleman-eleman eşleşme yapar (pairwise).\n",
        "\n",
        "* Tekrarlanan indeksler tekrar eden elemanlar üretir."
      ],
      "metadata": {
        "id": "uBSHVK6CRRCK"
      }
    },
    {
      "cell_type": "code",
      "source": [
        "a = np.arange(10)\n",
        "print(a)\n",
        "indices = [2,5,5,1]\n",
        "print(a[indices])   # [2 5 5 1]  (kopya)\n",
        "print(a)\n",
        "# 2D örnek:\n",
        "M = np.arange(12).reshape(3,4)\n",
        "print(M)\n",
        "rows = np.array([0,2])\n",
        "cols = np.array([1,3])\n",
        "print(M[rows, cols]) # [1 11] -> (0,1) ve (2,3) elemanları\n"
      ],
      "metadata": {
        "colab": {
          "base_uri": "https://localhost:8080/"
        },
        "id": "l0ml6qobROT7",
        "outputId": "9bb4bc6f-6c63-437e-98cb-5d4d64bc17e9"
      },
      "execution_count": 7,
      "outputs": [
        {
          "output_type": "stream",
          "name": "stdout",
          "text": [
            "[0 1 2 3 4 5 6 7 8 9]\n",
            "[2 5 5 1]\n",
            "[0 1 2 3 4 5 6 7 8 9]\n",
            "[[ 0  1  2  3]\n",
            " [ 4  5  6  7]\n",
            " [ 8  9 10 11]]\n",
            "[ 1 11]\n"
          ]
        }
      ]
    },
    {
      "cell_type": "code",
      "source": [
        "# Gerçek Hayat Örneği: Rastgele Örneklem Seçme\n",
        "isim_indeksleri = np.array(['Ali', 'Ayşe', 'Can', 'Deniz', 'Ece', 'Furkan'])\n",
        "puanlar = np.array([90, 75, 88, 62, 95, 81])\n",
        "\n",
        "# Sadece 0. (Ali), 4. (Ece) ve 2. (Can) indekslerdeki kişilerin puanlarını çekmek\n",
        "indeks_listesi = np.array([0, 4, 2])\n",
        "\n",
        "secilen_isimler = isim_indeksleri[indeks_listesi]\n",
        "secilen_puanlar = puanlar[indeks_listesi]\n",
        "\n",
        "print(f\"\\nSeçilen İsimler (Rastgele): {secilen_isimler}\")\n",
        "print(f\"Seçilen Puanlar: {secilen_puanlar}\")\n",
        "# Çıktı: [Ali Ece Can] ve [90 95 88]"
      ],
      "metadata": {
        "id": "PpkO0EpQUltk"
      },
      "execution_count": null,
      "outputs": []
    },
    {
      "cell_type": "markdown",
      "source": [
        "# Boolean (mask) indexing — koşula göre seçme\n",
        "\n",
        "Şartlı maske ile seçme — esnek ve çok güçlü.\n",
        "\n",
        "Bir koşulun döndürdüğü True (Seç) veya False (Atla) değerlerine göre dizi elemanlarını filtreleme."
      ],
      "metadata": {
        "id": "N6JngCtzR8iy"
      }
    },
    {
      "cell_type": "code",
      "source": [
        "x = np.arange(10)\n",
        "mask = x % 2 == 0\n",
        "print(mask)       # [ True False  True ... ]\n",
        "print(x[mask])    # [0 2 4 6 8]\n",
        "\n",
        "# Atama:\n",
        "x[x % 3 == 0] = -1\n",
        "print(x)  # elemanların bazılarının -1 olduğunu görürsünüz\n"
      ],
      "metadata": {
        "id": "qXMQxULGSHrr"
      },
      "execution_count": null,
      "outputs": []
    },
    {
      "cell_type": "code",
      "source": [
        "# Gerçek Hayat Örneği: 5000'den fazla stok adedini filtreleme\n",
        "stok_adedi = np.array([4500, 6200, 3100, 5800, 9500])\n",
        "\n",
        "# 1. Koşul Dizisi (Maske) Oluşturma\n",
        "maske = stok_adedi > 5000\n",
        "print(f\"Koşul Maskesi: {maske}\")\n",
        "# Çıktı: [False True False True True]\n",
        "\n",
        "# 2. Maskeyi Uygulama (Sadece True olanlar seçilir)\n",
        "yuksek_stok = stok_adedi[maske]\n",
        "print(f\"5000 üzeri Stoklar: {yuksek_stok}\")\n",
        "# Çıktı: [6200 5800 9500]"
      ],
      "metadata": {
        "id": "6240CnjdTy56"
      },
      "execution_count": null,
      "outputs": []
    },
    {
      "cell_type": "markdown",
      "source": [
        "# Çoklu koşullar (& ve |)\n",
        "\n",
        "Birden fazla koşulu birleştirmek için Python'daki and ve or yerine, NumPy'ın element-wise operatörleri **& (VE) ve | (VEYA)** kullanılır."
      ],
      "metadata": {
        "id": "pPB5tw74To75"
      }
    },
    {
      "cell_type": "code",
      "source": [
        "# Gerçek Hayat Örneği: Maaş Filtreleme (50.000 üzeri VE 5 yıldan az tecrübe)\n",
        "maaslar = np.array([45000, 60000, 75000, 52000, 48000])\n",
        "tecrube = np.array([7, 3, 6, 2, 8])\n",
        "\n",
        "# Koşul 1: Maaş > 50000\n",
        "maske_maas = maaslar > 50000\n",
        "\n",
        "# Koşul 2: Tecrübe < 5\n",
        "maske_tecrube = tecrube < 5\n",
        "\n",
        "# İki koşulu BİRLEŞTİRME (VE & operatörü)\n",
        "filtre_maske = maske_maas & maske_tecrube\n",
        "\n",
        "# Sonuç: Sadece 60000 (3 yıl) ve 52000 (2 yıl) bu koşulu sağlar\n",
        "hedef_personel_maas = maaslar[filtre_maske]\n",
        "print(f\"\\nFiltrelenen Personel Maaşları (VE koşulu): {hedef_personel_maas}\")\n",
        "# Çıktı: [60000 52000]"
      ],
      "metadata": {
        "id": "GPltemIIT7YZ"
      },
      "execution_count": null,
      "outputs": []
    },
    {
      "cell_type": "code",
      "source": [
        "#karmaşık örnek : boolean + fancy\n",
        "\n",
        "M = np.arange(12).reshape(3,4)\n",
        "mask = M % 2 == 0\n",
        "print(M[mask])  # 2D diziyi boolean mask ile 1D olarak döndürür\n"
      ],
      "metadata": {
        "id": "xQq0_EQUUzMJ"
      },
      "execution_count": null,
      "outputs": []
    },
    {
      "cell_type": "markdown",
      "source": [
        "# Ellipsis (...) — bilinmeyen boyutlar için\n",
        "\n",
        "Bazen boyut sayısı değişkense ... kullanışlıdır."
      ],
      "metadata": {
        "id": "s0rZW6mpU7IS"
      }
    },
    {
      "cell_type": "code",
      "source": [
        "A = np.zeros((2,3,4,5))\n",
        "# İlk iki boyutu seç, geri kalanı tümünü al:\n",
        "print(A)\n",
        "sub = A[1, ...]   # eşdeğer: A[1, :, :, :]\n",
        "print(\"/\"*50)\n",
        "print(sub)\n"
      ],
      "metadata": {
        "colab": {
          "base_uri": "https://localhost:8080/"
        },
        "collapsed": true,
        "id": "_y462PGYU9s4",
        "outputId": "0a38c01b-19c0-4b0c-a042-7e7e50ddd5b6"
      },
      "execution_count": 15,
      "outputs": [
        {
          "output_type": "stream",
          "name": "stdout",
          "text": [
            "[[[[0. 0. 0. 0. 0.]\n",
            "   [0. 0. 0. 0. 0.]\n",
            "   [0. 0. 0. 0. 0.]\n",
            "   [0. 0. 0. 0. 0.]]\n",
            "\n",
            "  [[0. 0. 0. 0. 0.]\n",
            "   [0. 0. 0. 0. 0.]\n",
            "   [0. 0. 0. 0. 0.]\n",
            "   [0. 0. 0. 0. 0.]]\n",
            "\n",
            "  [[0. 0. 0. 0. 0.]\n",
            "   [0. 0. 0. 0. 0.]\n",
            "   [0. 0. 0. 0. 0.]\n",
            "   [0. 0. 0. 0. 0.]]]\n",
            "\n",
            "\n",
            " [[[0. 0. 0. 0. 0.]\n",
            "   [0. 0. 0. 0. 0.]\n",
            "   [0. 0. 0. 0. 0.]\n",
            "   [0. 0. 0. 0. 0.]]\n",
            "\n",
            "  [[0. 0. 0. 0. 0.]\n",
            "   [0. 0. 0. 0. 0.]\n",
            "   [0. 0. 0. 0. 0.]\n",
            "   [0. 0. 0. 0. 0.]]\n",
            "\n",
            "  [[0. 0. 0. 0. 0.]\n",
            "   [0. 0. 0. 0. 0.]\n",
            "   [0. 0. 0. 0. 0.]\n",
            "   [0. 0. 0. 0. 0.]]]]\n",
            "//////////////////////////////////////////////////\n",
            "[[[0. 0. 0. 0. 0.]\n",
            "  [0. 0. 0. 0. 0.]\n",
            "  [0. 0. 0. 0. 0.]\n",
            "  [0. 0. 0. 0. 0.]]\n",
            "\n",
            " [[0. 0. 0. 0. 0.]\n",
            "  [0. 0. 0. 0. 0.]\n",
            "  [0. 0. 0. 0. 0.]\n",
            "  [0. 0. 0. 0. 0.]]\n",
            "\n",
            " [[0. 0. 0. 0. 0.]\n",
            "  [0. 0. 0. 0. 0.]\n",
            "  [0. 0. 0. 0. 0.]\n",
            "  [0. 0. 0. 0. 0.]]]\n"
          ]
        }
      ]
    },
    {
      "cell_type": "code",
      "source": [
        "dizi3 = np.arange(24).reshape(2, 3, 4)\n",
        "print(dizi3)\n",
        "\n",
        "\"\"\"\n",
        "Boyutlar:\n",
        "\n",
        "eksen (dış): 2 tane 3x4 matris\n",
        "\n",
        "eksen (orta): 3 satır\n",
        "\n",
        "eksen (iç): 4 sütun\n",
        "\"\"\"\n",
        "\n",
        "#normali\n",
        "dizi3[:, :, 0]\n",
        "\n",
        "#ellipsis ile\n",
        "\n",
        "dizi3[..., 0]\n",
        "\n"
      ],
      "metadata": {
        "id": "Wo5rdvxtWn2q"
      },
      "execution_count": null,
      "outputs": []
    },
    {
      "cell_type": "code",
      "source": [
        "# dört boyutlu dizi\n",
        "\n",
        "dizi4 = np.arange(2*3*4*5).reshape(2, 3, 4, 5)\n",
        "print(dizi4)\n",
        "\n",
        "\n",
        "\n",
        "\"\"\"\n",
        "\n",
        "Bu → ilk eksen 1 (ikinci blok), son eksen 0 (her 3x4’lük matristen ilk sütun).\n",
        "Yani:\n",
        "\n",
        "1 → 2. blok\n",
        "\n",
        "... → aradaki 2 eksenin tüm elemanları\n",
        "\n",
        "0 → son eksenin ilk elemanı\n",
        "\n",
        "\"\"\"\n",
        "\n",
        "dizi4[1, ..., 0]"
      ],
      "metadata": {
        "id": "VWcz6hJkXHz_"
      },
      "execution_count": null,
      "outputs": []
    },
    {
      "cell_type": "markdown",
      "source": [
        "# np.newaxis / None — eksen ekleme\n",
        "\n",
        "Boyut (axis) eklemek veya broadcasting için kullanılır.\n",
        "Bu genelde broadcasting, vektör/matris işlemleri veya veri şekillendirme (reshaping) için kullanılır.\n",
        "\n",
        "her NumPy dizisinin bir şekli (shape) vardır.\n",
        "\n",
        "np.newaxis kullanarak o şekle yeni bir eksen eklenir.\n",
        "\n",
        "np.newaxis ve None aynı şeyi yapar."
      ],
      "metadata": {
        "id": "PpzJrsbxYTrH"
      }
    },
    {
      "cell_type": "code",
      "source": [
        "v = np.array([1,2,3])        # shape (3,)\n",
        "print(v)\n",
        "v_row = v[np.newaxis, :]     # shape (1,3)\n",
        "print(v_row)\n",
        "v_col = v[:, np.newaxis]     # shape (3,1)\n",
        "print(v_col)\n",
        "\n",
        "#np.newaxis yerine None da kullanılabilir\n",
        "\n",
        "\n",
        "dizi = np.array([10,20,30])\n",
        "print(dizi)\n",
        "vektor_satir = dizi[:, None]\n",
        "print(vektor_satir)\n",
        "vektor_sutun = dizi[None, :]\n",
        "print(vektor_sutun)"
      ],
      "metadata": {
        "id": "8L8PVstTYZZi"
      },
      "execution_count": null,
      "outputs": []
    },
    {
      "cell_type": "code",
      "source": [
        "# 2d -> 3D\n",
        "\n",
        "matris = np.array([\n",
        "    [1, 2, 3],\n",
        "    [4, 5, 6]\n",
        "])\n",
        "print(matris.shape)\n",
        "matris_3d = matris[:, :, np.newaxis]\n",
        "print(matris_3d.shape)\n",
        "print(matris_3d)"
      ],
      "metadata": {
        "id": "RgKlKLxbafLH"
      },
      "execution_count": null,
      "outputs": []
    },
    {
      "cell_type": "code",
      "source": [
        "# broadcasting için kullanım\n",
        "#newaxis, boyutları eşitlemek için kullanılır\n",
        "\n",
        "a = np.array([1, 2, 3])        # (3,)\n",
        "b = np.array([10, 20, 30])     # (3,)\n",
        "print(a*b)\n",
        "#normalde a*b mümküm çünkü ikiside (3,) (3,)\n",
        "\n",
        "b = b[:, np.newaxis]  # (3, 1)\n",
        "print(b)\n",
        "print(a)\n",
        "print(a*b)\n",
        "sonuc = a + b\n",
        "print(sonuc)\n",
        "print(sonuc.shape)\n"
      ],
      "metadata": {
        "id": "CoRB5Lp1a-Xn"
      },
      "execution_count": null,
      "outputs": []
    },
    {
      "cell_type": "markdown",
      "source": [
        "# where, nonzero ile indeks alma\n",
        "\n",
        "Koşul sağlayan indekslerin pozisyonunu almak isterseniz:"
      ],
      "metadata": {
        "id": "NCv9qjoBb4Xd"
      }
    },
    {
      "cell_type": "code",
      "source": [
        "a = np.array([0, 5, 2, 5, 0, 3])\n",
        "idx = np.where(a == 5)    # (array([1, 3]),)\n",
        "print(idx[0])             # [1 3]\n",
        "\n",
        "# nonzero:\n",
        "print(a.nonzero())        # aynı sonucu verir\n"
      ],
      "metadata": {
        "colab": {
          "base_uri": "https://localhost:8080/"
        },
        "id": "jA0KD-5hb8v2",
        "outputId": "7f568cbb-0e20-46ed-ad46-ce1dc0aa1728"
      },
      "execution_count": 33,
      "outputs": [
        {
          "output_type": "stream",
          "name": "stdout",
          "text": [
            "[1 3]\n",
            "(array([1, 2, 3, 5]),)\n"
          ]
        }
      ]
    },
    {
      "cell_type": "markdown",
      "source": [
        "# Atama ile indeksleme (güçlü kullanım)\n",
        "\n",
        "Seçilen yerlere değer atama:\n",
        "\n",
        "Dikkat: Fancy indexing ile atama bir copy üzerinde yapılırsa orijinal değişmez. Çoklu indeksleme ile doğrudan atama yaparken kopya mı yoksa view mi olduğuna dikkat edin."
      ],
      "metadata": {
        "id": "Vjs9pMBtcFzI"
      }
    },
    {
      "cell_type": "code",
      "source": [
        "arr = np.arange(10)\n",
        "print(arr)\n",
        "arr[[1,3,5]] = -10\n",
        "print(arr)  # 1,3,5 indeksleri -10 olur\n",
        "\n",
        "# boolean ile:\n",
        "arr[arr < 0] = 0\n",
        "print(arr)"
      ],
      "metadata": {
        "colab": {
          "base_uri": "https://localhost:8080/"
        },
        "id": "DrtU7CdkcOZs",
        "outputId": "6673d875-c920-454a-d058-9afb62703000"
      },
      "execution_count": 36,
      "outputs": [
        {
          "output_type": "stream",
          "name": "stdout",
          "text": [
            "[0 1 2 3 4 5 6 7 8 9]\n",
            "[  0 -10   2 -10   4 -10   6   7   8   9]\n",
            "[0 0 2 0 4 0 6 7 8 9]\n"
          ]
        }
      ]
    },
    {
      "cell_type": "code",
      "source": [
        "\"\"\"\n",
        "İndeksleme ile broadcast (yayılma) örnekleri\n",
        "\n",
        "Tek bir değer atamak yerine, uygun şekle getirilmiş bir dizi kullanarak broadcasting yapabilirsiniz:\n",
        "\"\"\"\n",
        "\n",
        "M = np.zeros((3,4))\n",
        "M[:, 1] = np.array([1,2,3])   # shape (3,) ile sütuna atama → broadcast değil, doğrudan uyan shape\n",
        "# veya\n",
        "M[np.array([0,1,2]), 2] = [10,20,30]  # eleman-eleman atama\n"
      ],
      "metadata": {
        "id": "XUQ4F9p5c1Q8"
      },
      "execution_count": null,
      "outputs": []
    },
    {
      "cell_type": "code",
      "source": [
        "\"\"\"\n",
        "Çok boyutlu ilerleme (advanced slicing)\n",
        "\n",
        "Adım ve negatif step de 2D/3D’de kullanılabilir.\n",
        "\n",
        "\"\"\"\n",
        "M = np.arange(16).reshape(4,4)\n",
        "\n",
        "print(M[::2, ::2])   # her 2. satır ve sütun\n",
        "print(M[::-1, ::-1]) # tersine döndürülmüş matris\n"
      ],
      "metadata": {
        "id": "sAbKHzqCc7t0"
      },
      "execution_count": null,
      "outputs": []
    },
    {
      "cell_type": "markdown",
      "source": [
        "#Dilimleme vs Fancy — performans farkı\n",
        "\n",
        "Slicing → view, hafıza paylaşımı — hızlı, hafıza verimli.\n",
        "\n",
        "Fancy / boolean → kopya — gerektiğinde hızlı ve esnek ama bellek kullanımı artar."
      ],
      "metadata": {
        "id": "BxV0ZJMlfJaL"
      }
    },
    {
      "cell_type": "code",
      "source": [
        "#çok boyutlu fancy indexing örneği\n",
        "\n",
        "M = np.arange(12).reshape(3,4)\n",
        "print(M)\n",
        "rows = [0,1]\n",
        "cols = [1,2]\n",
        "print(M[rows][:, cols])   # farklı sonuç: M[rows] önce alt-matris (kopya) verir, sonra sütun seçilir\n",
        "print(M[np.ix_(rows, cols)])  # doğru şekilde (0,1) ve (1,2) alt-matrisini verir\n",
        "\n",
        "#np.ix_ kombinasyonu, iki 1-D indeks listesiyle 2-D alt-matris almak için kullanılır.\n",
        "\n"
      ],
      "metadata": {
        "colab": {
          "base_uri": "https://localhost:8080/"
        },
        "id": "QpRGwLpze-mz",
        "outputId": "24d01a2e-9a35-4a44-a7e4-8690a1ec9847"
      },
      "execution_count": 38,
      "outputs": [
        {
          "output_type": "stream",
          "name": "stdout",
          "text": [
            "[[ 0  1  2  3]\n",
            " [ 4  5  6  7]\n",
            " [ 8  9 10 11]]\n",
            "[[1 2]\n",
            " [5 6]]\n",
            "[[1 2]\n",
            " [5 6]]\n"
          ]
        }
      ]
    },
    {
      "cell_type": "markdown",
      "source": [
        "## ⚠️ Yaygın Tuzaklar / Dikkat Edilmesi Gerekenler\n",
        "\n",
        "- **Slicing view döndürür** — dilim üzerinden yaptığınız değişiklik **orijinali değiştirir**.  \n",
        "  → Eğer kopya istiyorsanız `.copy()` kullanın.\n",
        "\n",
        "- **Fancy indexing kopya döndürür** — bu nedenle büyük dizilerde **bellek kullanımı artar.**\n",
        "\n",
        "- **Boolean indexing** kullanırken orijinalin `shape`’i bozulur:  \n",
        "  → `M[mask]` genelde **1D** döndürür.\n",
        "\n",
        "- **Adım (step) float olamaz** — slice adımı sadece **integer** olabilir.  \n",
        "  → Ondalık adımlar istenirse `np.linspace` kullanın.\n",
        "\n",
        "- **Atama yaparken shape uyumu gereklidir** — broadcasting kurallarına uymazsa **hata verir.**\n",
        "\n",
        "- `M[rows][:, cols]` ile `M[rows, cols]` veya `M[np.ix_(rows, cols)]` **farklı davranır** — dikkat!\n",
        "\n",
        "---\n",
        "\n",
        "## 🧰 Kullanışlı İpuçları & Yardımcı Fonksiyonlar\n",
        "\n",
        "- `np.take(a, indices, axis=...)` — fancy indexing alternatifi, belirli bir eksen üzerinden alma.  \n",
        "- `np.put(a, indices, values, mode='raise')` — belirli konumlara değer yerleştirme.  \n",
        "- `np.choose`, `np.compress`, `np.extract` — belirli seçim işlemleri için.  \n",
        "- `np.argwhere(condition)` — koşulu sağlayan **indeksleri (satır-sütun çiftleri)** döndürür.\n",
        "\n",
        "---\n",
        "\n",
        "## 🧾 Özet — Kısa Referans\n",
        "\n",
        "| Yazım | Açıklama |\n",
        "|-------|-----------|\n",
        "| `a[i]` | Tek indeks |\n",
        "| `a[start:stop:step]` | Slice (view) |\n",
        "| `a[rows, cols]` | Çok boyutlu doğrudan indeksleme |\n",
        "| `a[[i1, i2]]` | Fancy indexing (kopya) |\n",
        "| `a[mask]` | Boolean indexing (kopya) |\n",
        "| `a[..., i]` | Ellipsis (tüm eksenleri kapsar) |\n",
        "| `a[np.newaxis]` veya `a[None]` | Eksen ekleme |\n",
        "| `np.where`, `np.nonzero` | İndeks/konum bulma |\n",
        "| `np.ix_` | 2D / ND için çapraz tamsayı indeksleme |\n"
      ],
      "metadata": {
        "id": "dqBLLq2YfpcK"
      }
    },
    {
      "cell_type": "code",
      "source": [
        "# =========================\n",
        "# JUPYTER NOTEBOOK: NumPy İndeksleme\n",
        "# =========================\n",
        "\n",
        "import numpy as np\n",
        "\n",
        "# --------------------------------\n",
        "# 1. 1D Dizi ve Temel İndeksleme\n",
        "# --------------------------------\n",
        "print(\"1️⃣ 1D Dizi ve Temel İndeksleme\")\n",
        "a = np.arange(10)\n",
        "print(\"Dizi a:\", a)\n",
        "\n",
        "print(\"\\na[0] ->\", a[0])\n",
        "print(\"a[-1] ->\", a[-1])\n",
        "print(\"a[3] ->\", a[3])\n",
        "\n",
        "# --------------------------------\n",
        "# 2. Dilimleme / Slicing\n",
        "# --------------------------------\n",
        "print(\"\\n2️⃣ Dilimleme / Slicing\")\n",
        "print(\"a[2:7] ->\", a[2:7])\n",
        "print(\"a[:5] ->\", a[:5])\n",
        "print(\"a[5:] ->\", a[5:])\n",
        "print(\"a[::2] ->\", a[::2])\n",
        "print(\"a[::-1] ->\", a[::-1])\n",
        "\n",
        "# Slice view örneği\n",
        "b = a[2:5]\n",
        "b[:] = 100\n",
        "print(\"Slice b = a[2:5], b[:] = 100 → a dizisi:\", a)\n",
        "\n",
        "# --------------------------------\n",
        "# 3. 2D Dizi ve Çok Boyutlu İndeksleme\n",
        "# --------------------------------\n",
        "print(\"\\n3️⃣ 2D Dizi ve Çok Boyutlu İndeksleme\")\n",
        "M = np.arange(12).reshape(3,4)\n",
        "print(\"Dizi M:\\n\", M)\n",
        "\n",
        "print(\"M[0, 1] ->\", M[0,1])\n",
        "print(\"M[1] ->\", M[1])\n",
        "print(\"M[:, 2] ->\", M[:,2])\n",
        "print(\"M[0:2, 1:3] ->\\n\", M[0:2,1:3])\n",
        "\n",
        "# --------------------------------\n",
        "# 4. Fancy Indexing (Tamsayı ile)\n",
        "# --------------------------------\n",
        "print(\"\\n4️⃣ Fancy Indexing\")\n",
        "rows = [0,2]\n",
        "cols = [1,3]\n",
        "print(\"M[rows, cols] ->\", M[rows, cols])\n",
        "\n",
        "# --------------------------------\n",
        "# 5. Boolean Indexing\n",
        "# --------------------------------\n",
        "print(\"\\n5️⃣ Boolean Indexing\")\n",
        "mask = M % 2 == 0\n",
        "print(\"Mask (çift sayılar):\\n\", mask)\n",
        "print(\"M[mask] ->\", M[mask])\n",
        "\n",
        "# Atama örneği\n",
        "M[M % 3 == 0] = -1\n",
        "print(\"M dizisi (3 ile bölünebilenler -1 oldu):\\n\", M)\n",
        "\n",
        "# --------------------------------\n",
        "# 6. np.ix_ ile çapraz fancy indexing\n",
        "# --------------------------------\n",
        "rows = [0,1]\n",
        "cols = [1,2]\n",
        "sub = M[np.ix_(rows, cols)]\n",
        "print(\"\\n6️⃣ np.ix_ ile alt-matris:\\n\", sub)\n",
        "\n",
        "# --------------------------------\n",
        "# 7. np.newaxis / None ile eksen ekleme\n",
        "# --------------------------------\n",
        "v = np.array([1,2,3])\n",
        "v_row = v[np.newaxis, :]\n",
        "v_col = v[:, np.newaxis]\n",
        "print(\"\\n7️⃣ Ekseni değiştirme / np.newaxis\")\n",
        "print(\"v shape:\", v.shape)\n",
        "print(\"v_row shape:\", v_row.shape)\n",
        "print(\"v_row:\\n\", v_row)\n",
        "print(\"v_col shape:\", v_col.shape)\n",
        "print(\"v_col:\\n\", v_col)\n",
        "\n",
        "# --------------------------------\n",
        "# 8. where ve nonzero ile indeks alma\n",
        "# --------------------------------\n",
        "a = np.array([0,5,2,5,3])\n",
        "idx_where = np.where(a==5)\n",
        "idx_nonzero = a.nonzero()\n",
        "print(\"\\n8️⃣ np.where ve nonzero\")\n",
        "print(\"np.where(a==5) ->\", idx_where[0])\n",
        "print(\"a.nonzero() ->\", idx_nonzero[0])\n",
        "\n",
        "# --------------------------------\n",
        "# 9. Karmaşık slicing örnekleri\n",
        "# --------------------------------\n",
        "M = np.arange(16).reshape(4,4)\n",
        "print(\"\\n9️⃣ Karmaşık slicing örnekleri\")\n",
        "print(\"M dizisi:\\n\", M)\n",
        "print(\"M[::2, ::2] ->\\n\", M[::2, ::2])\n",
        "print(\"M[::-1, ::-1] ->\\n\", M[::-1, ::-1])\n",
        "\n",
        "# --------------------------------\n",
        "# 10. Mini uygulama: Dizi seçme ve değiştirme\n",
        "# --------------------------------\n",
        "print(\"\\n🔟 Mini Uygulama\")\n",
        "arr = np.arange(1, 21).reshape(4,5)\n",
        "print(\"Başlangıç dizisi:\\n\", arr)\n",
        "\n",
        "# 2. satır ve 3. sütundaki elemanı 99 yap\n",
        "arr[1,2] = 99\n",
        "# tüm çift sayıları -1 yap\n",
        "arr[arr % 2 == 0] = -1\n",
        "print(\"Güncellenmiş dizi:\\n\", arr)\n"
      ],
      "metadata": {
        "id": "YkRWn0PLgZbi"
      },
      "execution_count": null,
      "outputs": []
    },
    {
      "cell_type": "code",
      "source": [
        "#Genel Örnek 2\n",
        "\n",
        "# Detaylı Dilimleme Örnekleri\n",
        "dizi = np.array([0, 1, 2, 3, 4, 5, 6, 7, 8, 9])\n",
        "print(\"Orijinal dizi:\", dizi)\n",
        "\n",
        "# Temel dilimleme\n",
        "print(\"dizi[2:7]:\", dizi[2:7])           # [2, 3, 4, 5, 6]\n",
        "print(\"dizi[:5]:\", dizi[:5])             # İlk 5 eleman [0, 1, 2, 3, 4]\n",
        "print(\"dizi[5:]:\", dizi[5:])             # 5'ten sonra [5, 6, 7, 8, 9]\n",
        "print(\"dizi[::2]:\", dizi[::2])           # Bir atlayarak [0, 2, 4, 6, 8]\n",
        "print(\"dizi[::-1]:\", dizi[::-1])         # Ters çevir [9, 8, 7, 6, 5, 4, 3, 2, 1, 0]\n",
        "print(\"---\")\n",
        "\n",
        "# 2B Dizide Dilimleme\n",
        "matrix = np.array([[1, 2, 3, 4],\n",
        "                  [5, 6, 7, 8],\n",
        "                  [9, 10, 11, 12],\n",
        "                  [13, 14, 15, 16]])\n",
        "print(\"Orijinal matrix:\\n\", matrix)\n",
        "\n",
        "# Satır dilimleme\n",
        "print(\"İlk 2 satır:\\n\", matrix[:2, :])           # Satır 0 ve 1\n",
        "print(\"Son satır:\\n\", matrix[-1, :])             # Son satır\n",
        "print(\"Çift indeksli satırlar:\\n\", matrix[::2, :]) # 0, 2. satırlar\n",
        "\n",
        "# Sütun dilimleme\n",
        "print(\"İlk 2 sütun:\\n\", matrix[:, :2])           # Sütun 0 ve 1\n",
        "print(\"Son sütun:\\n\", matrix[:, -1])             # Son sütun\n",
        "print(\"Bir atlayarak sütunlar:\\n\", matrix[:, ::2]) # 0, 2. sütunlar\n",
        "\n",
        "# Hem satır hem sütun dilimleme\n",
        "print(\"2x2 alt matrix:\\n\", matrix[1:3, 1:3])     # Satır 1-2, Sütun 1-2\n",
        "print(\"---\")\n",
        "\n",
        "# VIEW vs COPY - KRİTİK KONU!\n",
        "print(\"=== VIEW vs COPY ===\")\n",
        "original = np.array([10, 20, 30, 40, 50])\n",
        "\n",
        "# VIEW oluşturma (veri paylaşır)\n",
        "view_dizi = original[1:4]                # Dilimleme VIEW döndürür\n",
        "print(\"Original:\", original)\n",
        "print(\"View:\", view_dizi)\n",
        "\n",
        "# View'de değişiklik original'i etkiler!\n",
        "view_dizi[0] = 999\n",
        "print(\"View değiştikten sonra Original:\", original)  # [10, 999, 30, 40, 50]\n",
        "\n",
        "# COPY oluşturma (yeni veri)\n",
        "original[1] = 20  # Eski haline getir\n",
        "copy_dizi = original[1:4].copy()         # .copy() ile kopya oluştur\n",
        "print(\"Copy:\", copy_dizi)\n",
        "\n",
        "# Copy'de değişiklik original'i ETKİLEMEZ!\n",
        "copy_dizi[0] = 888\n",
        "print(\"Copy değiştikten sonra Original:\", original)  # Değişmez [10, 20, 30, 40, 50]\n",
        "print(\"---\")\n",
        "\n",
        "# Hangi durumlarda COPY oluşur?\n",
        "print(\"Dilimleme → VIEW\")\n",
        "print(\"Boolean indeksleme → COPY\")\n",
        "print(\"Fancy indeksleme → COPY\")\n",
        "print(\".copy() metodu → COPY\")\n",
        "\n",
        "# Boolean indeksleme COPY döndürür\n",
        "bool_mask = original > 25\n",
        "bool_selection = original[bool_mask]     # Bu bir COPY!\n",
        "print(\"Boolean selection is copy?\", bool_selection.base is None)  # True"
      ],
      "metadata": {
        "id": "dPXec5lqhoR2"
      },
      "execution_count": null,
      "outputs": []
    },
    {
      "cell_type": "markdown",
      "source": [
        "#Dizileri tekrar şekillendirmek\n",
        "\n",
        "Elimizde bulunan tek boyutlu veya çok boyutlu dizileri tekrar boyut ayarlaması yapmak isteyebilirzi bu gibi durumlarda reshape özelliği kullanabiliriz"
      ],
      "metadata": {
        "id": "N-C-A5p2iESd"
      }
    },
    {
      "cell_type": "code",
      "source": [
        "import numpy as np\n",
        "dizi = np.arange(1,16)\n",
        "print(dizi)\n",
        "\n",
        "print(dizi.reshape(3,5))\n"
      ],
      "metadata": {
        "colab": {
          "base_uri": "https://localhost:8080/"
        },
        "id": "66fyq4nZiX3B",
        "outputId": "44a0eb5e-ecc4-4346-88f1-8222c50d7c20"
      },
      "execution_count": 6,
      "outputs": [
        {
          "output_type": "stream",
          "name": "stdout",
          "text": [
            "[ 1  2  3  4  5  6  7  8  9 10 11 12 13 14 15]\n",
            "[[ 1  2  3  4  5]\n",
            " [ 6  7  8  9 10]\n",
            " [11 12 13 14 15]]\n"
          ]
        }
      ]
    },
    {
      "cell_type": "code",
      "source": [
        "dizi = np.arange(1,21).reshape(4,5)\n",
        "dizi"
      ],
      "metadata": {
        "colab": {
          "base_uri": "https://localhost:8080/"
        },
        "id": "M1X68Kdnj7yI",
        "outputId": "a7cb9c95-89d3-4f54-891b-7ec4d82595c7"
      },
      "execution_count": 7,
      "outputs": [
        {
          "output_type": "execute_result",
          "data": {
            "text/plain": [
              "array([[ 1,  2,  3,  4,  5],\n",
              "       [ 6,  7,  8,  9, 10],\n",
              "       [11, 12, 13, 14, 15],\n",
              "       [16, 17, 18, 19, 20]])"
            ]
          },
          "metadata": {},
          "execution_count": 7
        }
      ]
    },
    {
      "cell_type": "code",
      "source": [
        "# randint ve reshape ile rastgele sayılardan matris oluşturma\n",
        "\n",
        "# 0 ile 100 arasında 12 adet rastgele tam sayı üret\n",
        "rastgele_sayilar = np.random.randint(0, 101, 12)\n",
        "print(\"Oluşturulan rastgele 1D dizi:\", rastgele_sayilar)\n",
        "\n",
        "# 1D diziyi 3 satır ve 4 sütunlu bir matrise dönüştür\n",
        "matris_yeniden_sekillendirilmis = rastgele_sayilar.reshape(3, 4)\n",
        "print(\"\\nYeniden şekillendirilmiş 2D matris:\\n\", matris_yeniden_sekillendirilmis)"
      ],
      "metadata": {
        "id": "e8fJ-wWEkNzY"
      },
      "execution_count": null,
      "outputs": []
    },
    {
      "cell_type": "code",
      "source": [
        "# Gerçek Hayat Örneği: Sensör Verisinin 1D'den 2D'ye Çevrilmesi\n",
        "# Bir saatte 6 saniyede bir alınan 30 adet ölçüm.\n",
        "olcumler_1d = np.arange(30)\n",
        "print(f\"Başlangıç Shape: {olcumler_1d.shape}\") # (30,)\n",
        "\n",
        "# 1. 5 Satır, 6 Sütun Yapma (5 dakikalık 6 periyot)\n",
        "matris_5x6 = olcumler_1d.reshape(5, 6)\n",
        "print(f\"\\n5x6 Matris:\\n{matris_5x6}\")\n",
        "\n",
        "# 2. Otomatik Hesaplama için -1 Kullanımı\n",
        "# Sütun sayısını 10 olarak belirle, satırı NumPy hesaplasın (30/10=3).\n",
        "matris_otomatik_satir = olcumler_1d.reshape(-1, 10)\n",
        "print(f\"\\nOtomatik Satır (Shape: {matris_otomatik_satir.shape}):\\n{matris_otomatik_satir}\")\n",
        "# Çıktı: (3, 10)\n",
        "\n",
        "# 3. Model Girdisi Formatı (Özellik Vektörü)\n",
        "# 1D vektörü, makine öğrenimi için (30, 1) şeklinde 2D matrise çevirme\n",
        "vektor_sutun = olcumler_1d.reshape(-1, 1)\n",
        "print(f\"\\n(30, 1) Sutün Vektör Shape: {vektor_sutun.shape}\")"
      ],
      "metadata": {
        "id": "AqqZfdqZksV3"
      },
      "execution_count": null,
      "outputs": []
    },
    {
      "cell_type": "markdown",
      "source": [
        "#arraylerde birleştirme\n",
        "\n",
        "| Fonksiyon           | Açıklama                                                                        |\n",
        "| ------------------- | ------------------------------------------------------------------------------- |\n",
        "| `np.concatenate()`  | Dizileri belirli bir axis boyunca birleştirir.                                  |\n",
        "| `np.vstack()`       | Dizileri **dikey** olarak üst üste birleştirir (row-wise).                      |\n",
        "| `np.hstack()`       | Dizileri **yatay** olarak yan yana birleştirir (column-wise).                   |\n",
        "| `np.stack()`        | Yeni bir eksen (axis) ekleyerek birleştirir.                                    |\n",
        "| `np.column_stack()` | 1D dizileri **sütun olarak** birleştirir, 2D dizilerde yatay birleştirme yapar. |\n",
        "| `np.row_stack()`    | `vstack` ile aynı işlevi görür.                                                 |\n"
      ],
      "metadata": {
        "id": "vXfmR9HOlhqP"
      }
    },
    {
      "cell_type": "markdown",
      "source": [
        "**Tek boyutlu dizilerde birleştirme**"
      ],
      "metadata": {
        "id": "Yc6SXDngm7hH"
      }
    },
    {
      "cell_type": "code",
      "source": [
        "dizi1 =  np.array([1,2,3,4,5])\n",
        "dizi2 =  np.array([10,20,30,40,50])\n",
        "\n",
        "#birleştirmek için\n",
        "np.concatenate([dizi1, dizi2])\n",
        "#np.concatenate([dizi1, dizi2,dizi3,....]) çok sayıda diziyi birleştirebiliriz"
      ],
      "metadata": {
        "colab": {
          "base_uri": "https://localhost:8080/"
        },
        "id": "GJMnoDWolqrf",
        "outputId": "502adbc8-026b-4f84-debe-319b1bf661d8"
      },
      "execution_count": 10,
      "outputs": [
        {
          "output_type": "execute_result",
          "data": {
            "text/plain": [
              "array([ 1,  2,  3,  4,  5, 10, 20, 30, 40, 50])"
            ]
          },
          "metadata": {},
          "execution_count": 10
        }
      ]
    },
    {
      "cell_type": "code",
      "source": [
        "import numpy as np\n",
        "\n",
        "a = np.array([1,2,3])\n",
        "b = np.array([4,5,6])\n",
        "\n",
        "# concatenate\n",
        "c = np.concatenate([a,b])\n",
        "print(\"concatenate:\", c)\n",
        "\n",
        "# hstack\n",
        "d = np.hstack([a,b])\n",
        "print(\"hstack:\", d)\n",
        "\n",
        "# vstack\n",
        "e = np.vstack([a,b])\n",
        "print(\"vstack:\\n\", e)\n"
      ],
      "metadata": {
        "id": "dQO_fi2ynBIZ"
      },
      "execution_count": null,
      "outputs": []
    },
    {
      "cell_type": "markdown",
      "source": [
        "**çok boyutlu dizileri birleştirme**"
      ],
      "metadata": {
        "id": "lA0i1cofmMeW"
      }
    },
    {
      "cell_type": "code",
      "source": [
        "dizi1=np.array([[1,2,3],[4,5,6]])\n",
        "dizi2=np.array([[7,8,9],[10,11,12]])\n",
        "\n",
        "np.concatenate([dizi1, dizi2])\n",
        "\n"
      ],
      "metadata": {
        "colab": {
          "base_uri": "https://localhost:8080/"
        },
        "id": "J93PYDjMmQSH",
        "outputId": "b119a89f-7dce-4213-ede8-f4cd62b45f6e"
      },
      "execution_count": 12,
      "outputs": [
        {
          "output_type": "execute_result",
          "data": {
            "text/plain": [
              "array([[ 1,  2,  3],\n",
              "       [ 4,  5,  6],\n",
              "       [ 7,  8,  9],\n",
              "       [10, 11, 12]])"
            ]
          },
          "metadata": {},
          "execution_count": 12
        }
      ]
    },
    {
      "cell_type": "code",
      "source": [
        "X = np.array([[1,2],[3,4]])\n",
        "Y = np.array([[5,6],[7,8]])\n",
        "\n",
        "# axis=0 → satırları birleştirir (alt alta)\n",
        "print(\"concatenate axis=0:\\n\", np.concatenate([X,Y], axis=0))\n",
        "\n",
        "# axis=1 → sütunları birleştirir (yan yana)\n",
        "print(\"concatenate axis=1:\\n\", np.concatenate([X,Y], axis=1))\n",
        "\n",
        "# vstack → axis=0 ile aynı\n",
        "print(\"vstack:\\n\", np.vstack([X,Y]))\n",
        "\n",
        "# hstack → axis=1 ile aynı\n",
        "print(\"hstack:\\n\", np.hstack([X,Y]))\n"
      ],
      "metadata": {
        "id": "GiR7anLBnDSe"
      },
      "execution_count": null,
      "outputs": []
    },
    {
      "cell_type": "code",
      "source": [
        "\"\"\"\n",
        "np.stack() — Yeni eksen ile birleştirme\n",
        "\n",
        "stack, dizileri yeni bir boyut ekleyerek birleştirir.\n",
        "\n",
        "\"\"\"\n",
        "X = np.array([1,2,3])\n",
        "Y = np.array([4,5,6])\n",
        "\n",
        "Z = np.stack([X,Y], axis=0)\n",
        "print(\"axis=0 ile stack:\\n\", Z)\n",
        "print(\"shape:\", Z.shape)\n",
        "\n",
        "Z2 = np.stack([X,Y], axis=1)\n",
        "print(\"axis=1 ile stack:\\n\", Z2)\n",
        "print(\"shape:\", Z2.shape)\n"
      ],
      "metadata": {
        "id": "n1UDghOQoJl3"
      },
      "execution_count": null,
      "outputs": []
    },
    {
      "cell_type": "code",
      "source": [
        "#column_stack ve row_stack\n",
        "\n",
        "a = np.array([1,2,3])\n",
        "b = np.array([4,5,6])\n",
        "\n",
        "# sütun olarak birleştirme\n",
        "print(\"column_stack:\\n\", np.column_stack([a,b]))\n",
        "\n",
        "# row_stack → vstack ile aynı\n",
        "print(\"row_stack:\\n\", np.row_stack([a,b]))\n"
      ],
      "metadata": {
        "id": "2mMWvFg6oObJ"
      },
      "execution_count": null,
      "outputs": []
    },
    {
      "cell_type": "markdown",
      "source": [
        "| Fonksiyon      | 1D Dizi | 2D Dizi | Yeni Boyut?             |\n",
        "| -------------- | ------- | ------- | ----------------------- |\n",
        "| `concatenate`  | ✔       | ✔       | ❌                       |\n",
        "| `vstack`       | ✔       | ✔       | ❌ (axis=0)              |\n",
        "| `hstack`       | ✔       | ✔       | ❌ (axis=1)              |\n",
        "| `stack`        | ✔       | ✔       | ✔ (axis ile yeni boyut) |\n",
        "| `column_stack` | ✔       | ✔       | ❌                       |\n",
        "| `row_stack`    | ✔       | ✔       | ❌                       |\n",
        "\n",
        "\n",
        "İpucu:\n",
        "\n",
        "1D dizilerde hstack = concatenate, vstack → 2D dizi\n",
        "\n",
        "2D dizilerde axis=0 → satır, axis=1 → sütun"
      ],
      "metadata": {
        "id": "j9ARPqCVoT0-"
      }
    },
    {
      "cell_type": "code",
      "source": [
        "# =========================\n",
        "# JUPYTER NOTEBOOK: NumPy Dizileri Birleştirme\n",
        "# =========================\n",
        "import numpy as np\n",
        "\n",
        "print(\"🔹 NumPy Dizileri Birleştirme Aracı\")\n",
        "\n",
        "# -----------------------------\n",
        "# 1️⃣ Kullanıcıdan dizileri oluştur\n",
        "# -----------------------------\n",
        "print(\"\\nOluşturulacak ilk diziyi belirtin (örn: 1,2,3,4):\")\n",
        "dizi1_str = input(\"Dizi 1: \")\n",
        "dizi1 = np.array([int(x.strip()) for x in dizi1_str.split(\",\")])\n",
        "\n",
        "print(\"Oluşturulacak ikinci diziyi belirtin (örn: 5,6,7,8):\")\n",
        "dizi2_str = input(\"Dizi 2: \")\n",
        "dizi2 = np.array([int(x.strip()) for x in dizi2_str.split(\",\")])\n",
        "\n",
        "# Dizi boyutlarını isteğe göre değiştirebilirsiniz\n",
        "reshape_input = input(\"\\nDizileri 2D yapmak ister misiniz? (evet/hayır): \").strip().lower()\n",
        "if reshape_input == \"evet\":\n",
        "    rows1 = int(input(\"Dizi 1 için satır sayısı: \"))\n",
        "    cols1 = int(input(\"Dizi 1 için sütun sayısı: \"))\n",
        "    dizi1 = dizi1.reshape(rows1, cols1)\n",
        "\n",
        "    rows2 = int(input(\"Dizi 2 için satır sayısı: \"))\n",
        "    cols2 = int(input(\"Dizi 2 için sütun sayısı: \"))\n",
        "    dizi2 = dizi2.reshape(rows2, cols2)\n",
        "\n",
        "print(\"\\nDizi 1:\\n\", dizi1)\n",
        "print(\"Dizi 2:\\n\", dizi2)\n",
        "\n",
        "# -----------------------------\n",
        "# 2️⃣ Birleştirme yöntemini seç\n",
        "# -----------------------------\n",
        "print(\"\\nBirleştirme yöntemi seçenekleri:\")\n",
        "print(\"1: concatenate (axis belirtin)\")\n",
        "print(\"2: vstack\")\n",
        "print(\"3: hstack\")\n",
        "print(\"4: stack (axis belirtin)\")\n",
        "print(\"5: column_stack\")\n",
        "print(\"6: row_stack\")\n",
        "\n",
        "secim = input(\"Seçiminiz (1-6): \").strip()\n",
        "\n",
        "if secim == \"1\":\n",
        "    axis = int(input(\"concatenate için axis (0 veya 1): \"))\n",
        "    sonuc = np.concatenate([dizi1, dizi2], axis=axis)\n",
        "elif secim == \"2\":\n",
        "    sonuc = np.vstack([dizi1, dizi2])\n",
        "elif secim == \"3\":\n",
        "    sonuc = np.hstack([dizi1, dizi2])\n",
        "elif secim == \"4\":\n",
        "    axis = int(input(\"stack için axis (0,1,...): \"))\n",
        "    sonuc = np.stack([dizi1, dizi2], axis=axis)\n",
        "elif secim == \"5\":\n",
        "    sonuc = np.column_stack([dizi1, dizi2])\n",
        "elif secim == \"6\":\n",
        "    sonuc = np.row_stack([dizi1, dizi2])\n",
        "else:\n",
        "    print(\"Geçersiz seçim\")\n",
        "    sonuc = None\n",
        "\n",
        "# -----------------------------\n",
        "# 3️⃣ Sonucu göster\n",
        "# -----------------------------\n",
        "if sonuc is not None:\n",
        "    print(\"\\n✅ Birleştirilmiş Dizi:\\n\", sonuc)\n",
        "    print(\"Shape:\", sonuc.shape)\n"
      ],
      "metadata": {
        "id": "PuTx5uswodNF"
      },
      "execution_count": null,
      "outputs": []
    },
    {
      "cell_type": "code",
      "source": [
        "#farkli dizileri dikey ve yatayda birlştirme\n",
        "\n",
        "# İki Farklı Bölgeden Gelen Aylık Sıcaklık Verisi\n",
        "bolge_a_sicaklik = np.array([20, 22, 21])\n",
        "bolge_b_sicaklik = np.array([18, 20, 19])\n",
        "\n",
        "# Dikey Birleştirme (axis=0): Veriyi alt alta ekle (Satır bazında)\n",
        "birlesik_dikey = np.concatenate([bolge_a_sicaklik, bolge_b_sicaklik], axis=0)\n",
        "print(f\"Dikey Birleştirme: {birlesik_dikey}\")\n",
        "# Çıktı: [20 22 21 18 20 19]\n",
        "\n",
        "# Yatay Birleştirme (axis=1): Sütun bazında (Özellik ekleme)\n",
        "# 2D formatına çeviriyoruz ki sütun bazında birleştirebilelim\n",
        "A_matris = bolge_a_sicaklik.reshape(-1, 1) # (3, 1)\n",
        "B_matris = bolge_b_sicaklik.reshape(-1, 1) # (3, 1)\n",
        "\n",
        "birlesik_yatay = np.concatenate([A_matris, B_matris], axis=1)\n",
        "print(f\"\\nYatay Birleştirme (Shape: {birlesik_yatay.shape}):\\n{birlesik_yatay}\")\n",
        "# Çıktı: [[20 18] [22 20] [21 19]] (Aynı ölçüm anının A ve B bölgesi verisi)"
      ],
      "metadata": {
        "id": "3EE9p2h2ogpl"
      },
      "execution_count": null,
      "outputs": []
    },
    {
      "cell_type": "markdown",
      "source": [
        "# **Dizilerde Bölme İşlemleri**\n",
        "\n",
        "| Fonksiyon          | Açıklama                                                                           |\n",
        "| ------------------ | ---------------------------------------------------------------------------------- |\n",
        "| `np.split()`       | Diziyi **belirtilen indekslerden** böler.                                          |\n",
        "| `np.array_split()` | Diziyi **yaklaşık eşit parçalar** halinde böler. (split’de tam bölünme şart değil) |\n",
        "| `np.hsplit()`      | Çok boyutlu dizileri **sütun bazlı** böler (axis=1).                               |\n",
        "| `np.vsplit()`      | Çok boyutlu dizileri **satır bazlı** böler (axis=0).                               |\n",
        "| `np.dsplit()`      | 3D ve üstü dizileri **derinlik ekseni** boyunca böler (axis=2).                    |\n"
      ],
      "metadata": {
        "id": "GMooZH90oxqm"
      }
    },
    {
      "cell_type": "code",
      "source": [
        "# 1d dizilerde bölme\n",
        "\n",
        "import numpy as np\n",
        "\n",
        "a = np.arange(10)  # [0 1 2 3 4 5 6 7 8 9]\n",
        "\n",
        "# np.split ile indekslerden bölme\n",
        "print(\"np.split([3,7]):\", np.split(a, [3,7]))\n",
        "# 0:3, 3:7, 7:end → [[0 1 2], [3 4 5 6], [7 8 9]]\n",
        "\n",
        "# np.array_split ile yaklaşık eşit parçalar\n",
        "print(\"np.array_split(3):\", np.array_split(a, 3))\n",
        "# yaklaşık eşit 3 parça → [[0 1 2 3], [4 5 6], [7 8 9]]\n",
        "\n",
        "#Fark: np.split sadece tam bölünebilen dizilerde çalışır; np.array_split ise kalanları dengeler.\n"
      ],
      "metadata": {
        "id": "st4Y1CUlo-Wm"
      },
      "execution_count": null,
      "outputs": []
    },
    {
      "cell_type": "code",
      "source": [
        "# 2d dizilerde bölme\n",
        "\n",
        "M = np.arange(16).reshape(4,4)\n",
        "print(\"Dizi M:\\n\", M)\n",
        "\n",
        "# Satır bazlı bölme (vsplit)\n",
        "print(\"vsplit 2 parçaya:\\n\", np.vsplit(M, 2))\n",
        "\n",
        "# Sütun bazlı bölme (hsplit)\n",
        "print(\"hsplit 2 parçaya:\\n\", np.hsplit(M, 2))\n"
      ],
      "metadata": {
        "id": "OIZe26_upQgf"
      },
      "execution_count": null,
      "outputs": []
    },
    {
      "cell_type": "code",
      "source": [
        "\"\"\"\n",
        "Çok Boyutlu Dizilerde Bölme\n",
        "\n",
        "dsplit → 3D dizilerde derinlik ekseni boyunca\n",
        "\n",
        "hsplit → axis=1\n",
        "\n",
        "vsplit → axis=0\n",
        "\"\"\"\n",
        "\n",
        "A = np.arange(24).reshape(2,3,4)  # shape (2,3,4)\n",
        "print(A)\n",
        "print(\"dsplit 2 parçaya:\\n\", np.dsplit(A, 2))\n"
      ],
      "metadata": {
        "colab": {
          "base_uri": "https://localhost:8080/"
        },
        "id": "yW-d0EECpYF2",
        "outputId": "33e58485-ed99-47b1-957d-96ce8e97d917"
      },
      "execution_count": 16,
      "outputs": [
        {
          "output_type": "stream",
          "name": "stdout",
          "text": [
            "[[[ 0  1  2  3]\n",
            "  [ 4  5  6  7]\n",
            "  [ 8  9 10 11]]\n",
            "\n",
            " [[12 13 14 15]\n",
            "  [16 17 18 19]\n",
            "  [20 21 22 23]]]\n",
            "dsplit 2 parçaya:\n",
            " [array([[[ 0,  1],\n",
            "        [ 4,  5],\n",
            "        [ 8,  9]],\n",
            "\n",
            "       [[12, 13],\n",
            "        [16, 17],\n",
            "        [20, 21]]]), array([[[ 2,  3],\n",
            "        [ 6,  7],\n",
            "        [10, 11]],\n",
            "\n",
            "       [[14, 15],\n",
            "        [18, 19],\n",
            "        [22, 23]]])]\n"
          ]
        }
      ]
    },
    {
      "cell_type": "code",
      "source": [
        "#diziyi satır sütün olarka böl\n",
        "\n",
        "M = np.arange(1,17).reshape(4,4)\n",
        "print(\"Orijinal dizi:\\n\", M)\n",
        "\n",
        "satir_parcalari = np.vsplit(M, 2)\n",
        "sutun_parcalari = np.hsplit(M, 2)\n",
        "\n",
        "print(\"\\nSatır bazlı 2 parça:\")\n",
        "for p in satir_parcalari:\n",
        "    print(p)\n",
        "\n",
        "print(\"\\nSütun bazlı 2 parça:\")\n",
        "for p in sutun_parcalari:\n",
        "    print(p)\n"
      ],
      "metadata": {
        "id": "w0QCQ0a7pvr9"
      },
      "execution_count": null,
      "outputs": []
    },
    {
      "cell_type": "markdown",
      "source": [
        "**Dikkat**\n",
        "1. split tam bölünme ister. Bölünemiyorsa hata verir.\n",
        "\n",
        "`np.split(np.arange(10), 3)  # HATA!`\n",
        "\n",
        "\n",
        "2. array_split → yaklaşık eşit parçalara böler, kalanları dengeler.\n",
        "\n",
        "`np.array_split(np.arange(10), 3)  # [[0 1 2 3], [4 5 6], [7 8 9]]`\n",
        "\n",
        "\n",
        "3. hsplit ve vsplit → 2D veya daha fazla boyutlu dizilerde kolay kullanım sağlar."
      ],
      "metadata": {
        "id": "J306sOY0p52t"
      }
    },
    {
      "cell_type": "markdown",
      "source": [
        "# Transpose Nedir ?\n",
        "\n",
        "Transpose, bir matrisin satır ve sütunlarını yer değiştirme işlemidir.\n",
        "\n",
        "2D dizilerde: M.T → satırlar sütun, sütunlar satır olur.\n",
        "\n",
        "ND dizilerde: np.transpose → istenirse eksenlerin sırası değiştirilebilir."
      ],
      "metadata": {
        "id": "CV3GulQBqQJV"
      }
    },
    {
      "cell_type": "code",
      "source": [
        "#2d dizilerde transpose\n",
        "\n",
        "import numpy as np\n",
        "\n",
        "M = np.array([[1,2,3],\n",
        "              [4,5,6]])\n",
        "print(\"Orijinal Dizi:\\n\", M)\n",
        "\n",
        "# Transpose\n",
        "MT = M.T\n",
        "print(\"\\nTranspoze:\\n\", MT)\n"
      ],
      "metadata": {
        "colab": {
          "base_uri": "https://localhost:8080/"
        },
        "id": "z79heiOIqjhM",
        "outputId": "6890ecc6-1815-4c51-d76f-d43c0e15af28"
      },
      "execution_count": 18,
      "outputs": [
        {
          "output_type": "stream",
          "name": "stdout",
          "text": [
            "Orijinal Dizi:\n",
            " [[1 2 3]\n",
            " [4 5 6]]\n",
            "\n",
            "Transpoze:\n",
            " [[1 4]\n",
            " [2 5]\n",
            " [3 6]]\n"
          ]
        }
      ]
    },
    {
      "cell_type": "code",
      "source": [
        "#1d transpose\n",
        "\n",
        "v = np.array([1,2,3])\n",
        "print(\"v:\", v)\n",
        "print(\"v.T:\", v.T)\n"
      ],
      "metadata": {
        "colab": {
          "base_uri": "https://localhost:8080/"
        },
        "id": "Qh6OqJbiqsUt",
        "outputId": "1b69dbc3-c006-4515-bbd7-f18076eaa2c5"
      },
      "execution_count": 19,
      "outputs": [
        {
          "output_type": "stream",
          "name": "stdout",
          "text": [
            "v: [1 2 3]\n",
            "v.T: [1 2 3]\n"
          ]
        }
      ]
    },
    {
      "cell_type": "code",
      "source": [
        "\"\"\"\n",
        "3D veya ND Dizilerde Transpose\n",
        "\n",
        "3D dizilerde veya daha üst boyutlarda np.transpose ile ekseni değiştirebilirsin.\n",
        "\"\"\"\n",
        "A = np.arange(24).reshape(2,3,4)\n",
        "print(\"Orijinal shape:\", A.shape)\n",
        "\n",
        "# Eksenleri değiştir (0,2,1)\n",
        "B = np.transpose(A, (0,2,1))\n",
        "print(\"Yeni shape:\", B.shape)\n",
        "\n",
        "#Orijinal shape: (2,3,4) → Yeni shape: (2,4,3)\n",
        "#Ekseni (0,2,1) ile ilk ekseni koruduk, ikinci ve üçüncü ekseni yer değiştirdik.\n",
        "\n"
      ],
      "metadata": {
        "colab": {
          "base_uri": "https://localhost:8080/"
        },
        "id": "WjWoXj1nqyMD",
        "outputId": "ac0b63a7-4d0f-4eea-d62c-8d90583d2e66"
      },
      "execution_count": 20,
      "outputs": [
        {
          "output_type": "stream",
          "name": "stdout",
          "text": [
            "Orijinal shape: (2, 3, 4)\n",
            "Yeni shape: (2, 4, 3)\n"
          ]
        }
      ]
    },
    {
      "cell_type": "code",
      "source": [
        "#transpose vs swapaxes\n",
        "\n",
        "#transpose → tüm eksenleri yeniden sıralama\n",
        "#swapaxes → sadece iki ekseni değiştirir\n",
        "\n",
        "C = np.arange(12).reshape(2,3,2)\n",
        "print(\"Orijinal shape:\", C.shape)\n",
        "print(C)\n",
        "\n",
        "D = C.swapaxes(1,2)\n",
        "print(\"swapaxes(1,2) shape:\", D.shape)\n",
        "print(D)\n"
      ],
      "metadata": {
        "colab": {
          "base_uri": "https://localhost:8080/"
        },
        "id": "eDWy_5PWrCZp",
        "outputId": "272db9f8-c976-404f-d177-b36f0c3f0fa9"
      },
      "execution_count": 22,
      "outputs": [
        {
          "output_type": "stream",
          "name": "stdout",
          "text": [
            "Orijinal shape: (2, 3, 2)\n",
            "[[[ 0  1]\n",
            "  [ 2  3]\n",
            "  [ 4  5]]\n",
            "\n",
            " [[ 6  7]\n",
            "  [ 8  9]\n",
            "  [10 11]]]\n",
            "swapaxes(1,2) shape: (2, 2, 3)\n",
            "[[[ 0  2  4]\n",
            "  [ 1  3  5]]\n",
            "\n",
            " [[ 6  8 10]\n",
            "  [ 7  9 11]]]\n"
          ]
        }
      ]
    },
    {
      "cell_type": "markdown",
      "source": [
        "# Matris Çarpımı (np.dot / @) (EK KONU)\n",
        "Oturum 1'deki * (element-wise çarpım) ile karıştırılmamalıdır. Matris Çarpımı, Lineer Cebir kurallarına uyar.\n",
        "\n"
      ],
      "metadata": {
        "id": "eT8AdP1VrlpO"
      }
    },
    {
      "cell_type": "code",
      "source": [
        "X = np.array([[1,2,3],\n",
        "              [4,5,6]])\n",
        "\n",
        "# Transpoze ile matris çarpımı\n",
        "XT = X.T\n",
        "print(\"X.T @ X:\\n\", XT @ X)\n"
      ],
      "metadata": {
        "colab": {
          "base_uri": "https://localhost:8080/"
        },
        "id": "eQVSUGOArq1m",
        "outputId": "f7b23c98-ab0d-482d-9192-5fde4bf95802"
      },
      "execution_count": 23,
      "outputs": [
        {
          "output_type": "stream",
          "name": "stdout",
          "text": [
            "X.T @ X:\n",
            " [[17 22 27]\n",
            " [22 29 36]\n",
            " [27 36 45]]\n"
          ]
        }
      ]
    },
    {
      "cell_type": "code",
      "source": [
        "# Gerçek Hayat Örneği: Ağırlıklı Ortalama/Skor Hesaplama\n",
        "# Matris A: 4 öğrencinin 2 dersten aldığı puan (4x2)\n",
        "puanlar = np.array([[90, 70], [80, 60], [75, 85], [95, 75]])\n",
        "\n",
        "# Vektör B: Derslerin Kredileri/Ağırlıkları (2x1)\n",
        "krediler = np.array([[0.6], [0.4]]) # Krediler [Ders1, Ders2]\n",
        "\n",
        "# Matris Çarpımı (np.dot veya @)\n",
        "# (4x2) @ (2x1) = (4x1) -> Her öğrencinin toplam ağırlıklı puanı\n",
        "toplam_puan = puanlar @ krediler\n",
        "# VEYA: toplam_puan = np.dot(puanlar, krediler)\n",
        "\n",
        "print(f\"Ağırlıklı Puanlar (Matris Çarpımı Sonucu):\\n{toplam_puan.round(2)}\")\n",
        "# Çıktı:\n",
        "# [[82.0]  (90*0.6 + 70*0.4)\n",
        "#  [72.0]\n",
        "#  [79.0]\n",
        "#  [87.0]]"
      ],
      "metadata": {
        "id": "viPtA3NQrxY7"
      },
      "execution_count": null,
      "outputs": []
    },
    {
      "cell_type": "markdown",
      "source": [
        "# Tekrar Kodları"
      ],
      "metadata": {
        "id": "pOTLQey1tnav"
      }
    },
    {
      "cell_type": "code",
      "source": [
        "# 1. VIEW vs COPY Farkını Anla - PERFORMANS KRİTİK!\n",
        "dizi = np.array([1, 2, 3, 4, 5])\n",
        "view = dizi[1:4]    # VIEW - hızlı, bellek verimli\n",
        "copy = dizi[1:4].copy()  # COPY - yavaş, fazla bellek\n",
        "\n",
        "# 2. Boolean Indexing'de Parantez Kullan\n",
        "# YANLIŞ: dizi > 5 and dizi < 10\n",
        "# DOĞRU: (dizi > 5) & (dizi < 10)\n",
        "\n",
        "# 3. Büyük Dizilerde .copy() Kullanımına Dikkat Et\n",
        "buyuk_dizi = np.random.rand(1000000)\n",
        "# Kötü: yeni_dizi = buyuk_dizi[::2]  # VIEW, orijinali silinemez\n",
        "# İyi: yeni_dizi = buyuk_dizi[::2].copy()  # COPY, orijinal silinebilir\n",
        "\n",
        "# 4. reshape()'te -1 Kullanarak Kodunu Esnek Yap\n",
        "dizi = np.arange(24)\n",
        "otomatik = dizi.reshape(2, 3, -1)  # NumPy 4 hesaplar: 24/(2*3)=4\n",
        "\n",
        "# 5. Rastgele Sayılarda seed() Kullan - Reprodücibility\n",
        "np.random.seed(42)  # Aynı sonuçları garanti eder\n",
        "\n",
        "# 6. Boolean Maskeleri Önceden Hesapla - OKUNABİLİRLİK\n",
        "dizi = np.random.rand(1000)\n",
        "kosul = (dizi > 0.3) & (dizi < 0.7)\n",
        "sonuc = dizi[kosul]  # Daha okunabilir\n",
        "\n",
        "# 7. Fancy Indexing Yerine Boolean Indexing Tercih Et - PERFORMANS\n",
        "# Daha hızlı: dizi[dizi > 5]\n",
        "# Daha yavaş: dizi[[i for i in range(len(dizi)) if dizi[i] > 5]]\n",
        "\n",
        "# 8. Çok Boyutlu Dizilerde axis Parametresini Doğru Anla\n",
        "matrix = np.random.rand(3, 4)\n",
        "toplam_satir = matrix.sum(axis=1)  # Satırlar boyunca\n",
        "toplam_sutun = matrix.sum(axis=0)  # Sütunlar boyunca\n",
        "\n",
        "# 9. Büyük Dizileri İşlerken Bellek Kullanımını İzle\n",
        "import sys\n",
        "dizi = np.ones((1000, 1000))\n",
        "print(f\"Bellek kullanımı: {dizi.nbytes / 1024 / 1024:.2f} MB\")\n",
        "\n",
        "# 10. np.where() ile Koşullu İşlemleri Vektörel Yap\n",
        "dizi = np.array([1, 2, 3, 4, 5])\n",
        "# Kötü: [x if x > 3 else 0 for x in dizi]  # Python döngüsü - yavaş\n",
        "# İyi: np.where(dizi > 3, dizi, 0)  # Vektörel işlem - hızlı"
      ],
      "metadata": {
        "id": "JRQiw6fxtqsj"
      },
      "execution_count": null,
      "outputs": []
    },
    {
      "cell_type": "markdown",
      "source": [
        "**ileri dilimleme teknikleri**"
      ],
      "metadata": {
        "id": "AJyYUgvutwe8"
      }
    },
    {
      "cell_type": "code",
      "source": [
        "# np.newaxis - Boyut Ekleme\n",
        "dizi = np.array([1, 2, 3])\n",
        "print(\"Orijinal shape:\", dizi.shape)  # (3,)\n",
        "print(\"newaxis ile sütun vektörü:\", dizi[:, np.newaxis].shape)  # (3, 1)\n",
        "print(\"newaxis ile satır vektörü:\", dizi[np.newaxis, :].shape)  # (1, 3)\n",
        "\n",
        "# np.ix_ - Karmaşık Indexing\n",
        "matrix = np.arange(25).reshape(5, 5)\n",
        "rows = [1, 3, 4]\n",
        "cols = [0, 2, 4]\n",
        "print(\"ix_ ile seçim:\\n\", matrix[np.ix_(rows, cols)])"
      ],
      "metadata": {
        "id": "9eo-qktht0t7"
      },
      "execution_count": null,
      "outputs": []
    },
    {
      "cell_type": "markdown",
      "source": [
        "# np.put ve np.take"
      ],
      "metadata": {
        "id": "CLZKF33ht7_u"
      }
    },
    {
      "cell_type": "code",
      "source": [
        "# np.put - Belirli indekslere değer atama\n",
        "dizi = np.array([10, 20, 30, 40, 50])\n",
        "np.put(dizi, [0, 2, 4], [100, 300, 500])\n",
        "print(\"put sonrası:\", dizi)  # [100, 20, 300, 40, 500]\n",
        "\n",
        "# np.take - Belirli indekslerden değer alma\n",
        "alinan = np.take(dizi, [1, 3])\n",
        "print(\"take ile alınan:\", alinan)  # [20, 40]"
      ],
      "metadata": {
        "id": "qLq7qFgsuAKa"
      },
      "execution_count": null,
      "outputs": []
    },
    {
      "cell_type": "markdown",
      "source": [
        "\n",
        "* örnek 1 Hisse senedi fiyat analizi\n",
        "\n"
      ],
      "metadata": {
        "id": "gj3L7ykWua4G"
      }
    },
    {
      "cell_type": "code",
      "source": [
        "import numpy as np\n",
        "\n",
        "# Gerçek hayat senaryosu: Bir hisse senedinin 10 günlük kapanış fiyatlarını analiz etme\n",
        "print(\"=== ÖRNEK 1: Hisse Senedi Fiyat Analizi ===\")\n",
        "\n",
        "# 10 günlük hisse senedi kapanış fiyatları (TL)\n",
        "gunluk_fiyatlar = [145.50, 148.20, 152.75, 149.30, 155.80, 153.25, 158.90, 162.40, 159.75, 164.20]\n",
        "hisse_fiyatlari = np.array(gunluk_fiyatlar)\n",
        "\n",
        "print(f\"10 günlük hisse fiyatları: {hisse_fiyatlari}\")\n",
        "print(f\"Veri tipi: {hisse_fiyatlari.dtype}\")  # float64 - ondalıklı sayılar için uygun\n",
        "print(f\"Boyut: {hisse_fiyatlari.shape}\")     # (10,) - 10 elemanlı 1B dizi\n",
        "\n",
        "# Günlük getiri oranlarını hesapla (yüzde değişim)\n",
        "getiri_oranlari = (hisse_fiyatlari[1:] - hisse_fiyatlari[:-1]) / hisse_fiyatlari[:-1] * 100\n",
        "print(f\"Günlük getiri oranları (%): {getiri_oranlari}\")\n",
        "\n",
        "# Ortalama getiri ve volatilite (risk)\n",
        "ortalama_getiri = np.mean(getiri_oranlari)\n",
        "volatilite = np.std(getiri_oranlari)\n",
        "print(f\"Ortalama günlük getiri: %{ortalama_getiri:.2f}\")\n",
        "print(f\"Günlük volatilite: %{volatilite:.2f}\")\n",
        "\n",
        "\"\"\"\n",
        "AÇIKLAMALAR:\n",
        "- np.array(): Python listesini NumPy dizisine çevirir\n",
        "- dtype: Verilerin float64 olması ondalıklı fiyatlar için ideal\n",
        "- shape: (10,) 10 elemanlı tek boyutlu dizi olduğunu gösterir\n",
        "- [1:] ve [:-1]: Diziyi kaydırarak günlük farkları hesaplar\n",
        "- np.mean() ve np.std(): İstatistiksel hesaplamalar için kullanılır\n",
        "\"\"\""
      ],
      "metadata": {
        "id": "tNzuyHKEujDi"
      },
      "execution_count": null,
      "outputs": []
    },
    {
      "cell_type": "markdown",
      "source": [
        "# sıcaklık verisi işleme"
      ],
      "metadata": {
        "id": "ovenb377vD2K"
      }
    },
    {
      "cell_type": "code",
      "source": [
        "import numpy as np\n",
        "\n",
        "# Gerçek hayat senaryosu: Bir haftalık sıcaklık ölçümlerini işleme\n",
        "print(\"\\n=== ÖRNEK 2: Sıcaklık Verisi İşleme ===\")\n",
        "\n",
        "# 7 günlük ortalama sıcaklık verisi (°C)\n",
        "sicaklik_verisi = [22.5, 24.3, 19.8, 21.2, 26.7, 28.1, 23.4]\n",
        "sicaklik_dizisi = np.array(sicaklik_verisi)\n",
        "\n",
        "print(f\"7 günlük sıcaklık verisi: {sicaklik_dizisi}\")\n",
        "\n",
        "# Haftalık sıcaklık istatistikleri\n",
        "max_sicaklik = np.max(sicaklik_dizisi)\n",
        "min_sicaklik = np.min(sicaklik_dizisi)\n",
        "ortalama_sicaklik = np.mean(sicaklik_dizisi)\n",
        "\n",
        "print(f\"En yüksek sıcaklık: {max_sicaklik}°C\")\n",
        "print(f\"En düşük sıcaklık: {min_sicaklik}°C\")\n",
        "print(f\"Ortalama sıcaklık: {ortalama_sicaklik:.1f}°C\")\n",
        "\n",
        "# Sıcaklık sınıflandırması\n",
        "sinif_esikleri = [0, 15, 25, 35, 50]  # Soğuk, Ilık, Sıcak, Çok sıcak\n",
        "sinif_etiketleri = ['Soğuk', 'Ilık', 'Sıcak', 'Çok Sıcak']\n",
        "\n",
        "for i, sicaklik in enumerate(sicaklik_dizisi):\n",
        "    for j, esik in enumerate(sinif_esikleri[:-1]):\n",
        "        if esik <= sicaklik < sinif_esikleri[j+1]:\n",
        "            print(f\"Gün {i+1}: {sicaklik}°C → {sinif_etiketleri[j]}\")\n",
        "            break\n",
        "\n",
        "\"\"\"\n",
        "AÇIKLAMALAR:\n",
        "- np.max() ve np.min(): Dizideki maksimum ve minimum değerleri bulur\n",
        "- np.mean(): Ortalama hesaplar\n",
        "- enumerate(): Hem indeksi hem değeri almak için kullanılır\n",
        "- Sınıflandırma: Gerçek hayatta hava durumu analizlerinde kullanılır\n",
        "\"\"\""
      ],
      "metadata": {
        "id": "zGp_nuGzvGU6"
      },
      "execution_count": null,
      "outputs": []
    },
    {
      "cell_type": "markdown",
      "source": [
        "# öğrenci notları ve istatistik"
      ],
      "metadata": {
        "id": "CGofiISHvRyK"
      }
    },
    {
      "cell_type": "code",
      "source": [
        "import numpy as np\n",
        "\n",
        "# Gerçek hayat senaryosu: Bir sınıfın sınav notlarını analiz etme\n",
        "print(\"\\n=== ÖRNEK 3: Öğrenci Notları Analizi ===\")\n",
        "\n",
        "# 20 öğrencinin matematik sınav notları (0-100 arası)\n",
        "ogrenci_notlari = np.array([85, 92, 78, 65, 45, 88, 95, 72, 58, 81,\n",
        "                            67, 90, 76, 53, 49, 87, 94, 79, 62, 84])\n",
        "\n",
        "print(f\"Öğrenci notları: {ogrenci_notlari}\")\n",
        "\n",
        "# Temel istatistikler\n",
        "ortalama = np.mean(ogrenci_notlari)\n",
        "medyan = np.median(ogrenci_notlari)\n",
        "standart_sapma = np.std(ogrenci_notlari)\n",
        "\n",
        "print(f\"Sınıf ortalaması: {ortalama:.1f}\")\n",
        "print(f\"Medyan: {medyan}\")\n",
        "print(f\"Standart sapma: {standart_sapma:.1f}\")\n",
        "\n",
        "# Not dağılımı analizi\n",
        "gecme_notu = 60\n",
        "gecen_ogrenci_sayisi = np.sum(ogrenci_notlari >= gecme_notu)\n",
        "kalan_ogrenci_sayisi = np.sum(ogrenci_notlari < gecme_notu)\n",
        "\n",
        "print(f\"Geçen öğrenci sayısı: {gecen_ogrenci_sayisi}\")\n",
        "print(f\"Kalan öğrenci sayısı: {kalan_ogrenci_sayisi}\")\n",
        "print(f\"Başarı oranı: %{(gecen_ogrenci_sayisi / len(ogrenci_notlari)) * 100:.1f}\")\n",
        "\n",
        "\"\"\"\n",
        "AÇIKLAMALAR:\n",
        "- np.median(): Ortanca değeri bulur (aykırı değerlere daha dayanıklı)\n",
        "- np.sum() + boolean indexing: Koşulu sağlayan elemanları sayar\n",
        "- >= ve < operatörleri: NumPy'da element-wise çalışır (her eleman için ayrı değerlendirir)\n",
        "\"\"\""
      ],
      "metadata": {
        "id": "IHFwUOhYvUEJ"
      },
      "execution_count": null,
      "outputs": []
    },
    {
      "cell_type": "code",
      "source": [
        "import numpy as np\n",
        "\n",
        "# Gerçek hayat senaryosu: 5 mağazanın aylık satış verileri\n",
        "print(\"\\n=== ÖRNEK 4: Mağaza Satış Analizi ===\")\n",
        "\n",
        "# 5 mağazanın 3 aylık satış verileri (bin TL)\n",
        "satis_verisi = [\n",
        "    [120, 150, 180],  # Mağaza 1\n",
        "    [90, 110, 130],   # Mağaza 2\n",
        "    [200, 220, 240],  # Mağaza 3\n",
        "    [80, 95, 110],    # Mağaza 4\n",
        "    [160, 170, 190]   # Mağaza 5\n",
        "]\n",
        "\n",
        "satis_dizisi = np.array(satis_verisi)\n",
        "print(f\"Satış verisi (5 mağaza x 3 ay):\\n{satis_dizisi}\")\n",
        "\n",
        "# Toplam satışlar\n",
        "aylik_toplam = np.sum(satis_dizisi, axis=0)  # Sütunlar boyunca toplam\n",
        "magaza_toplam = np.sum(satis_dizisi, axis=1)  # Satırlar boyunca toplam\n",
        "genel_toplam = np.sum(satis_dizisi)\n",
        "\n",
        "print(f\"Aylık toplam satışlar: {aylik_toplam} bin TL\")\n",
        "print(f\"Mağaza toplam satışları: {magaza_toplam} bin TL\")\n",
        "print(f\"Genel toplam satış: {genel_toplam} bin TL\")\n",
        "\n",
        "# Büyüme oranları\n",
        "ilk_ay = satis_dizisi[:, 0]  # Tüm mağazaların ilk ay satışları\n",
        "son_ay = satis_dizisi[:, 2]  # Tüm mağazaların son ay satışları\n",
        "buyume_orani = (son_ay - ilk_ay) / ilk_ay * 100\n",
        "\n",
        "print(f\"Mağaza büyüme oranları (%): {buyume_orani}\")\n",
        "\n",
        "\"\"\"\n",
        "AÇIKLAMALAR:\n",
        "- axis=0: Sütunlar boyunca işlem (her ayın toplamı)\n",
        "- axis=1: Satırlar boyunca işlem (her mağazanın toplamı)\n",
        "- [:, 0]: Tüm satırlar, 0. sütun - ilk ay satışları\n",
        "- [:, 2]: Tüm satırlar, 2. sütun - son ay satışları\n",
        "- Broadcasting: İki dizi arasında otomatik boyut uyumlama\n",
        "\"\"\""
      ],
      "metadata": {
        "id": "xokKsa6SvgGz"
      },
      "execution_count": null,
      "outputs": []
    },
    {
      "cell_type": "code",
      "source": [
        "import numpy as np\n",
        "\n",
        "# Gerçek hayat senaryosu: Market ürün stok takibi\n",
        "print(\"\\n=== ÖRNEK 5: Ürün Stok Takibi ===\")\n",
        "\n",
        "# 4 farklı ürünün 5 farklı şubedeki stok miktarları\n",
        "stok_verisi = [\n",
        "    [50, 30, 25, 40, 35],  # Ürün A\n",
        "    [20, 15, 10, 25, 18],  # Ürün B\n",
        "    [100, 80, 60, 90, 70], # Ürün C\n",
        "    [35, 28, 22, 30, 26]   # Ürün D\n",
        "]\n",
        "\n",
        "stok_dizisi = np.array(stok_verisi)\n",
        "print(f\"Stok verisi (4 ürün x 5 şube):\\n{stok_dizisi}\")\n",
        "\n",
        "# Stok alarmı: Minimum stok seviyesi 20\n",
        "min_stok_seviyesi = 20\n",
        "dusuk_stoklar = stok_dizisi < min_stok_seviyesi\n",
        "\n",
        "print(f\"Düşük stok alarm matrisi:\\n{dusuk_stoklar}\")\n",
        "\n",
        "# Hangi ürün-şube kombinasyonlarında stok alarmı var?\n",
        "alarm_pozisyonlari = np.where(dusuk_stoklar)\n",
        "print(f\"Alarm pozisyonları: {list(zip(alarm_pozisyonlari[0], alarm_pozisyonlari[1]))}\")\n",
        "\n",
        "# Toplam stok maliyeti (ürün başına birim fiyat)\n",
        "birim_fiyatlar = np.array([15.50, 8.75, 4.25, 12.30])  # TL\n",
        "toplam_stok_maliyeti = np.sum(stok_dizisi * birim_fiyatlar[:, np.newaxis])\n",
        "\n",
        "print(f\"Birim fiyatlar: {birim_fiyatlar} TL\")\n",
        "print(f\"Toplam stok maliyeti: {toplam_stok_maliyeti:.2f} TL\")\n",
        "\n",
        "\"\"\"\n",
        "AÇIKLAMALAR:\n",
        "- < operatörü: Element-wise karşılaştırma (her eleman için True/False)\n",
        "- np.where(): Koşulu sağlayan elemanların indekslerini döndürür\n",
        "- birim_fiyatlar[:, np.newaxis]: (4,) → (4,1) boyutuna çevirir (broadcasting için)\n",
        "- * operatörü: Element-wise çarpım (her stok miktarı × birim fiyat)\n",
        "\"\"\""
      ],
      "metadata": {
        "id": "Imc0JeFaviws"
      },
      "execution_count": null,
      "outputs": []
    },
    {
      "cell_type": "code",
      "source": [
        "import numpy as np\n",
        "\n",
        "# Gerçek hayat senaryosu: Fitness uygulaması adım verisi\n",
        "print(\"\\n=== ÖRNEK 6: Fitness Takip Analizi ===\")\n",
        "\n",
        "# 4 haftalık günlük adım sayıları\n",
        "gunluk_adimlar = np.array([\n",
        "    [8523, 9234, 7845, 9567, 10234, 11245, 9876],   # Hafta 1\n",
        "    [9123, 8456, 9234, 8765, 9543, 10345, 8987],    # Hafta 2\n",
        "    [7654, 8234, 8945, 9345, 8765, 9678, 10234],    # Hafta 3\n",
        "    [9234, 8567, 9123, 9456, 9876, 10567, 9234]     # Hafta 4\n",
        "])\n",
        "\n",
        "print(f\"4 haftalık adım verisi:\\n{gunluk_adimlar}\")\n",
        "\n",
        "# Haftalık ortalama adımlar\n",
        "haftalik_ortalama = np.mean(gunluk_adimlar, axis=1)\n",
        "print(f\"Haftalık ortalama adımlar: {haftalik_ortalama.astype(int)}\")\n",
        "\n",
        "# Günlük hedef: 10,000 adım\n",
        "hedef_adim = 10000\n",
        "hedef_tutan_gunler = gunluk_adimlar >= hedef_adim\n",
        "hedef_orani = np.mean(hedef_tutan_gunler) * 100\n",
        "\n",
        "print(f\"Hedefi tutan günler:\\n{hedef_tutan_gunler}\")\n",
        "print(f\"Hedef tutma oranı: %{hedef_orani:.1f}\")\n",
        "\n",
        "# En aktif günler (hafta sonları: 5. ve 6. indeksler)\n",
        "hafta_sonu_adimlari = gunluk_adimlar[:, [5, 6]]  # Cumartesi ve Pazar\n",
        "hafta_ici_adimlari = gunluk_adimlar[:, :5]       # Pazartesi-Cuma\n",
        "\n",
        "ortalama_hafta_sonu = np.mean(hafta_sonu_adimlari)\n",
        "ortalama_hafta_ici = np.mean(hafta_ici_adimlari)\n",
        "\n",
        "print(f\"Ortalama hafta sonu adımı: {ortalama_hafta_sonu:.0f}\")\n",
        "print(f\"Ortalama hafta içi adımı: {ortalama_hafta_ici:.0f}\")\n",
        "\n",
        "\"\"\"\n",
        "AÇIKLAMALAR:\n",
        "- axis=1: Satırlar boyunca ortalama (her haftanın ortalaması)\n",
        "- astype(int): Ondalıklı sayıları tam sayıya çevirir\n",
        "- [:, [5,6]]: Tüm satırlar, 5. ve 6. sütunlar (hafta sonları)\n",
        "- [:, :5]: Tüm satırlar, ilk 5 sütun (hafta içi)\n",
        "- Boolean dizilerde np.mean(): True=1, False=0 olarak hesaplar\n",
        "\"\"\""
      ],
      "metadata": {
        "id": "R5ystJtcvnYq"
      },
      "execution_count": null,
      "outputs": []
    },
    {
      "cell_type": "code",
      "source": [
        "import numpy as np\n",
        "\n",
        "# Gerçek hayat senaryosu: Aylık elektrik tüketim analizi\n",
        "print(\"\\n=== ÖRNEK 7: Enerji Tüketim Analizi ===\")\n",
        "\n",
        "# 12 aylık elektrik tüketimi (kWh)\n",
        "aylik_tuketim = np.array([450, 420, 380, 350, 320, 300,\n",
        "                         350, 380, 400, 430, 460, 480])\n",
        "\n",
        "print(f\"Aylık tüketim (kWh): {aylik_tuketim}\")\n",
        "\n",
        "# Mevsimsel analiz\n",
        "kis_tuketim = aylik_tuketim[[0, 1, 10, 11]]  # Ocak, Şubat, Kasım, Aralık\n",
        "yaz_tuketim = aylik_tuketim[5:8]             # Haziran, Temmuz, Ağustos\n",
        "\n",
        "ortalama_kis = np.mean(kis_tuketim)\n",
        "ortalama_yaz = np.mean(yaz_tuketim)\n",
        "\n",
        "print(f\"Kış ayları tüketimi: {kis_tuketim}\")\n",
        "print(f\"Yaz ayları tüketimi: {yaz_tuketim}\")\n",
        "print(f\"Ortalama kış tüketimi: {ortalama_kis:.1f} kWh\")\n",
        "print(f\"Ortalama yaz tüketimi: {ortalama_yaz:.1f} kWh\")\n",
        "\n",
        "# Tüketim trend analizi\n",
        "aylik_degisim = (aylik_tuketim[1:] - aylik_tuketim[:-1]) / aylik_tuketim[:-1] * 100\n",
        "print(f\"Aylık değişim oranları (%): {aylik_degisim}\")\n",
        "\n",
        "# Anomalı tüketim tespiti (ortalama ± 2 standart sapma)\n",
        "ortalama = np.mean(aylik_tuketim)\n",
        "std_sapma = np.std(aylik_tuketim)\n",
        "ust_sinir = ortalama + 2 * std_sapma\n",
        "alt_sinir = ortalama - 2 * std_sapma\n",
        "\n",
        "anomaliler = (aylik_tuketim > ust_sinir) | (aylik_tuketim < alt_sinir)\n",
        "print(f\"Anomalı aylar: {np.where(anomaliler)[0] + 1}\")  # +1 çünkü aylar 1'den başlar\n",
        "\n",
        "\"\"\"\n",
        "AÇIKLAMALAR:\n",
        "- [0, 1, 10, 11]: Fancy indexing - belirli indeksleri seçer\n",
        "- 5:8: Dilimleme - 5, 6, 7. indeksleri seçer (8 dahil değil)\n",
        "- | operatörü: Boolean OR işlemi\n",
        "- np.where()[0]: Koşulu sağlayan indeksleri döndürür\n",
        "\"\"\""
      ],
      "metadata": {
        "id": "ZB_yRQ20vpHk"
      },
      "execution_count": null,
      "outputs": []
    },
    {
      "cell_type": "code",
      "source": [
        "import numpy as np\n",
        "\n",
        "# Gerçek hayat senaryosu: Müşteri harcama alışkanlıkları analizi\n",
        "print(\"\\n=== ÖRNEK 8: Müşteri Segmentasyonu ===\")\n",
        "\n",
        "# 8 müşterinin 3 aylık harcama verileri (TL)\n",
        "musteri_harcamalari = np.array([\n",
        "    [1200, 1500, 1800],  # Müşteri 1\n",
        "    [800, 950, 1100],    # Müşteri 2\n",
        "    [2500, 2800, 3000],  # Müşteri 3\n",
        "    [600, 700, 850],     # Müşteri 4\n",
        "    [1800, 2000, 2200],  # Müşteri 5\n",
        "    [950, 1200, 1400],   # Müşteri 6\n",
        "    [3000, 3200, 3500],  # Müşteri 7\n",
        "    [750, 800, 900]      # Müşteri 8\n",
        "])\n",
        "\n",
        "print(f\"Müşteri harcama verisi:\\n{musteri_harcamalari}\")\n",
        "\n",
        "# Boolean indexing ile müşteri segmentasyonu\n",
        "vip_esik = 2500  # VIP müşteri eşiği\n",
        "vip_musteriler = musteri_harcamalari[:, -1] > vip_esik  # Son ay harcaması\n",
        "print(f\"VIP müşteri maskesi: {vip_musteriler}\")\n",
        "\n",
        "# VIP müşterilerin verilerini seç\n",
        "vip_verisi = musteri_harcamalari[vip_musteriler]\n",
        "print(f\"VIP müşteri verisi:\\n{vip_verisi}\")\n",
        "\n",
        "# Büyüme potansiyeli olan müşteriler (her ay artan harcama)\n",
        "artis_musteriler = np.all(musteri_harcamalari[:, 1:] > musteri_harcamalari[:, :-1], axis=1)\n",
        "print(f\"Büyüme müşterileri: {artis_musteriler}\")\n",
        "\n",
        "# Tüm segmentleri birleştir\n",
        "segmentler = np.zeros(len(musteri_harcamalari), dtype='<U10')  # String dizi\n",
        "segmentler[vip_musteriler] = 'VIP'\n",
        "segmentler[artis_musteriler & ~vip_musteriler] = 'Büyüyor'\n",
        "segmentler[~(vip_musteriler | artis_musteriler)] = 'Standart'\n",
        "\n",
        "print(f\"Müşteri segmentleri: {segmentler}\")\n",
        "\n",
        "\"\"\"\n",
        "AÇIKLAMALAR:\n",
        "- [:, -1]: Tüm müşterilerin son ay harcamaları\n",
        "- [vip_musteriler]: Boolean indexing - True olan satırları seçer\n",
        "- np.all(axis=1): Satır bazında tüm koşulların True olup olmadığını kontrol eder\n",
        "- & ve |: Boolean AND/OR operatörleri\n",
        "- ~: Boolean NOT operatörü\n",
        "- dtype='<U10': Maksimum 10 karakterli Unicode string\n",
        "\"\"\""
      ],
      "metadata": {
        "id": "8A-tyFSZvsms"
      },
      "execution_count": null,
      "outputs": []
    },
    {
      "cell_type": "code",
      "source": [
        "import numpy as np\n",
        "\n",
        "# Gerçek hayat senaryosu: E-ticaret ürün özellik analizi\n",
        "print(\"\\n=== ÖRNEK 9: Ürün Özellik Matrisi İşleme ===\")\n",
        "\n",
        "# 6 ürünün 4 özelliği (fiyat, değerlendirme, stok, ağırlık)\n",
        "urun_ozellikleri = np.array([\n",
        "    [299.99, 4.5, 50, 1.2],   # Ürün A\n",
        "    [149.50, 4.2, 25, 0.8],   # Ürün B\n",
        "    [599.99, 4.8, 10, 3.5],   # Ürün C\n",
        "    [79.99, 3.9, 100, 0.5],   # Ürün D\n",
        "    [399.99, 4.6, 15, 2.1],   # Ürün E\n",
        "    [199.99, 4.0, 40, 1.5]    # Ürün F\n",
        "])\n",
        "\n",
        "print(f\"Ürün özellik matrisi:\\n{urun_ozellikleri}\")\n",
        "\n",
        "# Fancy indexing ile belirli ürünleri seç\n",
        "populer_urunler = [0, 2, 4]  # En popüler ürünlerin indeksleri\n",
        "populer_verisi = urun_ozellikleri[populer_urunler]\n",
        "print(f\"Popüler ürünler:\\n{populer_verisi}\")\n",
        "\n",
        "# Belirli özelliklere göre sıralama (değerlendirmeye göre azalan)\n",
        "siralama_indeksleri = np.argsort(urun_ozellikleri[:, 1])[::-1]  # Değerlendirme sütunu\n",
        "siralanmis_urunler = urun_ozellikleri[siralama_indeksleri]\n",
        "\n",
        "print(f\"Değerlendirmeye göre sıralanmış ürünler:\\n{siralanmis_urunler}\")\n",
        "\n",
        "# Çoklu koşullu filtreleme (fiyat < 300 ve değerlendirme > 4.0)\n",
        "uygun_urunler = (urun_ozellikleri[:, 0] < 300) & (urun_ozellikleri[:, 1] > 4.0)\n",
        "secilen_urunler = urun_ozellikleri[uygun_urunler]\n",
        "\n",
        "print(f\"Uygun ürünler (fiyat < 300, değerlendirme > 4.0):\\n{secilen_urunler}\")\n",
        "\n",
        "\"\"\"\n",
        "AÇIKLAMALAR:\n",
        "- [populer_urunler]: Fancy indexing - belirli satırları seçer\n",
        "- np.argsort(): Sıralanmış indeksleri döndürür\n",
        "- [::-1]: Diziyi ters çevirir (azalan sıra için)\n",
        "- [:, 0] ve [:, 1]: Belirli sütunları seçer\n",
        "- Çoklu koşullar: Parantezler önemli!\n",
        "\"\"\""
      ],
      "metadata": {
        "id": "jmxyZenyvuqt"
      },
      "execution_count": null,
      "outputs": []
    },
    {
      "cell_type": "code",
      "source": [
        "import numpy as np\n",
        "\n",
        "# Gerçek hayat senaryosu: Sensör verisini yeniden yapılandırma\n",
        "print(\"\\n=== ÖRNEK 10: Zaman Serisi Yeniden Şekillendirme ===\")\n",
        "\n",
        "# 30 günlük günlük sıcaklık ölçümleri (düz liste)\n",
        "duz_veri = np.array([\n",
        "    22.5, 23.1, 21.8, 24.2, 25.6, 26.8, 27.3, 26.5, 25.2, 23.8,\n",
        "    22.1, 21.5, 20.8, 22.3, 24.7, 26.1, 27.8, 28.2, 27.5, 26.3,\n",
        "    24.9, 23.4, 22.7, 21.9, 23.2, 25.4, 26.9, 28.1, 29.3, 28.7\n",
        "])\n",
        "\n",
        "print(f\"Düz veri boyutu: {duz_veri.shape}\")\n",
        "\n",
        "# Veriyi haftalık formata çevir (4 hafta x 7 gün)\n",
        "haftalik_veri = duz_veri.reshape(4, 7)\n",
        "print(f\"Haftalık veri (4 hafta x 7 gün):\\n{haftalik_veri}\")\n",
        "\n",
        "# Hafta sonu ve hafta içi analizi\n",
        "hafta_sonu_verisi = haftalik_veri[:, [5, 6]]  # Cumartesi ve Pazar\n",
        "hafta_ici_verisi = haftalik_veri[:, :5]       # Pazartesi-Cuma\n",
        "\n",
        "print(f\"Hafta sonu verisi:\\n{hafta_sonu_verisi}\")\n",
        "print(f\"Hafta içi verisi:\\n{hafta_ici_verisi}\")\n",
        "\n",
        "# Transpoz: Günler satır, haftalar sütun olacak şekilde\n",
        "transpoz_veri = haftalik_veri.T\n",
        "print(f\"Transpoz veri (7 gün x 4 hafta):\\n{transpoz_veri}\")\n",
        "\n",
        "# Belirli bir haftanın verisini seç ve işle\n",
        "ikinci_hafta = haftalik_veri[1, :]  # 2. haftanın tüm günleri\n",
        "print(f\"2. hafta verisi: {ikinci_hafta}\")\n",
        "\n",
        "# VIEW vs COPY örneği\n",
        "view_veri = haftalik_veri[0:2, :]    # VIEW - orijinal veriyi paylaşır\n",
        "copy_veri = haftalik_veri[0:2, :].copy()  # COPY - yeni bellek alanı\n",
        "\n",
        "print(f\"View base: {view_veri.base is haftalik_veri}\")  # True\n",
        "print(f\"Copy base: {copy_veri.base is haftalik_veri}\")  # False\n",
        "\n",
        "\"\"\"\n",
        "AÇIKLAMALAR:\n",
        "- reshape(4, 7): 30 elemanlı diziyi 4x7 matrise çevirir\n",
        "- [:, [5,6]]: Tüm satırlar, 5. ve 6. sütunlar\n",
        "- .T: Transpoz işlemi (satır↔sütun)\n",
        "- [1, :]: 1. satırın tüm sütunları\n",
        "- .base: Dizinin view mi copy mi olduğunu kontrol eder\n",
        "\"\"\""
      ],
      "metadata": {
        "id": "8boFMk9XvxYy"
      },
      "execution_count": null,
      "outputs": []
    },
    {
      "cell_type": "code",
      "source": [
        "import numpy as np\n",
        "\n",
        "# Gerçek hayat senaryosu: 3 boyutlu depo stok takibi\n",
        "print(\"\\n=== ÖRNEK 11: Çok Boyutlu Stok Takip Sistemi ===\")\n",
        "\n",
        "# 3 depo x 4 raf x 6 bölüm stok verisi\n",
        "depo_stoklari = np.random.randint(0, 100, size=(3, 4, 6))\n",
        "print(f\"Depo stok verisi boyutu: {depo_stoklari.shape}\")\n",
        "print(f\"Depo 0 stokları:\\n{depo_stoklari[0]}\")\n",
        "\n",
        "# Belirli bir deponun tüm stoklarını seç\n",
        "depo_1_stok = depo_stoklari[1, :, :]  # 1. deponun tüm raf ve bölümleri\n",
        "print(f\"Depo 1 stokları:\\n{depo_1_stok}\")\n",
        "\n",
        "# Tüm depoların belirli bir rafındaki stoklar\n",
        "raf_2_stok = depo_stoklari[:, 2, :]  # Tüm depoların 2. rafı\n",
        "print(f\"Raf 2 stokları (tüm depolar):\\n{raf_2_stok}\")\n",
        "\n",
        "# Çoklu indeksleme ile karmaşık seçim\n",
        "ozel_secim = depo_stoklari[[0, 2], 1:3, [2, 4, 5]]\n",
        "print(f\"Özel seçim (depo 0,2; raf 1,2; bölüm 2,4,5):\\n{ozel_secim}\")\n",
        "\n",
        "# Stok azlığı tespiti\n",
        "dusuk_stok_esigi = 20\n",
        "dusuk_stoklar = depo_stoklari < dusuk_stok_esigi\n",
        "dusuk_stok_sayisi = np.sum(dusuk_stoklar)\n",
        "\n",
        "print(f\"Düşük stok sayısı: {dusuk_stok_sayisi}\")\n",
        "print(f\"Düşük stok pozisyonları: {np.where(dusuk_stoklar)}\")\n",
        "\n",
        "\"\"\"\n",
        "AÇIKLAMALAR:\n",
        "- (3, 4, 6): 3 depo, her depoda 4 raf, her rafta 6 bölüm\n",
        "- [1, :, :]: 1. depo, tüm raflar, tüm bölümler\n",
        "- [:, 2, :]: Tüm depolar, 2. raf, tüm bölümler\n",
        "- [[0,2], 1:3, [2,4,5]]: Fancy indexing + dilimleme kombinasyonu\n",
        "- np.where(): Çok boyutlu dizilerde koordinatları döndürür\n",
        "\"\"\""
      ],
      "metadata": {
        "id": "K3uXjxH1vzYK"
      },
      "execution_count": null,
      "outputs": []
    },
    {
      "cell_type": "code",
      "source": [
        "import numpy as np\n",
        "\n",
        "# Gerçek hayat senaryosu: Çalışan maaş bordrosu hesaplama\n",
        "print(\"\\n=== ÖRNEK 12: Maaş Bordro Hesaplama Sistemi ===\")\n",
        "\n",
        "# 8 çalışanın temel maaş, prim, mesai verileri\n",
        "calisan_verisi = np.array([\n",
        "    [8500, 1200, 15],   # Çalışan 1\n",
        "    [7200, 800, 8],     # Çalışan 2\n",
        "    [9500, 1500, 20],   # Çalışan 3\n",
        "    [6800, 600, 5],     # Çalışan 4\n",
        "    [7800, 1000, 12],   # Çalışan 5\n",
        "    [9200, 1300, 18],   # Çalışan 6\n",
        "    [7500, 900, 10],    # Çalışan 7\n",
        "    [8800, 1100, 14]    # Çalışan 8\n",
        "])\n",
        "\n",
        "print(f\"Çalışan verisi (temel maaş, prim, mesai saati):\\n{calisan_verisi}\")\n",
        "\n",
        "# Net maaş hesaplama (temel + prim + mesai*50 - vergi)\n",
        "mesai_ucreti = 50\n",
        "vergi_orani = 0.15\n",
        "\n",
        "temel_maas = calisan_verisi[:, 0]\n",
        "prim = calisan_verisi[:, 1]\n",
        "mesai_saati = calisan_verisi[:, 2]\n",
        "\n",
        "brut_maas = temel_maas + prim + (mesai_saati * mesai_ucreti)\n",
        "vergi = brut_maas * vergi_orani\n",
        "net_maas = brut_maas - vergi\n",
        "\n",
        "print(f\"Brüt maaşlar: {brut_maas}\")\n",
        "print(f\"Vergiler: {vergi}\")\n",
        "print(f\"Net maaşlar: {net_maas}\")\n",
        "\n",
        "# Maaş bandı analizi\n",
        "maas_bandlari = [0, 8000, 10000, 15000, np.inf]\n",
        "band_etiketleri = ['Düşük', 'Orta', 'Yüksek', 'Çok Yüksek']\n",
        "\n",
        "for i, maas in enumerate(brut_maas):\n",
        "    for j in range(len(maas_bandlari)-1):\n",
        "        if maas_bandlari[j] <= maas < maas_bandlari[j+1]:\n",
        "            print(f\"Çalışan {i+1}: {maas:.0f} TL → {band_etiketleri[j]} band\")\n",
        "            break\n",
        "\n",
        "\"\"\"\n",
        "AÇIKLAMALAR:\n",
        "- [:, 0], [:, 1], [:, 2]: Sütun bazlı veri seçimi\n",
        "- Element-wise operasyonlar: Tüm diziler aynı anda işlenir\n",
        "- np.inf: Sonsuzluk, üst sınır için kullanılır\n",
        "- enumerate(): Hem indeks hem değer için kullanışlı\n",
        "\"\"\""
      ],
      "metadata": {
        "id": "vWG7yFg9v1Jc"
      },
      "execution_count": null,
      "outputs": []
    },
    {
      "cell_type": "code",
      "source": [
        "import numpy as np\n",
        "\n",
        "# Gerçek hayat senaryosu: Üretim hattı kalite kontrolü\n",
        "print(\"\\n=== ÖRNEK 13: Kalite Kontrol Veri Analizi ===\")\n",
        "\n",
        "# 5 makinenin 10 günlük hata sayıları\n",
        "hata_verisi = np.array([\n",
        "    [2, 1, 0, 3, 2, 1, 0, 2, 1, 2],  # Makine 1\n",
        "    [5, 4, 6, 3, 5, 4, 5, 6, 4, 5],  # Makine 2\n",
        "    [1, 0, 1, 2, 0, 1, 1, 0, 2, 1],  # Makine 3\n",
        "    [3, 2, 4, 3, 2, 3, 4, 3, 2, 3],  # Makine 4\n",
        "    [0, 1, 0, 0, 1, 0, 0, 1, 0, 0]   # Makine 5\n",
        "])\n",
        "\n",
        "print(f\"Hata verisi (5 makine x 10 gün):\\n{hata_verisi}\")\n",
        "\n",
        "# Boolean indexing ile problemli günleri bul\n",
        "kritik_esik = 4\n",
        "problemli_gunler = hata_verisi > kritik_esik\n",
        "print(f\"Problemli günler (hata > {kritik_esik}):\\n{problemli_gunler}\")\n",
        "\n",
        "# Her makinenin problemli gün sayısı\n",
        "makine_problem_sayisi = np.sum(problemli_gunler, axis=1)\n",
        "print(f\"Makine problem sayıları: {makine_problem_sayisi}\")\n",
        "\n",
        "# En problemli makineyi bul\n",
        "en_problemli_makine = np.argmax(makine_problem_sayisi)\n",
        "print(f\"En problemli makine: {en_problemli_makine + 1}\")\n",
        "\n",
        "# Hareketli ortalama ile trend analizi (3 günlük)\n",
        "def hareketli_ortalama(dizi, pencere):\n",
        "    return np.convolve(dizi, np.ones(pencere)/pencere, mode='valid')\n",
        "\n",
        "makine_2_trend = hareketli_ortalama(hata_verisi[1], 3)\n",
        "print(f\"Makine 2 hareketli ortalama (3 gün): {makine_2_trend}\")\n",
        "\n",
        "\"\"\"\n",
        "AÇIKLAMALAR:\n",
        "- > operatörü: Element-wise büyüktür karşılaştırması\n",
        "- np.sum(axis=1): Satırlar boyunca toplam (her makinenin problem sayısı)\n",
        "- np.argmax(): Maksimum değerin indeksini döndürür\n",
        "- np.convolve(): Konvolüsyon ile hareketli ortalama hesaplar\n",
        "- mode='valid': Kenar efektleri olmadan geçerli pencereler\n",
        "\"\"\""
      ],
      "metadata": {
        "id": "PG86jqpsv_3a"
      },
      "execution_count": null,
      "outputs": []
    },
    {
      "cell_type": "code",
      "source": [
        "import numpy as np\n",
        "\n",
        "# Gerçek hayat senaryosu: Müşteri memnuniyet anketi analizi\n",
        "print(\"\\n=== ÖRNEK 14: Müşteri Memnuniyet Anketi ===\")\n",
        "\n",
        "# 20 müşterinin 5 soruya verdiği puanlar (1-5 arası)\n",
        "anket_verisi = np.array([\n",
        "    [5, 4, 3, 5, 4], [4, 3, 4, 4, 3], [5, 5, 5, 5, 5], [2, 3, 2, 3, 2],\n",
        "    [4, 4, 4, 4, 4], [3, 3, 4, 3, 3], [5, 4, 5, 4, 5], [1, 2, 1, 2, 1],\n",
        "    [4, 5, 4, 5, 4], [3, 4, 3, 4, 3], [5, 4, 4, 5, 4], [2, 2, 3, 2, 2],\n",
        "    [4, 4, 5, 4, 4], [3, 3, 3, 3, 3], [5, 5, 4, 5, 5], [4, 3, 4, 3, 4],\n",
        "    [3, 4, 3, 4, 3], [5, 4, 5, 4, 5], [2, 3, 2, 3, 2], [4, 4, 4, 4, 4]\n",
        "])\n",
        "\n",
        "print(f\"Anket verisi (20 müşteri x 5 soru):\\n{anket_verisi}\")\n",
        "\n",
        "# Soru bazında ortalama puanlar\n",
        "soru_ortalamalari = np.mean(anket_verisi, axis=0)\n",
        "print(f\"Soru ortalamaları: {soru_ortalamalari}\")\n",
        "\n",
        "# Müşteri bazında toplam puanlar\n",
        "musteri_toplamlari = np.sum(anket_verisi, axis=1)\n",
        "print(f\"Müşteri toplam puanları: {musteri_toplamlari}\")\n",
        "\n",
        "# Memnun müşterileri belirle (toplam puan >= 20)\n",
        "memnun_musteriler = musteri_toplamlari >= 20\n",
        "memnun_orani = np.mean(memnun_musteriler) * 100\n",
        "\n",
        "print(f\"Memnun müşteri sayısı: {np.sum(memnun_musteriler)}\")\n",
        "print(f\"Memnuniyet oranı: %{memnun_orani:.1f}\")\n",
        "\n",
        "# En düşük puan alan soruyu bul\n",
        "en_kotu_soru = np.argmin(soru_ortalamalari)\n",
        "print(f\"En düşük puan alan soru: {en_kotu_soru + 1} (ortalama: {soru_ortalamalari[en_kotu_soru]:.2f})\")\n",
        "\n",
        "\"\"\"\n",
        "AÇIKLAMALAR:\n",
        "- axis=0: Sütunlar boyunca ortalama (her sorunun ortalaması)\n",
        "- axis=1: Satırlar boyunca toplam (her müşterinin toplam puanı)\n",
        "- >= operatörü: Boolean dizi oluşturur\n",
        "- np.argmin(): Minimum değerin indeksini döndürür\n",
        "- Boolean dizide np.mean(): True oranını hesaplar\n",
        "\"\"\""
      ],
      "metadata": {
        "id": "_72yXNdKwG3t"
      },
      "execution_count": null,
      "outputs": []
    },
    {
      "cell_type": "code",
      "source": [
        "import numpy as np\n",
        "\n",
        "# Gerçek hayat senaryosu: Portföy risk analizi\n",
        "print(\"\\n=== ÖRNEK 15: Finansal Risk Analizi ===\")\n",
        "\n",
        "# 5 farklı hisse senedinin 30 günlük getiri oranları (%)\n",
        "getiri_verisi = np.random.normal(0.1, 2, size=(5, 30))  # Ortalama %0.1, std %2\n",
        "print(f\"Getiri verisi (5 hisse x 30 gün):\\n{getiri_verisi}\")\n",
        "\n",
        "# Her hissenin ortalama getirisi ve volatilitesi\n",
        "hisse_ortalamalari = np.mean(getiri_verisi, axis=1)\n",
        "hisse_volatiliteleri = np.std(getiri_verisi, axis=1)\n",
        "\n",
        "print(f\"Hisse ortalamaları (%): {hisse_ortalamalari}\")\n",
        "print(f\"Hisse volatiliteleri (%): {hisse_volatiliteleri}\")\n",
        "\n",
        "# Risk-getiri analizi: Sharpe Oranı (risk-free rate = %0.05)\n",
        "risk_free_rate = 0.05\n",
        "sharpe_oranlari = (hisse_ortalamalari - risk_free_rate) / hisse_volatiliteleri\n",
        "\n",
        "print(f\"Sharpe oranları: {sharpe_oranlari}\")\n",
        "\n",
        "# En iyi performans gösteren hisseyi bul\n",
        "en_iyi_hisse = np.argmax(sharpe_oranlari)\n",
        "print(f\"En iyi performans gösteren hisse: {en_iyi_hisse + 1}\")\n",
        "\n",
        "# Korelasyon matrisi\n",
        "korelasyon_matrisi = np.corrcoef(getiri_verisi)\n",
        "print(f\"Korelasyon matrisi:\\n{korelasyon_matrisi}\")\n",
        "\n",
        "# Yüksek korelasyonlu hisse çiftlerini bul\n",
        "yuksek_korelasyon_esigi = 0.7\n",
        "yuksek_korelasyonlar = np.where((korelasyon_matrisi > yuksek_korelasyon_esihi) &\n",
        "                               (korelasyon_matrisi < 1.0))  # 1.0'dan küçük (kendisiyle korelasyon değil)\n",
        "\n",
        "print(f\"Yüksek korelasyonlu hisse çiftleri: {list(zip(yuksek_korelasyonlar[0], yuksek_korelasyonlar[1]))}\")\n",
        "\n",
        "\"\"\"\n",
        "AÇIKLAMALAR:\n",
        "- np.random.normal(): Normal dağılımdan rastgele sayılar üretir\n",
        "- axis=1: Satırlar boyunca istatistik (her hissenin istatistiği)\n",
        "- Sharpe Oranı: Risk birimi başına getiriyi ölçer\n",
        "- np.corrcoef(): Korelasyon matrisi hesaplar\n",
        "- np.where() + koşul: Matriste koşulu sağlayan pozisyonları bulur\n",
        "- zip(): İki listeyi çiftler halinde birleştirir\n",
        "\"\"\""
      ],
      "metadata": {
        "id": "c0LNSCzFwNKa"
      },
      "execution_count": null,
      "outputs": []
    }
  ]
}